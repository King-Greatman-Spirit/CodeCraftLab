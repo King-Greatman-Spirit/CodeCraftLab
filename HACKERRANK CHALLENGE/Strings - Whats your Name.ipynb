{
 "cells": [
  {
   "cell_type": "markdown",
   "id": "07031b1b",
   "metadata": {},
   "source": [
    "You are given the firstname and lastname of a person on two different lines. Your task is to read them and print the following:\n",
    "\n",
    "Hello firstname lastname! You just delved into python.\n",
    "\n",
    "*Function Description*\n",
    "\n",
    "Complete the print_full_name function in the editor below.\n",
    "\n",
    "print_full_name has the following parameters:\n",
    "\n",
    "string first: the first name\n",
    "string last: the last name\n",
    "Prints\n",
    "\n",
    "string: 'Hello  firstname lastname! You just delved into python' where firstname and lastname are replaced with first and last.\n",
    "Input Format\n",
    "\n",
    "The first line contains the first name, and the second line contains the last name.\n",
    "\n",
    "Constraints\n",
    "\n",
    "The length of the first and last names are each ≤ 10.\n",
    "\n",
    "Sample Input 0\n",
    "\n",
    "Ross\n",
    "Taylor\n",
    "Sample Output 0\n",
    "\n",
    "Hello Ross Taylor! You just delved into python.\n",
    "Explanation 0\n",
    "\n",
    "The input read by the program is stored as a string data type. A string is a collection of characters."
   ]
  },
  {
   "cell_type": "code",
   "execution_count": null,
   "id": "3668fce9",
   "metadata": {},
   "outputs": [],
   "source": [
    "#\n",
    "# Complete the 'print_full_name' function below.\n",
    "#\n",
    "# The function is expected to return a STRING.\n",
    "# The function accepts following parameters:\n",
    "#  1. STRING first\n",
    "#  2. STRING last\n",
    "#\n",
    "\n",
    "def print_full_name(first, last):\n",
    "    # Write your code here\n",
    "\n",
    "if __name__ == '__main__':\n",
    "    first_name = input()\n",
    "    last_name = input()\n",
    "    print_full_name(first_name, last_name)"
   ]
  },
  {
   "cell_type": "code",
   "execution_count": 1,
   "id": "eb4229f8",
   "metadata": {},
   "outputs": [
    {
     "name": "stdout",
     "output_type": "stream",
     "text": [
      "Enter your first name: King\n",
      "Enter your last name: Greatman\n",
      "Hello King Greatman! You just delved into python.\n"
     ]
    }
   ],
   "source": [
    "def print_full_name(first, last):\n",
    "    \"\"\"\n",
    "    Prints a greeting to the user with their first and last name.\n",
    "\n",
    "    Args:\n",
    "        first: The user's first name (string).\n",
    "        last: The user's last name (string).\n",
    "\n",
    "    Returns:\n",
    "        None. The function prints a message to the console but does not return a value.\n",
    "    \"\"\"\n",
    "\n",
    "    welcome_message = f\"Hello {first} {last}! You just delved into python.\"\n",
    "    print(welcome_message)\n",
    "\n",
    "if __name__ == '__main__':\n",
    "    \"\"\"\n",
    "    Main execution block where the user inputs their first and last name.\n",
    "    Only runs if the script is executed directly, not imported as a module.\n",
    "    \"\"\"\n",
    "\n",
    "    first_name = input(\"Enter your first name: \")\n",
    "    last_name = input(\"Enter your last name: \")\n",
    "\n",
    "    print_full_name(first_name, last_name)\n"
   ]
  },
  {
   "cell_type": "code",
   "execution_count": null,
   "id": "2cf0a4b1",
   "metadata": {},
   "outputs": [],
   "source": []
  }
 ],
 "metadata": {
  "kernelspec": {
   "display_name": "Python 3 (ipykernel)",
   "language": "python",
   "name": "python3"
  },
  "language_info": {
   "codemirror_mode": {
    "name": "ipython",
    "version": 3
   },
   "file_extension": ".py",
   "mimetype": "text/x-python",
   "name": "python",
   "nbconvert_exporter": "python",
   "pygments_lexer": "ipython3",
   "version": "3.11.4"
  }
 },
 "nbformat": 4,
 "nbformat_minor": 5
}

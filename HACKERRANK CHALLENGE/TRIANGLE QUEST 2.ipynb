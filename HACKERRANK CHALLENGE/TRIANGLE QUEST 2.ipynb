{
 "cells": [
  {
   "cell_type": "code",
   "execution_count": null,
   "id": "f738135e",
   "metadata": {},
   "outputs": [],
   "source": [
    "You are given a positive integer N.\n",
    "Your task is to print a palindromic triangle of size N.\n",
    "\n",
    "For example, a palindromic triangle of size 5 is:\n",
    "\n",
    "1\n",
    "121\n",
    "12321\n",
    "1234321\n",
    "123454321\n",
    "You can't take more than two lines. The first line (a for-statement) is already written for you.\n",
    "You have to complete the code using exactly one print statement.\n",
    "\n",
    "Note:\n",
    "Using anything related to strings will give a score of 0.\n",
    "Using more than one for-statement will give a score of 0.\n",
    "\n",
    "Input Format\n",
    "\n",
    "A single line of input containing the integer N.\n",
    "\n",
    "Constraints\n",
    "0 < N < 10\n",
    "\n",
    "Output Format\n",
    "\n",
    "Print the palindromic triangle of size N as explained above.\n",
    "\n",
    "Sample Input\n",
    "\n",
    "5\n",
    "Sample Output\n",
    "\n",
    "1\n",
    "121\n",
    "12321\n",
    "1234321\n",
    "123454321"
   ]
  },
  {
   "cell_type": "code",
   "execution_count": null,
   "id": "267a92d8",
   "metadata": {},
   "outputs": [],
   "source": [
    "# Enter your code here. Read input from STDIN. Print output to STDOUT"
   ]
  },
  {
   "cell_type": "code",
   "execution_count": 1,
   "id": "3962012a",
   "metadata": {},
   "outputs": [
    {
     "name": "stdout",
     "output_type": "stream",
     "text": [
      "5\n",
      "11\n",
      "22\n",
      "33\n",
      "44\n",
      "55\n"
     ]
    }
   ],
   "source": [
    "if __name__ == '__main__':\n",
    "    # Read the integer 'N' from input\n",
    "    N = int(input())\n",
    "    \n",
    "    # Use a single line print statement to generate the palindromic triangle\n",
    "    # The first line of the print statement generates the numbers in increasing order\n",
    "    # The second line reverses the order and prints the palindromic triangle\n",
    "    print('\\n'.join(str(i) + str(i)[::-1] for i in range(1, N + 1)))\n"
   ]
  },
  {
   "cell_type": "code",
   "execution_count": 10,
   "id": "f16e4dda",
   "metadata": {},
   "outputs": [
    {
     "name": "stdout",
     "output_type": "stream",
     "text": [
      "5\n",
      "11\n",
      "111\n",
      "11121\n",
      "1111221\n",
      "111112221\n"
     ]
    }
   ],
   "source": [
    "if __name__ == '__main__':\n",
    "    N = int(input())  # Read the integer N from input\n",
    "    \n",
    "    # Use a nested for-loop to print the palindromic triangle\n",
    "    [print(int('1'*i + '2'*max(i-2, 0) + '1')) for i in range(1, N + 1)]\n"
   ]
  },
  {
   "cell_type": "code",
   "execution_count": 16,
   "id": "785033a6",
   "metadata": {},
   "outputs": [
    {
     "name": "stdout",
     "output_type": "stream",
     "text": [
      "5\n",
      "1\n",
      "121\n",
      "12321\n",
      "1234321\n",
      "123454321\n"
     ]
    }
   ],
   "source": [
    "for i in range(1, int(input()) + 1):  # Iterate over the range from 1 to N (inclusive)\n",
    "    print(((10 ** i - 1) // 9) ** 2)\n"
   ]
  },
  {
   "cell_type": "code",
   "execution_count": null,
   "id": "a8152e6b",
   "metadata": {},
   "outputs": [],
   "source": [
    "for i in range(1, int(input()) + 1):  # Iterate over the range from 1 to N (inclusive)\n",
    "    print(((10 ** i - 1) // 9) ** 2)\n"
   ]
  },
  {
   "cell_type": "code",
   "execution_count": 21,
   "id": "0fb19857",
   "metadata": {},
   "outputs": [
    {
     "name": "stdout",
     "output_type": "stream",
     "text": [
      "5\n",
      "1\n",
      "121\n",
      "12321\n",
      "1234321\n",
      "123454321\n"
     ]
    }
   ],
   "source": [
    "# Read the integer N from input\n",
    "N = int(input())\n",
    "\n",
    "# Iterate over the range from 1 to N (inclusive)\n",
    "for i in range(1, N + 1):\n",
    "    # Generate the palindrome for each row using the formula\n",
    "    palindrome = ((10 ** i - 1) // 9) ** 2\n",
    "    \n",
    "    # Print the palindrome\n",
    "    print(palindrome)\n"
   ]
  },
  {
   "cell_type": "code",
   "execution_count": 23,
   "id": "0dcdb900",
   "metadata": {},
   "outputs": [
    {
     "name": "stdout",
     "output_type": "stream",
     "text": [
      "5\n",
      "1\n",
      "121\n",
      "12321\n",
      "1234321\n",
      "123454321\n"
     ]
    }
   ],
   "source": [
    "# Read the ints N from input\n",
    "N = int(input())\n",
    "\n",
    "# Iterate over the range from 1 to N (inclusive)\n",
    "for i in range(1, N + 1):\n",
    "    # Generate the palindrome for each row using the formular\n",
    "    palindrome = ((10 ** i - 1) // 9) ** 2\n",
    "    \n",
    "    # Print the palindrome\n",
    "    print(palindrome)"
   ]
  },
  {
   "cell_type": "code",
   "execution_count": null,
   "id": "cd5d688b",
   "metadata": {},
   "outputs": [],
   "source": []
  }
 ],
 "metadata": {
  "kernelspec": {
   "display_name": "Python 3 (ipykernel)",
   "language": "python",
   "name": "python3"
  },
  "language_info": {
   "codemirror_mode": {
    "name": "ipython",
    "version": 3
   },
   "file_extension": ".py",
   "mimetype": "text/x-python",
   "name": "python",
   "nbconvert_exporter": "python",
   "pygments_lexer": "ipython3",
   "version": "3.11.4"
  }
 },
 "nbformat": 4,
 "nbformat_minor": 5
}

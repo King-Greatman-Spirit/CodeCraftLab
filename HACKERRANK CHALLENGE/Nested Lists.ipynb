{
 "cells": [
  {
   "cell_type": "markdown",
   "id": "ac784145",
   "metadata": {},
   "source": [
    "Given the names and grades for each student in a class of  students, store them in a nested list and print the name(s) of any student(s) having the second lowest grade.\n",
    "\n",
    "Note: If there are multiple students with the second lowest grade, order their names alphabetically and print each name on a new line.\n",
    "\n",
    "Example\n",
    "\n",
    "The ordered list of scores is , so the second lowest score is . There are two students with that score: . Ordered alphabetically, the names are printed as:\n",
    "\n",
    "alpha\n",
    "beta\n",
    "Input Format\n",
    "\n",
    "The first line contains an integer, , the number of students.\n",
    "The  subsequent lines describe each student over  lines.\n",
    "- The first line contains a student's name.\n",
    "- The second line contains their grade.\n",
    "\n",
    "Constraints\n",
    "\n",
    "There will always be one or more students having the second lowest grade.\n",
    "Output Format\n",
    "\n",
    "Print the name(s) of any student(s) having the second lowest grade in. If there are multiple students, order their names alphabetically and print each one on a new line.\n",
    "\n",
    "Sample Input 0\n",
    "\n",
    "5\n",
    "Harry\n",
    "37.21\n",
    "Berry\n",
    "37.21\n",
    "Tina\n",
    "37.2\n",
    "Akriti\n",
    "41\n",
    "Harsh\n",
    "39\n",
    "Sample Output 0\n",
    "\n",
    "Berry\n",
    "Harry\n",
    "Explanation 0\n",
    "\n",
    "There are  students in this class whose names and grades are assembled to build the following list:\n",
    "\n",
    "python students = [['Harry', 37.21], ['Berry', 37.21], ['Tina', 37.2], ['Akriti', 41], ['Harsh', 39]]\n",
    "\n",
    "The lowest grade of  belongs to Tina. The second lowest grade of  belongs to both Harry and Berry, so we order their names alphabetically and print each name on a new line."
   ]
  },
  {
   "cell_type": "code",
   "execution_count": 1,
   "id": "1a396305",
   "metadata": {},
   "outputs": [
    {
     "name": "stdout",
     "output_type": "stream",
     "text": [
      "37.21\n"
     ]
    },
    {
     "ename": "ValueError",
     "evalue": "invalid literal for int() with base 10: '37.21'",
     "output_type": "error",
     "traceback": [
      "\u001b[1;31m---------------------------------------------------------------------------\u001b[0m",
      "\u001b[1;31mValueError\u001b[0m                                Traceback (most recent call last)",
      "Cell \u001b[1;32mIn[1], line 3\u001b[0m\n\u001b[0;32m      1\u001b[0m \u001b[38;5;28;01mif\u001b[39;00m \u001b[38;5;18m__name__\u001b[39m \u001b[38;5;241m==\u001b[39m \u001b[38;5;124m'\u001b[39m\u001b[38;5;124m__main__\u001b[39m\u001b[38;5;124m'\u001b[39m:\n\u001b[0;32m      2\u001b[0m     \u001b[38;5;66;03m# Read the number of students\u001b[39;00m\n\u001b[1;32m----> 3\u001b[0m     n \u001b[38;5;241m=\u001b[39m \u001b[38;5;28mint\u001b[39m(\u001b[38;5;28minput\u001b[39m())\n\u001b[0;32m      5\u001b[0m     \u001b[38;5;66;03m# initialize a list to store student names and grades\u001b[39;00m\n\u001b[0;32m      6\u001b[0m     students \u001b[38;5;241m=\u001b[39m []\n",
      "\u001b[1;31mValueError\u001b[0m: invalid literal for int() with base 10: '37.21'"
     ]
    }
   ],
   "source": [
    "if __name__ == '__main__':\n",
    "    # Read the number of students\n",
    "    n = int(input())\n",
    "    \n",
    "    # initialize a list to store student names and grades\n",
    "    students = []\n",
    "    \n",
    "    # Read student names and grades and store them in the list\n",
    "    for _ in range(n):\n",
    "        name = input()\n",
    "        score = float(input())\n",
    "        students.append([name, score])\n",
    "        \n",
    "    # Find the second lowest grade\n",
    "    second_lowest_grade = sorted(Set(score for name, score in studebts))[1]\n",
    "    \n",
    "    # Find and print the name of students with the second lowest grade\n",
    "    for name, score in sorted(students):\n",
    "        if score == second_lowest_grade:\n",
    "            print(name)"
   ]
  },
  {
   "cell_type": "code",
   "execution_count": null,
   "id": "b56b4436",
   "metadata": {},
   "outputs": [],
   "source": [
    "// Javascript\n",
    "const readline = require('readline');\n",
    "\n",
    "const r1 = rreadline.createInterface({\n",
    "    input: process.stdin,\n",
    "    output: process.stdout\n",
    "});\n",
    "\n",
    "// Initialize an array to store student names and grades\n",
    "const students = [];\n",
    "\n",
    "// Read the number of students\n",
    "r1. question('Enter the number of students: ', (n) => {\n",
    "    // Read student names and grades and store them in the array\n",
    "    for (let i = 0; i < n; i++) {\n",
    "        r1.question('Enter student name: ', (name) => {\n",
    "            r1.question('Enter student grade: ', (score) => {\n",
    "                students.push({ name, score: parseFloat(score) });\n",
    "                \n",
    "                // If all students are entered, find and print the result\n",
    "                if (students.length === n) {\n",
    "                    findAndPrintSecondLowest(student);\n",
    "                    r1.close();\n",
    "                }\n",
    "            });\n",
    "        });\n",
    "    }\n",
    "});\n",
    "\n",
    "// Function to find and print the name of students with the second lowest grade\n",
    "function findAndPrintSecondLowest(student) {\n",
    "    // Find the second lowest grade\n",
    "    const uniqueScores = [...new Set(students.map(Student => student.score))]\n",
    "    const sortedUniqueScores = uiqueScores.sort((a, b) => a - b);\n",
    "    const secondLowestGrade = sortedUniqueScores[1];\n",
    "    \n",
    "    // Find and print the name of students with the second lowest grade\n",
    "    students\n",
    "    .filter(students => student.score === secondLowestGrade)\n",
    "    .filter((a, b) => a.name.localCompare(b.name))\n",
    "    .forEach(student => console.log(Student.name));\n",
    "}"
   ]
  }
 ],
 "metadata": {
  "kernelspec": {
   "display_name": "Python 3 (ipykernel)",
   "language": "python",
   "name": "python3"
  },
  "language_info": {
   "codemirror_mode": {
    "name": "ipython",
    "version": 3
   },
   "file_extension": ".py",
   "mimetype": "text/x-python",
   "name": "python",
   "nbconvert_exporter": "python",
   "pygments_lexer": "ipython3",
   "version": "3.11.4"
  }
 },
 "nbformat": 4,
 "nbformat_minor": 5
}

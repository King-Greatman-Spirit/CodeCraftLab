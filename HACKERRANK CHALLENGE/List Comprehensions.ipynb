{
 "cells": [
  {
   "cell_type": "markdown",
   "id": "c281c2e5",
   "metadata": {},
   "source": [
    "Let's learn about list comprehensions! You are given three integers  and  representing the dimensions of a cuboid along with an integer . Print a list of all possible coordinates given by  on a 3D grid where the sum of  is not equal to . Here, . Please use list comprehensions rather than multiple loops, as a learning exercise.\n",
    "\n",
    "Example\n",
    "\n",
    "\n",
    "\n",
    "\n",
    "All permutations of  are:\n",
    ".\n",
    "\n",
    "Print an array of the elements that do not sum to .\n",
    "\n",
    "\n",
    "Input Format\n",
    "\n",
    "Four integers  and , each on a separate line.\n",
    "\n",
    "Constraints\n",
    "\n",
    "Print the list in lexicographic increasing order.\n",
    "\n",
    "Sample Input 0\n",
    "\n",
    "1\n",
    "1\n",
    "1\n",
    "2\n",
    "Sample Output 0\n",
    "\n",
    "[[0, 0, 0], [0, 0, 1], [0, 1, 0], [1, 0, 0], [1, 1, 1]]\n",
    "Explanation 0\n",
    "\n",
    "Each variable  and  will have values of  or . All permutations of lists in the form .\n",
    "Remove all arrays that sum to  to leave only the valid permutations.\n",
    "\n",
    "Sample Input 1\n",
    "\n",
    "2\n",
    "2\n",
    "2\n",
    "2\n",
    "Sample Output 1\n",
    "\n",
    "[[0, 0, 0], [0, 0, 1], [0, 1, 0], [0, 1, 2], [0, 2, 1], [0, 2, 2], [1, 0, 0], [1, 0,"
   ]
  },
  {
   "cell_type": "code",
   "execution_count": null,
   "id": "74e3189c",
   "metadata": {},
   "outputs": [],
   "source": [
    "# Take input for the dimensions of the cuboid\n",
    "if __name__ == '__main__':\n",
    "    x = int(input())  # Input for dimension x\n",
    "    y = int(input())  # Input for dimension y\n",
    "    z = int(input())  # Input for dimension z\n",
    "    n = int(input())  # Input for integer n\n",
    "\n",
    "# Use list comprehension to generate all possible coordinates in a 3D grid\n",
    "# where the sum of coordinates is not equal to n\n",
    "result = [[i, j, k] for i in range(x + 1) for j in range(y + 1) for k in range(z + 1) if i + j + k != n]\n",
    "\n",
    "# Print the final list of coordinates\n",
    "print(result)\n"
   ]
  },
  {
   "cell_type": "code",
   "execution_count": null,
   "id": "6ff79b1b",
   "metadata": {},
   "outputs": [],
   "source": [
    "if __name__ == '___main__':\n",
    "    x = int(input())\n",
    "    y = int(input())\n",
    "    z = int(input())\n",
    "    n = int(input())\n",
    "    \n",
    "answer = [[i, j, k] for i in range(x + 1) for j in range(y + 1) for k in range(z + 1) if i + j + k != n]\n",
    "\n",
    "print(answer)"
   ]
  },
  {
   "cell_type": "code",
   "execution_count": null,
   "id": "174e848e",
   "metadata": {},
   "outputs": [],
   "source": [
    "if __name__ == '___main__':\n",
    "    x = int(input())\n",
    "    y = int(input())\n",
    "    z = int(input())\n",
    "    n = int(input())\n",
    "    answer = []\n",
    "    \n",
    "    for i in range(x + 1):\n",
    "        for j in range(y + 1):\n",
    "            for k in range(z + 1):\n",
    "                if i + j + k != n:\n",
    "                    answer.append([i, j, k])\n",
    "print(answer)"
   ]
  },
  {
   "cell_type": "code",
   "execution_count": null,
   "id": "ed31a9ae",
   "metadata": {},
   "outputs": [],
   "source": [
    "if __name__ == '__main__':\n",
    "    x = int(input())\n",
    "    y = int(input())\n",
    "    z = int(input())\n",
    "    n = int(input())\n",
    "\n",
    "# Initialize an empty list to store the coordinates\n",
    "result = []\n",
    "\n",
    "# Use nested for loops to generate all possible coordinates in a 3D grid\n",
    "for i in range(x + 1):\n",
    "    for j in range(y + 1):\n",
    "        for k in range(z + 1):\n",
    "            # Check if the sum of coordinates is not equal to n\n",
    "            if i + j + k != n:\n",
    "                # Add the coordinates to the result list\n",
    "                result.append([i, j, k])\n",
    "\n",
    "# Print the final list of coordinates\n",
    "print(result)\n"
   ]
  }
 ],
 "metadata": {
  "kernelspec": {
   "display_name": "Python 3 (ipykernel)",
   "language": "python",
   "name": "python3"
  },
  "language_info": {
   "codemirror_mode": {
    "name": "ipython",
    "version": 3
   },
   "file_extension": ".py",
   "mimetype": "text/x-python",
   "name": "python",
   "nbconvert_exporter": "python",
   "pygments_lexer": "ipython3",
   "version": "3.11.4"
  }
 },
 "nbformat": 4,
 "nbformat_minor": 5
}

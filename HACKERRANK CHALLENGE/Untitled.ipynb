{
 "cells": [
  {
   "cell_type": "code",
   "execution_count": null,
   "id": "13d87a57",
   "metadata": {},
   "outputs": [
    {
     "name": "stdout",
     "output_type": "stream",
     "text": [
      "Example Output: 2\n"
     ]
    }
   ],
   "source": [
    "# Define a function to count the occurrences of a substring in a given string\n",
    "def count_substring(string, sub_string):\n",
    "    count = 0  # Initialize a counter for substring occurrences\n",
    "    \n",
    "    # Iterate through the string using a sliding window of length equal to the substring\n",
    "    for i in range(len(string) - len(sub_string) + 1):\n",
    "        # Check if the substring matches the current window in the string\n",
    "        if string[i:i+len(sub_string)] == sub_string:\n",
    "            count += 1  # Increment the counter if a match is found\n",
    "    \n",
    "    return count  # Return the final count\n",
    "\n",
    "# Check if the code is being run as the main program\n",
    "if __name__ == '__main__':\n",
    "    # Example Input\n",
    "    example_string = \"ABCDCDC\"  # Example original string\n",
    "    example_sub_string = \"CDC\"  # Example substring\n",
    "    \n",
    "    # Count the occurrences of the substring in the original string\n",
    "    example_count = count_substring(example_string, example_sub_string)\n",
    "    \n",
    "    # Print the count for the example\n",
    "    print(f\"Example Output: {example_count}\")\n",
    "    \n",
    "    # User Input\n",
    "    user_string = input(\"Enter the original string: \").strip()  # Prompt user to enter original string\n",
    "    user_sub_string = input(\"Enter the substring: \").strip()  # Prompt user to enter substring\n",
    "    \n",
    "    # Count the occurrences of the substring in the user-input string\n",
    "    user_count = count_substring(user_string, user_sub_string)\n",
    "    \n",
    "    # Print the count for the user input\n",
    "    print(f\"User Input Output: {user_count}\")"
   ]
  },
  {
   "cell_type": "code",
   "execution_count": null,
   "id": "630f2e63",
   "metadata": {},
   "outputs": [],
   "source": []
  }
 ],
 "metadata": {
  "kernelspec": {
   "display_name": "Python 3 (ipykernel)",
   "language": "python",
   "name": "python3"
  }
 },
 "nbformat": 4,
 "nbformat_minor": 5
}

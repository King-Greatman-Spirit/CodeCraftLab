{
 "cells": [
  {
   "cell_type": "code",
   "execution_count": null,
   "id": "166a782b",
   "metadata": {},
   "outputs": [],
   "source": [
    "We define subsequence as any subset of an array. We define a subarray as a contiguous subsequence in an array.\n",
    "\n",
    "Given an array, find the maximum possible sum among:\n",
    "\n",
    "1. all nonempty subarrays.\n",
    "2. all nonempty subsequences.\n",
    "Print the two values as space-separated integers on one line.\n",
    "\n",
    "Note that empty subarrays/subsequences should not be considered.\n",
    "\n",
    "Example\n",
    "arr = [-1,2,3,-4,5,10]\n",
    "\n",
    "The maximum subarray sum is comprised of elements at inidices [1 - 5]. Their sum is 2+3+4+5+10=16. \n",
    "The maximum subsequence sum is comprised of elements at indices [1,2,4,5] and their sum is 2+3+5+10=20.\n",
    "\n",
    "Function Description\n",
    "\n",
    "Complete the maxSubarray function in the editor below.\n",
    "\n",
    "maxSubarray has the following parameter(s):\n",
    "\n",
    "int arr[n]: an array of integers\n",
    "Returns\n",
    "\n",
    "int[2]: the maximum subarray and subsequence sums"
   ]
  },
  {
   "cell_type": "code",
   "execution_count": null,
   "id": "873e90de",
   "metadata": {},
   "outputs": [],
   "source": [
    "#!/bin/python3\n",
    "\n",
    "import math\n",
    "import os\n",
    "import random\n",
    "import re\n",
    "import sys\n",
    "\n",
    "#\n",
    "# Complete the 'maxSubarray' function below.\n",
    "#\n",
    "# The function is expected to return an INTEGER_ARRAY.\n",
    "# The function accepts INTEGER_ARRAY arr as parameter.\n",
    "#\n",
    "\n",
    "def maxSubarray(arr):\n",
    "    # Write your code here\n",
    "\n",
    "if __name__ == '__main__':\n",
    "    fptr = open(os.environ['OUTPUT_PATH'], 'w')\n",
    "\n",
    "    t = int(input().strip())\n",
    "\n",
    "    for t_itr in range(t):\n",
    "        n = int(input().strip())\n",
    "\n",
    "        arr = list(map(int, input().rstrip().split()))\n",
    "\n",
    "        result = maxSubarray(arr)\n",
    "\n",
    "        fptr.write(' '.join(map(str, result)))\n",
    "        fptr.write('\\n')\n",
    "\n",
    "    fptr.close()\n"
   ]
  },
  {
   "cell_type": "code",
   "execution_count": 10,
   "id": "06cd9860",
   "metadata": {},
   "outputs": [
    {
     "name": "stdout",
     "output_type": "stream",
     "text": [
      "(16, 20)\n",
      "(10, 10)\n"
     ]
    }
   ],
   "source": [
    "import sys\n",
    "def maxSubarray(arr):\n",
    "    # Write your code here\n",
    "    subSequenceSum = 0\n",
    "    subArraySum = -sys.maxsize\n",
    "    subSequenceTemp = -sys.maxsize\n",
    "    subArrayTemp = 0\n",
    "    \n",
    "    # Iterate the Array\n",
    "    for num in arr:\n",
    "        # subsequence\n",
    "        if num >0:\n",
    "            subSequenceSum += num\n",
    "            \n",
    "        # maximum subarray\n",
    "        subArrayTemp = subArrayTemp + num\n",
    "        if subArrayTemp > subArraySum:\n",
    "            subArraySum = subArrayTemp\n",
    "            \n",
    "        if subArrayTemp < 0:\n",
    "            subArrayTemp = 0\n",
    "            \n",
    "    if subSequenceSum == 0:\n",
    "        subSequenceSum = subSequenceTemp\n",
    "        \n",
    "    return subArraySum, subSequenceSum\n",
    "    \n",
    "arr1 = [-1,2,3,-4,5,10]\n",
    "arr2 = [1,2,3,4]\n",
    "print( maxSubarray(arr1))\n",
    "print( maxSubarray(arr2))"
   ]
  },
  {
   "cell_type": "code",
   "execution_count": 5,
   "id": "2d6f303f",
   "metadata": {},
   "outputs": [
    {
     "ename": "SyntaxError",
     "evalue": "invalid syntax (2263393488.py, line 1)",
     "output_type": "error",
     "traceback": [
      "\u001b[1;36m  Cell \u001b[1;32mIn[5], line 1\u001b[1;36m\u001b[0m\n\u001b[1;33m    function maxSubarray\u001b[0m\n\u001b[1;37m             ^\u001b[0m\n\u001b[1;31mSyntaxError\u001b[0m\u001b[1;31m:\u001b[0m invalid syntax\n"
     ]
    }
   ],
   "source": [
    "function maxSubarray(arr) {\n",
    "    // write your code here\n",
    "    if(arr.every(el=> el < 0)) {\n",
    "        console.log(\"All Negative\");\n",
    "        let sorted = arr.sort((a,b)=> b-a);\n",
    "        return (sorted[0], sorted[0]);\n",
    "    }\n",
    "    \n",
    "    if (arr.every(el=> el > 0)){\n",
    "        console.log(\"All are Positive\");\n",
    "        let reduced = arr.reduce((acc,value)=> acc+value);\n",
    "        console.log(\"reduced: \", reduced);\n",
    "    }\n",
    "    \n",
    "    let best = 0;\n",
    "    let current = 0;\n",
    "    let max = 0;\n",
    "    \n",
    "    arr.forEach(el=> {\n",
    "        console.log(el);\n",
    "        \n",
    "        current = Math.max(0, current + el);\n",
    "        best = Math.max(best, current);\n",
    "        \n",
    "        max = Math.max(max, max+el);\n",
    "    })\n",
    "    console.log(best);\n",
    "    console.log(max);\n",
    "    \n",
    "    return [best, max];\n",
    "    \n",
    "}\n",
    "\n",
    "let arr = [-1,2,3,-4,5,10]\n",
    "console.log(maxSubarray(arr));\n"
   ]
  },
  {
   "cell_type": "code",
   "execution_count": null,
   "id": "f7aea534",
   "metadata": {},
   "outputs": [],
   "source": []
  }
 ],
 "metadata": {
  "kernelspec": {
   "display_name": "Python 3 (ipykernel)",
   "language": "python",
   "name": "python3"
  },
  "language_info": {
   "codemirror_mode": {
    "name": "ipython",
    "version": 3
   },
   "file_extension": ".py",
   "mimetype": "text/x-python",
   "name": "python",
   "nbconvert_exporter": "python",
   "pygments_lexer": "ipython3",
   "version": "3.11.4"
  }
 },
 "nbformat": 4,
 "nbformat_minor": 5
}

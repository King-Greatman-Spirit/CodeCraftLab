{
 "cells": [
  {
   "cell_type": "code",
   "execution_count": null,
   "id": "b771f70e",
   "metadata": {},
   "outputs": [],
   "source": [
    "User\n",
    "Task\n",
    "The provided code stub reads and integer, , from STDIN. For all non-negative integers i<n, print i^2.\n",
    "\n",
    "Example\n",
    "n = 3\n",
    "The list of non-negative integers that are less than n = 3 is [0, 1, 2]. \n",
    "Print the square of each number on a separate line.\n",
    "\n",
    "0\n",
    "1\n",
    "4\n",
    "Input Format\n",
    "\n",
    "The first and only line contains the integer, .\n",
    "\n",
    "Constraints\n",
    "\n",
    "\n",
    "Output Format\n",
    "\n",
    "Print  lines, one corresponding to each .\n",
    "\n",
    "Sample Input 0\n",
    "\n",
    "5\n",
    "Sample Output 0\n",
    "\n",
    "0\n",
    "1\n",
    "4\n",
    "9\n",
    "16"
   ]
  },
  {
   "cell_type": "code",
   "execution_count": 1,
   "id": "dc7abdcd",
   "metadata": {},
   "outputs": [
    {
     "name": "stdout",
     "output_type": "stream",
     "text": [
      "Enter a non-negative integer: 3\n",
      "0\n",
      "1\n",
      "4\n"
     ]
    }
   ],
   "source": [
    "if __name__ == '__main__':\n",
    "    n = (int(input('Enter a non-negative integer: ')))\n",
    "    \n",
    "    for i in range(n):\n",
    "        print(i ** 2)\n"
   ]
  },
  {
   "cell_type": "code",
   "execution_count": 4,
   "id": "7b5a2eac",
   "metadata": {},
   "outputs": [
    {
     "name": "stdout",
     "output_type": "stream",
     "text": [
      "Enter a non-negative integer: 3\n",
      "0\n",
      "1\n",
      "4\n"
     ]
    }
   ],
   "source": [
    "# Check if the script is being run as the main program\n",
    "if __name__ == '__main__':\n",
    "    # Prompt the user to enter a non-negative integer and convert it to an integer\n",
    "    n = int(input(\"Enter a non-negative integer: \"))\n",
    "    \n",
    "    # Iterate over the range of non-negative integers from 0 to n-1\n",
    "    for i in range(n):\n",
    "        # Print the square of each number on a separate line\n",
    "        print(i ** 2)\n"
   ]
  },
  {
   "cell_type": "code",
   "execution_count": null,
   "id": "48f60886",
   "metadata": {},
   "outputs": [],
   "source": [
    "const readline = require('readline');\n",
    "\n",
    "const rl = readline.createInterface({\n",
    "  input: process.stdin,\n",
    "  output: process.stdout\n",
    "});\n",
    "\n",
    "rl.question('Enter a non-negative integer: ', (n) => {\n",
    "  for (let i = 0; i < n; i++) {\n",
    "    console.log(i ** 2);\n",
    "  }\n",
    "\n",
    "  rl.close();\n",
    "});\n"
   ]
  }
 ],
 "metadata": {
  "kernelspec": {
   "display_name": "Python 3 (ipykernel)",
   "language": "python",
   "name": "python3"
  },
  "language_info": {
   "codemirror_mode": {
    "name": "ipython",
    "version": 3
   },
   "file_extension": ".py",
   "mimetype": "text/x-python",
   "name": "python",
   "nbconvert_exporter": "python",
   "pygments_lexer": "ipython3",
   "version": "3.11.4"
  }
 },
 "nbformat": 4,
 "nbformat_minor": 5
}

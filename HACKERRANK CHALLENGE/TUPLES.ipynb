{
 "cells": [
  {
   "cell_type": "markdown",
   "id": "c083d05f",
   "metadata": {},
   "source": [
    "#### Task\n",
    "Given an integer, n, and n space-separated integers as input, create a tuple, t, of those n integers. Then compute and print the result of hash(t).\n",
    "\n",
    "Note: hash() is one of the functions in the __builtins__ module, so it need not be imported.\n",
    "\n",
    "Input Format\n",
    "\n",
    "The first line contains an integer, n, denoting the number of elements in the tuple.\n",
    "\n",
    "The second line contains n space-separated integers describing the elements in tuple t.\n",
    "\n",
    "Output Format\n",
    "\n",
    "Print the result of hash(t).\n",
    "\n",
    "Sample Input 0\n",
    "\n",
    "2\n",
    "\n",
    "1 2\n",
    "\n",
    "Sample Output 0\n",
    "\n",
    "3713081631934410656"
   ]
  },
  {
   "cell_type": "code",
   "execution_count": null,
   "id": "f2952866",
   "metadata": {},
   "outputs": [],
   "source": [
    "# Enter your code here. Read input from STDIN. \n",
    "# Print output to STDOUT\n",
    "\n"
   ]
  },
  {
   "cell_type": "code",
   "execution_count": null,
   "id": "5d127ac9",
   "metadata": {},
   "outputs": [],
   "source": [
    "if __name__ == '__main__':\n",
    "    # Read the integer 'n' from input\n",
    "    n = int(input())\n",
    "    \n",
    "    # Read space-separated integers and convert them to a tuple\n",
    "    integer_list = map(int, input().split())\n",
    "    t = tuple(integer_list)\n",
    "    \n",
    "    # Print the hash value of the tuple\n",
    "    print(hash(t))\n"
   ]
  },
  {
   "cell_type": "code",
   "execution_count": null,
   "id": "6b909919",
   "metadata": {},
   "outputs": [],
   "source": [
    "if __name__ == '__main__':\n",
    "    # Read the integer 'n' from input\n",
    "    n = int(input())\n",
    "    \n",
    "    # Read space-separated integers and convert them to a tuple\n",
    "    integer_list = map(int, input().split())\n",
    "    tup = ()  # Initialize an empty tuple\n",
    "    \n",
    "    # Iterate over the elements in integer_list and add them to the tuple\n",
    "    for x in integer_list:\n",
    "        tup += (x,)  # Append each element to the tuple using the addition operation\n",
    "    \n",
    "    # Print the hash value of the tuple\n",
    "    print(hash(tup))\n"
   ]
  },
  {
   "cell_type": "code",
   "execution_count": null,
   "id": "bea9e65e",
   "metadata": {},
   "outputs": [],
   "source": []
  }
 ],
 "metadata": {
  "kernelspec": {
   "display_name": "Python 3 (ipykernel)",
   "language": "python",
   "name": "python3"
  },
  "language_info": {
   "codemirror_mode": {
    "name": "ipython",
    "version": 3
   },
   "file_extension": ".py",
   "mimetype": "text/x-python",
   "name": "python",
   "nbconvert_exporter": "python",
   "pygments_lexer": "ipython3",
   "version": "3.11.4"
  }
 },
 "nbformat": 4,
 "nbformat_minor": 5
}

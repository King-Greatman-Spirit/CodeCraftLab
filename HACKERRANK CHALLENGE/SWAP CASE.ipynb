{
 "cells": [
  {
   "cell_type": "markdown",
   "id": "8082ef8f",
   "metadata": {},
   "source": [
    "You are given a string and your task is to swap cases. In other words, convert all lowercase letters to uppercase letters and vice versa.\n",
    "\n",
    "For Example:\n",
    "\n",
    "Www.HackerRank.com → wWW.hACKERrANK.COM\n",
    "Pythonist 2 → pYTHONIST 2  \n",
    "Function Description\n",
    "\n",
    "Complete the swap_case function in the editor below.\n",
    "\n",
    "swap_case has the following parameters:\n",
    "\n",
    "string s: the string to modify\n",
    "Returns\n",
    "\n",
    "string: the modified string\n",
    "Input Format\n",
    "\n",
    "A single line containing a string S.\n",
    "\n",
    "Constraints\n",
    "0 < len(s) <= 1000\n",
    "\n",
    "Sample Input 0\n",
    "\n",
    "HackerRank.com presents \"Pythonist 2\".\n",
    "Sample Output 0\n",
    "\n",
    "hACKERrANK.COM PRESENTS \"pYTHONIST 2\""
   ]
  },
  {
   "cell_type": "code",
   "execution_count": 1,
   "id": "ec23e7a9",
   "metadata": {},
   "outputs": [
    {
     "name": "stdout",
     "output_type": "stream",
     "text": [
      "PythoniST 2\n",
      "pYTHONIst 2\n"
     ]
    }
   ],
   "source": [
    "def swap_case(s):\n",
    "    # Use swapcase() method to swap cases in the string\n",
    "    return s.swapcase()\n",
    "\n",
    "if __name__ == '__main__':\n",
    "    # Read the input string\n",
    "    s = input()\n",
    "    \n",
    "    result = swap_case(s)\n",
    "    print(result)"
   ]
  },
  {
   "cell_type": "code",
   "execution_count": null,
   "id": "dc539ab0",
   "metadata": {},
   "outputs": [],
   "source": [
    "function swapcase(s) {\n",
    "    // Use split(), map(), and join() to swap cases in the string\n",
    "    return s.split('').map(char => char === char.toUpperCase() ? char.toLowerCase() : char.toUpperCase().join('');)\n",
    "}\n",
    "\n",
    "// Example\n",
    "let inputString = \"HackeRank.com presents 'pyhtoniST 2'\";\n",
    "LET result = swapcase(inputString);\n",
    "console.log(result);"
   ]
  }
 ],
 "metadata": {
  "kernelspec": {
   "display_name": "Python 3 (ipykernel)",
   "language": "python",
   "name": "python3"
  },
  "language_info": {
   "codemirror_mode": {
    "name": "ipython",
    "version": 3
   },
   "file_extension": ".py",
   "mimetype": "text/x-python",
   "name": "python",
   "nbconvert_exporter": "python",
   "pygments_lexer": "ipython3",
   "version": "3.11.4"
  }
 },
 "nbformat": 4,
 "nbformat_minor": 5
}

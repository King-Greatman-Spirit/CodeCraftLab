{
 "cells": [
  {
   "cell_type": "markdown",
   "id": "a5e0f5cf",
   "metadata": {},
   "source": [
    "In Python, a string can be split on a delimiter.\n",
    "\n",
    "Example:\n",
    "\n",
    ">>> a = \"this is a string\"\n",
    ">>> a = a.split(\" \") # a is converted to a list of strings. \n",
    ">>> print a\n",
    "['this', 'is', 'a', 'string']\n",
    "Joining a string is simple:\n",
    "\n",
    ">>> a = \"-\".join(a)\n",
    ">>> print a\n",
    "this-is-a-string \n",
    "Task\n",
    "You are given a string. Split the string on a \" \" (space) delimiter and join using a - hyphen.\n",
    "\n",
    "Function Description\n",
    "\n",
    "Complete the split_and_join function in the editor below.\n",
    "\n",
    "split_and_join has the following parameters:\n",
    "\n",
    "string line: a string of space-separated words\n",
    "Returns\n",
    "\n",
    "string: the resulting string\n",
    "Input Format\n",
    "The one line contains a string consisting of space separated words.\n",
    "\n",
    "Sample Input\n",
    "\n",
    "this is a string   \n",
    "Sample Output\n",
    "\n",
    "this-is-a-string"
   ]
  },
  {
   "cell_type": "code",
   "execution_count": 1,
   "id": "52c3cb1b",
   "metadata": {},
   "outputs": [
    {
     "name": "stdout",
     "output_type": "stream",
     "text": [
      "this is a string\n",
      "this-is-a-string\n"
     ]
    }
   ],
   "source": [
    "def split_and_join(line):\n",
    "    # Split the input using space as delimeter and join using hyphen\n",
    "    return '-'.join(line.split())\n",
    "\n",
    "if __name__ == '__main__':\n",
    "    line = input()\n",
    "    \n",
    "    # Call the split_and_join function and print the result\n",
    "    result = split_and_join(line)\n",
    "    print(result)"
   ]
  },
  {
   "cell_type": "code",
   "execution_count": null,
   "id": "f2559a67",
   "metadata": {},
   "outputs": [],
   "source": [
    "function splitAndJoin(line){\n",
    "    // Split the input using space as delimeter and join using hyphen\n",
    "    return line.split(' ').join('-');\n",
    "}\n",
    "\n",
    "// Example\n",
    "let inputString = \"this is a string\"\n",
    "let result = splitAndJoin(InputString);\n",
    "console.log(result);"
   ]
  },
  {
   "cell_type": "code",
   "execution_count": 2,
   "id": "132347a7",
   "metadata": {},
   "outputs": [
    {
     "name": "stdout",
     "output_type": "stream",
     "text": [
      "King Greatman Justus\n",
      "King-Greatman-Justus\n"
     ]
    }
   ],
   "source": [
    "def split_and_join(line):\n",
    "    # Split the input string using space as delimeter\n",
    "    words = line.split()\n",
    "    \n",
    "    # Join the words using hypen\n",
    "    result = '-'.join(words)\n",
    "    \n",
    "    # Return the result\n",
    "    return result\n",
    "\n",
    "if __name__ == '__main__':\n",
    "    line = input()\n",
    "    result = split_and_join(line)\n",
    "    print(result)"
   ]
  },
  {
   "cell_type": "code",
   "execution_count": null,
   "id": "921de372",
   "metadata": {},
   "outputs": [],
   "source": []
  }
 ],
 "metadata": {
  "kernelspec": {
   "display_name": "Python 3 (ipykernel)",
   "language": "python",
   "name": "python3"
  },
  "language_info": {
   "codemirror_mode": {
    "name": "ipython",
    "version": 3
   },
   "file_extension": ".py",
   "mimetype": "text/x-python",
   "name": "python",
   "nbconvert_exporter": "python",
   "pygments_lexer": "ipython3",
   "version": "3.11.4"
  }
 },
 "nbformat": 4,
 "nbformat_minor": 5
}

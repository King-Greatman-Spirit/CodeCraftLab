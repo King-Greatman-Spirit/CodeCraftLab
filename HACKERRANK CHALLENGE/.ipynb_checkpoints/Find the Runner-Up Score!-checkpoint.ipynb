{
 "cells": [
  {
   "cell_type": "markdown",
   "id": "5e0625b6",
   "metadata": {},
   "source": [
    "Given the participants' score sheet for your University Sports Day, you are required to find the runner-up score. You are given n scores. Store them in a list and find the score of the runner-up.\n",
    "\n",
    "Input Format\n",
    "\n",
    "The first line contains n. The second line contains an array A [] of n integers each separated by a space.\n",
    "\n",
    "Constraints\n",
    "#####  2 <= n <= 10\n",
    "##### -100 <= A[i] <= 100\n",
    "\n",
    "Output Format\n",
    "\n",
    "Print the runner-up score.\n",
    "\n",
    "Sample Input 0\n",
    "\n",
    "5\n",
    "2 3 6 6 5\n",
    "Sample Output 0\n",
    "\n",
    "5\n",
    "Explanation 0\n",
    "\n",
    "Given list is [2, 3, 6, 6, 5]. The maximum score is 6, second maximum is 5. Hence, we print 5 as the runner-up score."
   ]
  },
  {
   "cell_type": "code",
   "execution_count": 3,
   "id": "408c58d8",
   "metadata": {},
   "outputs": [
    {
     "name": "stdout",
     "output_type": "stream",
     "text": [
      "2\n",
      "3\n"
     ]
    },
    {
     "ename": "ValueError",
     "evalue": "max() arg is an empty sequence",
     "output_type": "error",
     "traceback": [
      "\u001b[1;31m---------------------------------------------------------------------------\u001b[0m",
      "\u001b[1;31mValueError\u001b[0m                                Traceback (most recent call last)",
      "Cell \u001b[1;32mIn[3], line 12\u001b[0m\n\u001b[0;32m      9\u001b[0m arr_list \u001b[38;5;241m=\u001b[39m \u001b[38;5;28mlist\u001b[39m(arr)\n\u001b[0;32m     11\u001b[0m \u001b[38;5;66;03m# Find the max score\u001b[39;00m\n\u001b[1;32m---> 12\u001b[0m score_max \u001b[38;5;241m=\u001b[39m \u001b[38;5;28mmax\u001b[39m(arr)\n\u001b[0;32m     14\u001b[0m \u001b[38;5;66;03m# Remove the max score from the list\u001b[39;00m\n\u001b[0;32m     15\u001b[0m arr\u001b[38;5;241m.\u001b[39mremove(score_max)\n",
      "\u001b[1;31mValueError\u001b[0m: max() arg is an empty sequence"
     ]
    }
   ],
   "source": [
    "if __name__ == '__main__':\n",
    "    # Read the number of score\n",
    "    n = int(input())\n",
    "    \n",
    "    # Read the array of scores and convert them to a list of integers\n",
    "    arr = map(int, input().split())\n",
    "    \n",
    "    # Convert to a list\n",
    "    arr_list = list(arr)\n",
    "    \n",
    "    # Find the max score\n",
    "    score_max = max(arr_list)\n",
    "    \n",
    "    # Remove the max score from the list\n",
    "    arr_list.remove(score_max)\n",
    "    \n",
    "    # Find and print the runner-up score\n",
    "    runner_up_score = max(arr_list)\n",
    "    print(runner_up_score)"
   ]
  },
  {
   "cell_type": "code",
   "execution_count": null,
   "id": "26c1effa",
   "metadata": {},
   "outputs": [],
   "source": []
  }
 ],
 "metadata": {
  "kernelspec": {
   "display_name": "Python 3 (ipykernel)",
   "language": "python",
   "name": "python3"
  },
  "language_info": {
   "codemirror_mode": {
    "name": "ipython",
    "version": 3
   },
   "file_extension": ".py",
   "mimetype": "text/x-python",
   "name": "python",
   "nbconvert_exporter": "python",
   "pygments_lexer": "ipython3",
   "version": "3.11.4"
  }
 },
 "nbformat": 4,
 "nbformat_minor": 5
}

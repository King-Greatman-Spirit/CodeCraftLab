{
 "cells": [
  {
   "cell_type": "markdown",
   "id": "677de1b7",
   "metadata": {},
   "source": [
    "### Set .discard(), .remove() & .pop()"
   ]
  },
  {
   "cell_type": "code",
   "execution_count": null,
   "id": "6d3aa5af",
   "metadata": {},
   "outputs": [],
   "source": [
    ".remove(x)\n",
    "This operation removes element x from the set.\n",
    "If element x does not exist, it raises a KeyError.\n",
    "The .remove(x) operation returns None.\n",
    "\n",
    "Example\n",
    "\n",
    ">>> s = set([1, 2, 3, 4, 5, 6, 7, 8, 9])\n",
    ">>> s.remove(5)\n",
    ">>> print s\n",
    "set([1, 2, 3, 4, 6, 7, 8, 9])\n",
    ">>> print s.remove(4)\n",
    "None\n",
    ">>> print s\n",
    "set([1, 2, 3, 6, 7, 8, 9])\n",
    ">>> s.remove(0)\n",
    "KeyError: 0\n",
    "    \n",
    ".discard(x)\n",
    "This operation also removes element x from the set.\n",
    "If element x does not exist, it does not raise a KeyError.\n",
    "The .discard(x) operation returns None.\n",
    "\n",
    "Example\n",
    "\n",
    ">>> s = set([1, 2, 3, 4, 5, 6, 7, 8, 9])\n",
    ">>> s.discard(5)\n",
    ">>> print s\n",
    "set([1, 2, 3, 4, 6, 7, 8, 9])\n",
    ">>> print s.discard(4)\n",
    "None\n",
    ">>> print s\n",
    "set([1, 2, 3, 6, 7, 8, 9])\n",
    ">>> s.discard(0)\n",
    ">>> print s\n",
    "set([1, 2, 3, 6, 7, 8, 9])\n",
    "\n",
    ".pop()\n",
    "This operation removes and return an arbitrary element from the set.\n",
    "If there are no elements to remove, it raises a KeyError.\n",
    "\n",
    "Example\n",
    "\n",
    ">>> s = set([1])\n",
    ">>> print s.pop()\n",
    "1\n",
    ">>> print s\n",
    "set([])\n",
    ">>> print s.pop()\n",
    "KeyError: pop from an empty set\n",
    "    \n",
    "Task\n",
    "You have a non-empty set s, and you have to execute N commands given in N lines.\n",
    "\n",
    "The commands will be pop, remove and discard.\n",
    "\n",
    "Input Format\n",
    "\n",
    "The first line contains integer , the number of elements in the set .\n",
    "The second line contains n space separated elements of set s. All of the elements are non-negative integers, less than or equal to 9.\n",
    "The third line contains integer N, the number of commands.\n",
    "The next N lines contains either pop, remove and/or discard commands followed by their associated value.\n",
    "\n",
    "Constraints\n",
    "0 < n < 20\n",
    "0 < N < 20\n",
    "\n",
    "Output Format\n",
    "\n",
    "Print the sum of the elements of set  on a single line.\n",
    "\n",
    "Sample Input\n",
    "\n",
    "9\n",
    "1 2 3 4 5 6 7 8 9\n",
    "10\n",
    "pop\n",
    "remove 9\n",
    "discard 9\n",
    "discard 8\n",
    "remove 7\n",
    "pop \n",
    "discard 6\n",
    "remove 5\n",
    "pop \n",
    "discard 5\n",
    "Sample Output\n",
    "\n",
    "4\n",
    "Explanation\n",
    "\n",
    "After completing these 10 operations on the set, we get set([4]). Hence, the sum is 4.\n",
    "\n",
    "Note: Convert the elements of set s to integers while you are assigning them. To ensure the proper input of the set, we have added the first two lines of code to the editor."
   ]
  },
  {
   "cell_type": "code",
   "execution_count": null,
   "id": "e5c0464c",
   "metadata": {},
   "outputs": [],
   "source": [
    "n = int(input())\n",
    "s = set(map(int, input().split()))"
   ]
  },
  {
   "cell_type": "markdown",
   "id": "71873ba2",
   "metadata": {},
   "source": [
    "### Python Solution:\n"
   ]
  },
  {
   "cell_type": "code",
   "execution_count": 5,
   "id": "70894a83",
   "metadata": {},
   "outputs": [
    {
     "name": "stdout",
     "output_type": "stream",
     "text": [
      "1\n",
      "123456789\n",
      "10\n",
      "7\n",
      "5\n",
      "\n"
     ]
    },
    {
     "ename": "IndexError",
     "evalue": "list index out of range",
     "output_type": "error",
     "traceback": [
      "\u001b[1;31m---------------------------------------------------------------------------\u001b[0m",
      "\u001b[1;31mIndexError\u001b[0m                                Traceback (most recent call last)",
      "Cell \u001b[1;32mIn[5], line 14\u001b[0m\n\u001b[0;32m     11\u001b[0m \u001b[38;5;28;01mfor\u001b[39;00m _ \u001b[38;5;129;01min\u001b[39;00m \u001b[38;5;28mrange\u001b[39m(N):\n\u001b[0;32m     12\u001b[0m     \u001b[38;5;66;03m# Read the command and its optional value\u001b[39;00m\n\u001b[0;32m     13\u001b[0m     command_line \u001b[38;5;241m=\u001b[39m \u001b[38;5;28minput\u001b[39m()\u001b[38;5;241m.\u001b[39msplit()\n\u001b[1;32m---> 14\u001b[0m     command \u001b[38;5;241m=\u001b[39m command_line[\u001b[38;5;241m0\u001b[39m]\n\u001b[0;32m     16\u001b[0m     \u001b[38;5;66;03m# Check the command type and execute accordingly\u001b[39;00m\n\u001b[0;32m     17\u001b[0m     \u001b[38;5;28;01mif\u001b[39;00m command \u001b[38;5;241m==\u001b[39m \u001b[38;5;124m\"\u001b[39m\u001b[38;5;124mpop\u001b[39m\u001b[38;5;124m\"\u001b[39m:\n",
      "\u001b[1;31mIndexError\u001b[0m: list index out of range"
     ]
    }
   ],
   "source": [
    "# Read the number of elementd in the set\n",
    "n = int(input())\n",
    "\n",
    "# Read the elements of the set and convert them to integers\n",
    "s = set(map(int, input().split()))\n",
    "\n",
    "# Read the number of commands\n",
    "N = int(input())\n",
    "\n",
    "# Execute the commands\n",
    "for _ in range(N):\n",
    "    # Read the command and its optional value\n",
    "    command_line = input().split()\n",
    "    command = command_line[0]\n",
    "    \n",
    "    # Check the command type and execute accordingly\n",
    "    if command == \"pop\":\n",
    "        s.pop()\n",
    "    elif command == \"remove\":\n",
    "        value = int(command_line[1])\n",
    "        s.remove(value)\n",
    "    elif command == \"discard\":\n",
    "        value = int(command_line[1])\n",
    "        s.discard(value)\n",
    "        \n",
    "# Print the sum of the elements in the set\n",
    "print(sum(s))"
   ]
  },
  {
   "cell_type": "markdown",
   "id": "30a2e236",
   "metadata": {},
   "source": [
    "### JavaScript Solution:"
   ]
  },
  {
   "cell_type": "code",
   "execution_count": 6,
   "id": "b95c922a",
   "metadata": {},
   "outputs": [
    {
     "ename": "SyntaxError",
     "evalue": "invalid syntax (1890625518.py, line 1)",
     "output_type": "error",
     "traceback": [
      "\u001b[1;36m  Cell \u001b[1;32mIn[6], line 1\u001b[1;36m\u001b[0m\n\u001b[1;33m    const readline = require('readline');\u001b[0m\n\u001b[1;37m          ^\u001b[0m\n\u001b[1;31mSyntaxError\u001b[0m\u001b[1;31m:\u001b[0m invalid syntax\n"
     ]
    }
   ],
   "source": [
    "const readline = require('readline');\n",
    "\n",
    "const r1 = readline.createInterface({\n",
    "    input: process.stdin,\n",
    "    output: process.stdout\n",
    "});\n",
    "\n",
    "// Read the number of elements in the set\n",
    "r1.question('Enter the numnber of elements in the set: ', (n) => {\n",
    "    // Read the elements of the set and convert them to integers\n",
    "    r1.question('Enter the number of the set: ', (sInput) => {\n",
    "        const s = new Set(sInput.split(' ').map(Number));\n",
    "        \n",
    "        // Read the number of commands\n",
    "        r1.question('Enter the number of commands: ', {N} => {\n",
    "            // Execute the number of commands\n",
    "            for (let i=0; i<N; i++) {\n",
    "                // Read the command and its optional value\n",
    "                r1.question('Enter command and value (if any): ', (commandLine) => {\n",
    "                    const [command, value] = commandLine.split(' ');\n",
    "                    \n",
    "                    // Check the command  type and execute accordingly\n",
    "                    if (command === \"pop\") {\n",
    "                        s.delete(s.values().next().value);\n",
    "                    } else if (command === \"remove\") {\n",
    "                        \n",
    "                    } else if (command === \"discard\") {\n",
    "                        \n",
    "                    }\n",
    "                    \n",
    "                    // If all commands are executed, print the sum of the elements in the set\n",
    "                    if (i === N - 1) {\n",
    "                        console.log([...s].reduce((sum, value) => sum + value, 0));\n",
    "                        r1.close();\n",
    "                    }\n",
    "                });\n",
    "            }\n",
    "        });\n",
    "    });\n",
    "});"
   ]
  },
  {
   "cell_type": "code",
   "execution_count": null,
   "id": "180fec4b",
   "metadata": {},
   "outputs": [],
   "source": []
  }
 ],
 "metadata": {
  "kernelspec": {
   "display_name": "Python 3 (ipykernel)",
   "language": "python",
   "name": "python3"
  },
  "language_info": {
   "codemirror_mode": {
    "name": "ipython",
    "version": 3
   },
   "file_extension": ".py",
   "mimetype": "text/x-python",
   "name": "python",
   "nbconvert_exporter": "python",
   "pygments_lexer": "ipython3",
   "version": "3.11.4"
  }
 },
 "nbformat": 4,
 "nbformat_minor": 5
}

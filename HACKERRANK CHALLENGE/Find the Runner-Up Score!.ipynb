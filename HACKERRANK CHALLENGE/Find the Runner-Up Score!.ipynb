{
 "cells": [
  {
   "cell_type": "markdown",
   "id": "a70abb81",
   "metadata": {},
   "source": [
    "Given the participants' score sheet for your University Sports Day, you are required to find the runner-up score. You are given n scores. Store them in a list and find the score of the runner-up.\n",
    "\n",
    "Input Format\n",
    "\n",
    "The first line contains n. The second line contains an array A [] of n integers each separated by a space.\n",
    "\n",
    "Constraints\n",
    "#####  2 <= n <= 10\n",
    "##### -100 <= A[i] <= 100\n",
    "\n",
    "Output Format\n",
    "\n",
    "Print the runner-up score.\n",
    "\n",
    "Sample Input 0\n",
    "\n",
    "5\n",
    "2 3 6 6 5\n",
    "Sample Output 0\n",
    "\n",
    "5\n",
    "Explanation 0\n",
    "\n",
    "Given list is [2, 3, 6, 6, 5]. The maximum score is 6, second maximum is 5. Hence, we print 5 as the runner-up score."
   ]
  },
  {
   "cell_type": "code",
   "execution_count": 9,
   "id": "1b84bef6",
   "metadata": {},
   "outputs": [
    {
     "name": "stdout",
     "output_type": "stream",
     "text": [
      "5\n",
      "23665\n",
      "No Runner Up Score Available.\n"
     ]
    }
   ],
   "source": [
    "if __name__ == '__main__':\n",
    "    # Read the number of score\n",
    "    n = int(input())\n",
    "    \n",
    "    # Read the array of scores and convert them to a list of integers\n",
    "    arr = map(int, input().split())\n",
    "    \n",
    "    # Convert to a list\n",
    "    arr = list(arr)\n",
    "    \n",
    "    # Find the max score\n",
    "    score_max = max(arr)\n",
    "    \n",
    "    # Filter out the max scores from the list\n",
    "    arr = [score for score in arr if score != score_max]\n",
    "    \n",
    "    # If the list is not empty, find and print the runner-up score\n",
    "    if arr:\n",
    "        runner_up_score = max(arr)\n",
    "        print(runner_up_score)\n",
    "    else:\n",
    "        print(\"No Runner Up Score Available.\")"
   ]
  },
  {
   "cell_type": "code",
   "execution_count": 13,
   "id": "8d522545",
   "metadata": {},
   "outputs": [
    {
     "name": "stdout",
     "output_type": "stream",
     "text": [
      "5\n",
      "23665\n"
     ]
    },
    {
     "ename": "TypeError",
     "evalue": "unsupported operand type(s) for -: 'set' and 'int'",
     "output_type": "error",
     "traceback": [
      "\u001b[1;31m---------------------------------------------------------------------------\u001b[0m",
      "\u001b[1;31mTypeError\u001b[0m                                 Traceback (most recent call last)",
      "Cell \u001b[1;32mIn[13], line 9\u001b[0m\n\u001b[0;32m      6\u001b[0m arr \u001b[38;5;241m=\u001b[39m \u001b[38;5;28mlist\u001b[39m(\u001b[38;5;28mmap\u001b[39m(\u001b[38;5;28mint\u001b[39m, \u001b[38;5;28minput\u001b[39m()\u001b[38;5;241m.\u001b[39msplit()))\n\u001b[0;32m      8\u001b[0m \u001b[38;5;66;03m# Find and print the runner-up score\u001b[39;00m\n\u001b[1;32m----> 9\u001b[0m \u001b[38;5;28mprint\u001b[39m(\u001b[38;5;28mmax\u001b[39m(\u001b[38;5;28mset\u001b[39m(arr) \u001b[38;5;241m-\u001b[39m (\u001b[38;5;28mmax\u001b[39m(arr))))\n",
      "\u001b[1;31mTypeError\u001b[0m: unsupported operand type(s) for -: 'set' and 'int'"
     ]
    }
   ],
   "source": [
    "if __name__=='__main__':\n",
    "    # Read the number of scores\n",
    "    n = int(input())\n",
    "    \n",
    "    # Read the array of scores and convert them to a list of integers\n",
    "    arr = list(map(int, input().split()))\n",
    "    \n",
    "    # Find and print the runner-up score\n",
    "    print(max(set(arr) - (max(arr))))"
   ]
  },
  {
   "cell_type": "code",
   "execution_count": null,
   "id": "651d3c4d",
   "metadata": {},
   "outputs": [],
   "source": [
    "()"
   ]
  }
 ],
 "metadata": {
  "kernelspec": {
   "display_name": "Python 3 (ipykernel)",
   "language": "python",
   "name": "python3"
  },
  "language_info": {
   "codemirror_mode": {
    "name": "ipython",
    "version": 3
   },
   "file_extension": ".py",
   "mimetype": "text/x-python",
   "name": "python",
   "nbconvert_exporter": "python",
   "pygments_lexer": "ipython3",
   "version": "3.11.4"
  }
 },
 "nbformat": 4,
 "nbformat_minor": 5
}

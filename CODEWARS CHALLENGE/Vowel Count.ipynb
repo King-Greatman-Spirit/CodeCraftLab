{
 "cells": [
  {
   "cell_type": "markdown",
   "id": "a023942a",
   "metadata": {},
   "source": [
    "Return the number (count) of vowels in the given string.\n",
    "\n",
    "We will consider a, e, i, o, u as vowels for this Kata (but not y).\n",
    "\n",
    "The input string will only consist of lower case letters and/or spaces."
   ]
  },
  {
   "cell_type": "code",
   "execution_count": 1,
   "id": "e7e884d9",
   "metadata": {},
   "outputs": [
    {
     "name": "stdout",
     "output_type": "stream",
     "text": [
      "3\n",
      "5\n"
     ]
    }
   ],
   "source": [
    "# Function to count the number of vowels in the given string\n",
    "def get_count(sentence):\n",
    "    # Initialize a variable to store the count of vowels\n",
    "    vowel_count = 0\n",
    "    # Define a string containing all lowercase and uppercase vowels\n",
    "    vowels = \"aeiouAEIOU\"\n",
    "    \n",
    "    # Iterate through each character in the input string\n",
    "    for char in sentence:\n",
    "        # Check if the character is a vowel\n",
    "        if char in vowels:\n",
    "            # Increment the vowel count if the character is a vowel\n",
    "            vowel_count += 1\n",
    "    \n",
    "    # Return the final count of vowels in the string\n",
    "    return vowel_count\n",
    "\n",
    "# Example 1\n",
    "result1 = get_count(\"Hello World\")\n",
    "print(result1)  # Output: 3 (e, o, o are vowels)\n",
    "\n",
    "# Example 2\n",
    "result2 = get_count(\"Python is amazing\")\n",
    "print(result2)  # Output: 5 (o, i, a, a, i are vowels)\n"
   ]
  },
  {
   "cell_type": "code",
   "execution_count": 2,
   "id": "68868da0",
   "metadata": {},
   "outputs": [
    {
     "name": "stdout",
     "output_type": "stream",
     "text": [
      "3\n",
      "5\n"
     ]
    }
   ],
   "source": [
    "# Using list comprehension for a more concise implementation\n",
    "def get_count(sentence):\n",
    "    # Return the sum of 1 for each vowel in the input string\n",
    "    return sum(1 for char in sentence if char in \"aeiouAEIOU\")\n",
    "\n",
    "# Example 1\n",
    "result1 = get_count(\"Hello World\")\n",
    "print(result1)  # Output: 3 (e, o, o are vowels)\n",
    "\n",
    "# Example 2\n",
    "result2 = get_count(\"Python is amazing\")\n",
    "print(result2)  # Output: 5 (o, i, a, a, i are vowels)"
   ]
  },
  {
   "cell_type": "code",
   "execution_count": null,
   "id": "9eea9a32",
   "metadata": {},
   "outputs": [],
   "source": [
    "// Function to count the number of vowels in the given string\n",
    "function getCount(sentence) {\n",
    "    // Initialize a variable to store the count of vowels\n",
    "    let vowelCount = 0;\n",
    "    // Define a string containing all lowercase and uppercase vowels\n",
    "    let vowels = \"aeiouAEIOU\";\n",
    "    \n",
    "    //Iterate through each character in the input string\n",
    "    for (let char of sentence) {\n",
    "        // check if the character is a vowel\n",
    "        if (vowels.includes(char)) {\n",
    "            // increment the vowel count if the char is a vowel\n",
    "            vowelCount += 1;\n",
    "        }\n",
    "    }\n",
    "  // Return the final count of vowels in the string\n",
    "  return vowelCount;\n",
    "}\n",
    "\n",
    "// Example 1\n",
    "let result1 = getCount(\"Hello World\");\n",
    "console.log(result1); // Output: 3 (e, o, o are vowels)\n",
    "\n",
    "// Example 2\n",
    "let result2 = getCount(\"Python is amazing\");\n",
    "console.log(result2); //Output: 5 (o, i, a, a, i are vowels)"
   ]
  },
  {
   "cell_type": "code",
   "execution_count": null,
   "id": "f8581e4f",
   "metadata": {},
   "outputs": [],
   "source": [
    "-- Function to count the number of vowels in the given string using psql9.6\n",
    "-- not solved fully\n",
    "CREATE OR REPLACE FUNCTION getCount(input_str VARCHAR(255))\n",
    "RETURNS TABLE (str VARCHAR(255), res INT) AS $$\n",
    "DECLARE\n",
    "  vowels VARCHAR(10) DEFAULT 'aeiouAEIOU';\n",
    "  charIndex INT;\n",
    "  vowel_count INT DEFAULT 0;\n",
    "BEGIN\n",
    "  FOR i IN 1..LENGTH(input_str) LOOP\n",
    "    -- Check if the character is a vowel\n",
    "    charIndex := POSITION(SUBSTRING(input_str FROM i FOR 1) IN vowels);\n",
    "    IF charIndex > 0 THEN\n",
    "      -- Increment the vowel count if the character is a vowel\n",
    "      vowel_count := vowel_count + 1;\n",
    "    END IF;\n",
    "  END LOOP;\n",
    "\n",
    "  -- Return the final count of vowels in the string\n",
    "  RETURN QUERY SELECT input_str, vowel_count;\n",
    "END;\n",
    "$$ LANGUAGE plpgsql;\n",
    "\n",
    "-- Select results from the 'getcount' function with column 'str' and the corresponding vowel count\n",
    "SELECT * FROM getCount('abracadabra');  -- Output: (abracadabra, 5)\n",
    "SELECT * FROM getCount('pear tree');     -- Output: (pear tree, 4)\n",
    "SELECT * FROM getCount('o a kak ushakov lil vo kashu kakao');  -- Output: (o a kak ushakov lil vo kashu kakao, 13)\n",
    "SELECT * FROM getCount('my pyx');        -- Output: (my pyx, 0)\n"
   ]
  }
 ],
 "metadata": {
  "kernelspec": {
   "display_name": "Python 3 (ipykernel)",
   "language": "python",
   "name": "python3"
  },
  "language_info": {
   "codemirror_mode": {
    "name": "ipython",
    "version": 3
   },
   "file_extension": ".py",
   "mimetype": "text/x-python",
   "name": "python",
   "nbconvert_exporter": "python",
   "pygments_lexer": "ipython3",
   "version": "3.11.4"
  }
 },
 "nbformat": 4,
 "nbformat_minor": 5
}

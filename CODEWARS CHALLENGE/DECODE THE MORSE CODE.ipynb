{
 "cells": [
  {
   "cell_type": "markdown",
   "id": "90f9802e",
   "metadata": {},
   "source": [
    "DESCRIPTION:\n",
    "Part of Series 1/3\n",
    "This kata is part of a series on the Morse code. After you solve this kata, you may move to the next one.\n",
    "\n",
    "In this kata you have to write a simple Morse code decoder. While the Morse code is now mostly superseded by voice and digital data communication channels, it still has its use in some applications around the world.\n",
    "The Morse code encodes every character as a sequence of \"dots\" and \"dashes\". For example, the letter A is coded as ·−, letter Q is coded as −−·−, and digit 1 is coded as ·−−−−. The Morse code is case-insensitive, traditionally capital letters are used. When the message is written in Morse code, a single space is used to separate the character codes and 3 spaces are used to separate words. For example, the message HEY JUDE in Morse code is ···· · −·−−   ·−−− ··− −·· ·.\n",
    "\n",
    "NOTE: Extra spaces before or after the code have no meaning and should be ignored.\n",
    "\n",
    "In addition to letters, digits and some punctuation, there are some special service codes, the most notorious of those is the international distress signal SOS (that was first issued by Titanic), that is coded as ···−−−···. These special codes are treated as single special characters, and usually are transmitted as separate words.\n",
    "\n",
    "Your task is to implement a function that would take the morse code as input and return a decoded human-readable string.\n",
    "\n",
    "For example:\n",
    "\n",
    "decode_morse('.... . -.--   .--- ..- -.. .')\n",
    "\n",
    "#should return \"HEY JUDE\"\n",
    "\n",
    "NOTE: For coding purposes you have to use ASCII characters . and -, not Unicode characters.\n",
    "\n",
    "The Morse code table is preloaded for you as a dictionary, feel free to use it:\n",
    "\n",
    "Coffeescript/C++/Go/JavaScript/Julia/PHP/Python/Ruby/TypeScript: MORSE_CODE['.--']\n",
    "\n",
    "C#: MorseCode.Get(\".--\") (returns string)\n",
    "\n",
    "F#: MorseCode.get \".--\" (returns string)\n",
    "\n",
    "Elixir: @morse_codes variable (from use MorseCode.Constants). Ignore the unused variable warning for morse_codes because it's no longer used and kept only for old solutions.\n",
    "\n",
    "Elm: MorseCodes.get : Dict String String\n",
    "\n",
    "Haskell: morseCodes ! \".--\" (Codes are in a Map String String)\n",
    "\n",
    "Java: MorseCode.get(\".--\")\n",
    "\n",
    "Kotlin: MorseCode[\".--\"] ?: \"\" or MorseCode.getOrDefault(\".--\", \"\")\n",
    "\n",
    "Racket: morse-code (a hash table)\n",
    "\n",
    "Rust: MORSE_CODE\n",
    "\n",
    "Scala: morseCodes(\".--\")\n",
    "\n",
    "Swift: MorseCode[\".--\"] ?? \"\" or MorseCode[\".--\", default: \"\"]\n",
    "\n",
    "C: provides parallel arrays, i.e. morse[2] == \"-.-\" for ascii[2] == \"C\"\n",
    "\n",
    "NASM: a table of pointers to the morsecodes, and a corresponding list of ascii symbols\n",
    "All the test strings would contain valid Morse code, so you may skip checking for errors and exceptions. In C#, tests will fail if the solution code throws an exception, please keep that in mind. This is mostly because otherwise the engine would simply ignore the tests, resulting in a \"valid\" solution.\n",
    "\n",
    "Good luck!\n",
    "\n",
    "After you complete this kata, you may try yourself at Decode the Morse code, advanced."
   ]
  },
  {
   "cell_type": "code",
   "execution_count": 6,
   "id": "ce74ccbf",
   "metadata": {},
   "outputs": [
    {
     "name": "stdout",
     "output_type": "stream",
     "text": [
      "HEY JUDE\n"
     ]
    }
   ],
   "source": [
    "# from preloaded import MORSE_CODE\n",
    "MORSE_CODE = {\n",
    "    '.-': 'A', '-...': 'B', '-.-.': 'C', '-..': 'D', '.': 'E',\n",
    "    '..-.': 'F', '--.': 'G', '....': 'H', '..': 'I', '.---': 'J',\n",
    "    '-.-': 'K', '.-..': 'L', '--': 'M', '-.': 'N', '---': 'O',\n",
    "    '.--.': 'P', '--.-': 'Q', '.-.': 'R', '...': 'S', '-': 'T',\n",
    "    '..-': 'U', '...-': 'V', '.--': 'W', '-..-': 'X', '-.--': 'Y',\n",
    "    '--..': 'Z', '-----': '0', '.----': '1', '..---': '2',\n",
    "    '...--': '3', '....-': '4', '.....': '5', '-....': '6',\n",
    "    '--...': '7', '---..': '8', '----.': '9'\n",
    "}\n",
    "\n",
    "def decode_morse(morse_code):\n",
    "    # Remember - you can use the preloaded MORSE_CODE dictionary:\n",
    "    # For example: \n",
    "    # MORSE_CODE['.-'] = 'A'\n",
    "    # MORSE_CODE['--...'] = '7'\n",
    "    # MORSE_CODE['...-..-'] = '$'\n",
    "    # Split the morse code into individual words by splitting into 3 spaces\n",
    "    words = morse_code.strip().split('   ')\n",
    "    # Init an empty str to store the decoded message\n",
    "    decoded_message = ''\n",
    "    #Iterate through each word in the morse code\n",
    "    for word in words:\n",
    "        # Split the word into individual morse code chars by splitting on spaces\n",
    "        chars = word.split(' ')\n",
    "        # Init an empty str to store the decoded chars of the word\n",
    "        decoded_word = ''\n",
    "        # Iterate through each morse code chars in the word\n",
    "        for char in chars:\n",
    "            # Decode the morse code char using the MORSE_CODE dict and append it to the decoded_word\n",
    "            decoded_word += MORSE_CODE[char]\n",
    "        # Add the decoded word to the decoded_message with a space\n",
    "        decoded_message += decoded_word + ' '\n",
    "    # Return the decodede message with trailing and leading spaces removed\n",
    "    return decoded_message.strip()\n",
    "\n",
    "# Example usage and testing:\n",
    "print(decode_morse('.... . -.--   .--- ..- -.. .'))  # Output should be \"HEY JUDE\""
   ]
  },
  {
   "cell_type": "markdown",
   "id": "4bfa9ea6",
   "metadata": {},
   "source": [
    "## JAVASCRIPT"
   ]
  },
  {
   "cell_type": "code",
   "execution_count": null,
   "id": "bc514544",
   "metadata": {},
   "outputs": [],
   "source": [
    "const decodeMorse = function(morseCode){\n",
    "  // Split the morse code into individual words by splitting on 3 spaces\n",
    "  const words = morseCode.trim().split('   ');\n",
    "  // Init an empty str to store the decoded message\n",
    "  let decodedMessage = '';\n",
    "  // Iterate through each word in the morse code\n",
    "  for (let word of words) {\n",
    "    // Split the word into individual morse code chars by splitting into spaces\n",
    "    const chars = word.split(' ');\n",
    "    // Init an empty str to sotre the decoded chars of the word\n",
    "    let decodedWord = '';\n",
    "    // Iterate through each morse code char in the word\n",
    "    for (let char of chars) {\n",
    "      // Decode the morse code chars using the MORSE_CODE dict and append it to the decodedWord\n",
    "      decodedWord += MORSE_CODE[char];\n",
    "    }\n",
    "    // Add the decoded word to the decodedMessage with a space\n",
    "    decodedMessage += decodedWord + ' ';\n",
    "  }\n",
    "  // Return the decoded word with trailing and leading spaces removed\n",
    "  return decodedMessage.trim();\n",
    "}\n",
    "\n",
    "// Example usage and testing:\n",
    "console.log(decodeMorse('.... . -.--   .--- ..- -.. .'));  // Output should be \"HEY JUDE\""
   ]
  },
  {
   "cell_type": "code",
   "execution_count": null,
   "id": "317bfc0d",
   "metadata": {},
   "outputs": [],
   "source": [
    "\n",
    "words = morse_code.strip().split('   ')"
   ]
  },
  {
   "cell_type": "code",
   "execution_count": null,
   "id": "e468e5f5",
   "metadata": {},
   "outputs": [],
   "source": []
  }
 ],
 "metadata": {
  "kernelspec": {
   "display_name": "Python 3 (ipykernel)",
   "language": "python",
   "name": "python3"
  },
  "language_info": {
   "codemirror_mode": {
    "name": "ipython",
    "version": 3
   },
   "file_extension": ".py",
   "mimetype": "text/x-python",
   "name": "python",
   "nbconvert_exporter": "python",
   "pygments_lexer": "ipython3",
   "version": "3.11.4"
  }
 },
 "nbformat": 4,
 "nbformat_minor": 5
}

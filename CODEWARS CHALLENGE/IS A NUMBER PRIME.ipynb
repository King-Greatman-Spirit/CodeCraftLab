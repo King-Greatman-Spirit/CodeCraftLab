{
 "cells": [
  {
   "cell_type": "markdown",
   "id": "782b424b",
   "metadata": {},
   "source": [
    "DESCRIPTION:\n",
    "Define a function that takes an integer argument and returns a logical value true or false depending on if the integer is a prime.\n",
    "\n",
    "Per Wikipedia, a prime number ( or a prime ) is a natural number greater than 1 that has no positive divisors other than 1 and itself.\n",
    "\n",
    "Requirements\n",
    "You can assume you will be given an integer input.\n",
    "You can not assume that the integer will be only positive. You may be given negative numbers as well ( or 0 ).\n",
    "NOTE on performance: There are no fancy optimizations required, but still the most trivial solutions might time out. Numbers go up to 2^31 ( or similar, depending on language ). Looping all the way up to n, or n/2, will be too slow.\n",
    "\n",
    "Example\n",
    "\n",
    "is_prime(1)  /* false */\n",
    "\n",
    "is_prime(2)  /* true  */\n",
    "\n",
    "is_prime(-1) /* false */"
   ]
  },
  {
   "cell_type": "code",
   "execution_count": null,
   "id": "d29e5150",
   "metadata": {},
   "outputs": [],
   "source": [
    "def is_prime(num):\n",
    "    # Check if the number is less than 2\n",
    "    if num < 2:\n",
    "        return False\n",
    "    \n",
    "    # Check for factors from 2 to the square root of the number\n",
    "    for i in range(2, int(num ** 0.5) + 1):\n",
    "        # If num is divisible by any integer in this range, its not prime\n",
    "        if num % i ==0:\n",
    "            return False\n",
    "        \n",
    "    # If no factors are found, the number is prime\n",
    "    return True\n",
    "\n",
    "# Example usage and testing:\n",
    "print(is_prime(1))   # Output should be False\n",
    "print(is_prime(2))   # Output should be True\n",
    "print(is_prime(-1))  # Output should be False"
   ]
  },
  {
   "cell_type": "code",
   "execution_count": 1,
   "id": "cb7c21ed",
   "metadata": {},
   "outputs": [
    {
     "name": "stdout",
     "output_type": "stream",
     "text": [
      "False\n",
      "True\n",
      "False\n"
     ]
    }
   ],
   "source": [
    "from math import sqrt\n",
    "def is_prime(num):\n",
    "    if num <= 1:\n",
    "        return False\n",
    "    i = 2\n",
    "    while i <= sqrt(num):    \n",
    "        if num%i == 0:\n",
    "            return False\n",
    "        i += 1\n",
    "    return True \n",
    "\n",
    "# Example usage and testing:\n",
    "print(is_prime(1))   # Output should be False\n",
    "print(is_prime(2))   # Output should be True\n",
    "print(is_prime(-1))  # Output should be False"
   ]
  },
  {
   "cell_type": "code",
   "execution_count": 2,
   "id": "4e338517",
   "metadata": {},
   "outputs": [
    {
     "name": "stdout",
     "output_type": "stream",
     "text": [
      "False\n",
      "True\n",
      "False\n"
     ]
    }
   ],
   "source": [
    "# This is the Miller-Rabin test for primes, which works for super large n\n",
    "\n",
    "import random\n",
    "\n",
    "def even_odd(n):\n",
    "    s, d = 0, n\n",
    "    while d % 2 == 0:\n",
    "          s += 1\n",
    "          d >>= 1\n",
    "    return s, d\n",
    "\n",
    "def Miller_Rabin(a, p):\n",
    "    s, d = even_odd(p-1)\n",
    "    a = pow(a, d, p)\n",
    "    if a == 1: return True\n",
    "    for i in range(s):\n",
    "        if a == p-1: return True\n",
    "        a = pow(a, 2, p)\n",
    "    return False\n",
    "\n",
    "def is_prime(p):\n",
    "    if p == 2: return True\n",
    "    if p <= 1 or p % 2 == 0: return False\n",
    "    return all(Miller_Rabin(random.randint(2,p-1),p) for _ in range(40))\n",
    "\n",
    "# Example usage and testing:\n",
    "print(is_prime(1))   # Output should be False\n",
    "print(is_prime(2))   # Output should be True\n",
    "print(is_prime(-1))  # Output should be False"
   ]
  },
  {
   "cell_type": "markdown",
   "id": "f852e065",
   "metadata": {},
   "source": [
    "## JAVASCRIPT SOLUTION"
   ]
  },
  {
   "cell_type": "code",
   "execution_count": null,
   "id": "5813dadd",
   "metadata": {},
   "outputs": [],
   "source": [
    "function isPrime(num) {\n",
    "    // Check if num < 2\n",
    "    if (num < 2) {\n",
    "        return false;\n",
    "    }\n",
    "    \n",
    "    // Check for factors from 2 to the square root of the num\n",
    "    for (let i = 2; i <= Math.sqrt(num); i++) {\n",
    "        // if the num is divisible by any int in the range, it's not prime\n",
    "        if (num % i === 0) {\n",
    "            return false;\n",
    "        }\n",
    "    }\n",
    "    \n",
    "    // I no factors are found, the num is prime\n",
    "    return true;\n",
    "}\n",
    "\n",
    "// Example usage and testing:\n",
    "console.log(isPrime(1));   // Output should be false\n",
    "console.log(isPrime(2));   // Output should be true\n",
    "console.log(isPrime(-1));  // Output should be false"
   ]
  },
  {
   "cell_type": "code",
   "execution_count": null,
   "id": "8f20896d",
   "metadata": {},
   "outputs": [],
   "source": [
    "function isPrime(num) {\n",
    "  for(let i = 2; i <= Math.sqrt(num); i++) {\n",
    "    if(num % i === 0) {\n",
    "      return false;\n",
    "    }\n",
    "  }\n",
    "  return num > 1\n",
    "}"
   ]
  },
  {
   "cell_type": "code",
   "execution_count": null,
   "id": "dd181bea",
   "metadata": {},
   "outputs": [],
   "source": [
    "const isPrime = num => {\n",
    "  for (let i = 2; i <= num ** .5; i++) {\n",
    "    if (!(num % i)) return false;\n",
    "  }\n",
    "  return num > 1;\n",
    "}"
   ]
  },
  {
   "cell_type": "code",
   "execution_count": null,
   "id": "c8bd597b",
   "metadata": {},
   "outputs": [],
   "source": [
    "/** Miller-Rabin Primality Test in O(k log^3 n) **/\n",
    "\n",
    "/* It's a probablistic test, but should work on (nearly) all Javascript integers */\n",
    "\n",
    "function modulusProduct(a, b, n) {\n",
    "  if (b == 0)\n",
    "    return 0;\n",
    "  if (b == 1)\n",
    "    return a % n;\n",
    "  return (modulusProduct(a, (b - b % 10)/10, n) * 10 + (b % 10) * a) % n;\n",
    "}\n",
    "\n",
    "function modulusPower(a, b, n) {\n",
    "  if (b == 0)\n",
    "    return 1;\n",
    "  if (b == 1)\n",
    "    return a % n;\n",
    "  if (b % 2 == 0) {\n",
    "    var c = modulusPower(a, b/2, n);\n",
    "    return modulusProduct(c, c, n);\n",
    "  }\n",
    "  return modulusProduct(a, modulusPower(a, b - 1, n), n);\n",
    "}\n",
    "\n",
    "function isPrime(n) {\n",
    "  /* LuT for items under 25 and items that would be killed fast via Eratosthenes method */\n",
    "  if (n <= 1)\n",
    "    return false;\n",
    "  if (n == 2 || n == 3  || n == 5  || n == 7 || n == 11 || n == 13\n",
    "             || n == 17 || n == 19 || n == 23)\n",
    "    return true;\n",
    "  if (n % 2 == 0 || n % 3 == 0 || n % 5 == 0)\n",
    "    return false;\n",
    "  \n",
    "  /* Create Witness Array */\n",
    "  for (var a = [2, 3, 5, 7, 11, 13, 17, 19], b = n - 1, d, t, i, x;\n",
    "        b % 2 == 0; b = b / 2);\n",
    "  /* Transform n - 1 => 2^x * d with some odd d by factoring powers of 2 from n - 1 */\n",
    "  for (i = 0; i < a.length; i++) {\n",
    "    x = modulusPower(a[i], b, n);\n",
    "    if (x == 1 || x == n - 1)\n",
    "      continue;\n",
    "    for (t = true, d = b; t && d < n - 1; d = d * 2) {\n",
    "      x = modulusProduct(x, x, n);\n",
    "      if (x == n - 1)\n",
    "        t = false;\n",
    "    }\n",
    "    if (t)\n",
    "      return false; /* composite (non-prime) */\n",
    "  }\n",
    "  return true; /* probably prime */\n",
    "}"
   ]
  }
 ],
 "metadata": {
  "kernelspec": {
   "display_name": "Python 3 (ipykernel)",
   "language": "python",
   "name": "python3"
  },
  "language_info": {
   "codemirror_mode": {
    "name": "ipython",
    "version": 3
   },
   "file_extension": ".py",
   "mimetype": "text/x-python",
   "name": "python",
   "nbconvert_exporter": "python",
   "pygments_lexer": "ipython3",
   "version": "3.11.4"
  }
 },
 "nbformat": 4,
 "nbformat_minor": 5
}

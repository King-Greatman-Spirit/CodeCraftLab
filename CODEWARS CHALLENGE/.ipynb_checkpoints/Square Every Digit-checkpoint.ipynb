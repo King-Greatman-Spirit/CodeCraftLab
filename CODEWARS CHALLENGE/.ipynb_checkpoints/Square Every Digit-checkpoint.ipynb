{
 "cells": [
  {
   "cell_type": "markdown",
   "id": "068392c1",
   "metadata": {},
   "source": [
    "Welcome. In this kata, you are asked to square every digit of a number and concatenate them.\n",
    "\n",
    "For example, if we run 9119 through the function, 811181 will come out, because 92 is 81 and 12 is 1. (81-1-1-81)\n",
    "\n",
    "Example #2: An input of 765 will/should return 493625 because 72 is 49, 62 is 36, and 52 is 25. (49-36-25)\n",
    "\n",
    "Note: The function accepts an integer and returns an integer.\n",
    "\n",
    "Happy Coding!"
   ]
  },
  {
   "cell_type": "code",
   "execution_count": 3,
   "id": "ca131d99",
   "metadata": {},
   "outputs": [
    {
     "name": "stdout",
     "output_type": "stream",
     "text": [
      "493625\n",
      "811181\n"
     ]
    }
   ],
   "source": [
    "def square_digits(digit):\n",
    "    \"\"\"\n",
    "    Squares each digit in a given integer and returns the resulting integer.\n",
    "    Args:\n",
    "    digit: The integer to be processed.\n",
    "    Returns:\n",
    "    The integer with each digit squared\n",
    "    \"\"\"\n",
    "    output = \"\" # init an empty str to store the squared digits\n",
    "    for root in str(digit): #init through each digit in the str representation ot the int\n",
    "        output += str(int(root) ** 2) #square the surrent digit, convert it backto a str & append it to the output\n",
    "    return int(output) #convert the final str of squared digits back to an int\n",
    "\n",
    "digit = 765\n",
    "digits = 9119  \n",
    "print(square_digits(digit))\n",
    "print(square_digits(digits))"
   ]
  },
  {
   "cell_type": "markdown",
   "id": "81c9576b",
   "metadata": {},
   "source": [
    "## Javascript Solution"
   ]
  },
  {
   "cell_type": "code",
   "execution_count": null,
   "id": "67382e23",
   "metadata": {},
   "outputs": [],
   "source": [
    "function squareDigits(digit):\n",
    "    // Init an empty str to store the square digit\n",
    "    let output = \"\";\n",
    "    \n",
    "    //Iterate through each digit in the str representation of the int.\n",
    "    for (const root of digit.toString()) {\n",
    "        //Square the current digit, convert it to a str, and append it to the output.\n",
    "        output += Math.pow(parseInt(root), 2).toString();\n",
    "    }\n",
    "    \n",
    "    // Convert the final str of squared digits back to an int and return it.\n",
    "return parseInt(output);\n",
    "\n",
    "\n",
    "let digit = 765;\n",
    "let digits = 9119;\n",
    "console.log(squareDigits(digit));\n",
    "console.log(squareDigits(digits));"
   ]
  }
 ],
 "metadata": {
  "kernelspec": {
   "display_name": "Python 3 (ipykernel)",
   "language": "python",
   "name": "python3"
  },
  "language_info": {
   "codemirror_mode": {
    "name": "ipython",
    "version": 3
   },
   "file_extension": ".py",
   "mimetype": "text/x-python",
   "name": "python",
   "nbconvert_exporter": "python",
   "pygments_lexer": "ipython3",
   "version": "3.11.4"
  }
 },
 "nbformat": 4,
 "nbformat_minor": 5
}

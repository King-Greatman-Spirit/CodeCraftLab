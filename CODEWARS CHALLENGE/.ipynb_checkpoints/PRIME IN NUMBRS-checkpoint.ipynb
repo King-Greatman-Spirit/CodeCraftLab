{
 "cells": [
  {
   "cell_type": "markdown",
   "id": "dd7a7080",
   "metadata": {},
   "source": [
    "## Python Solution"
   ]
  },
  {
   "cell_type": "markdown",
   "id": "a7886814",
   "metadata": {},
   "source": [
    "Given a positive number n > 1 find the prime factor decomposition of n. The result will be a string with the following form :\n",
    "\n",
    " \"(p1**n1)(p2**n2)...(pk**nk)\"\n",
    " \n",
    "with the p(i) in increasing order and n(i) empty if n(i) is 1.\n",
    "\n",
    "Example: n = 86240 should return \"(2**5)(5)(7**2)(11)\""
   ]
  },
  {
   "cell_type": "code",
   "execution_count": null,
   "id": "90a57284",
   "metadata": {},
   "outputs": [],
   "source": [
    "# Define the func prime_number with a parameter n\n",
    "def prime_factors(n):\n",
    "    # Init an empty str to store the result\n",
    "    result = \"\"\n",
    "    # Init the divisor to 2\n",
    "    divisor = 2\n",
    "    # Loop until n is greater than 1\n",
    "    while n > 1:\n",
    "        # Init the exponent of the curent divisor to 0\n",
    "        exponent = 0\n",
    "        # While n is divisible by the current divisor\n",
    "        while n % divisor == 0:\n",
    "            # Increment the exponent\n",
    "            exponent += 1\n",
    "            # Divide n by the divisor\n",
    "            n //= divisor\n",
    "        # If the exponent is greater than 0\n",
    "        if exponent > 0:\n",
    "            # Format the output correctly with divisor and exponent\n",
    "            result += f\"({divisor}\"\n",
    "            if exponent > 1:\n",
    "                result += f\"**{exponent}\"\n",
    "            result += \")\"\n",
    "        # Increment the divisor for the next iteration\n",
    "        divisor += 1\n",
    "    # Return the result\n",
    "    return result\n",
    "\n",
    "# Test the function\n",
    "print(prime_factors(24))    # Output: \"(2**3)*(3)\"\n",
    "print(prime_factors(86240)) # Output: \"(2**5)*(5)*(7**2)*(11)\"\n"
   ]
  },
  {
   "cell_type": "code",
   "execution_count": null,
   "id": "3ea60de9",
   "metadata": {},
   "outputs": [],
   "source": []
  },
  {
   "cell_type": "markdown",
   "id": "e8a5a6e7",
   "metadata": {},
   "source": [
    "## Javascript Solution"
   ]
  },
  {
   "cell_type": "code",
   "execution_count": null,
   "id": "c101309f",
   "metadata": {},
   "outputs": [],
   "source": [
    "// Define the function primeFactors with a parameter n\n",
    "function primeFactors(n) {\n",
    "    // Init an empty str to store the result\n",
    "    let result = \"\";\n",
    "    // Init the divisor to 2\n",
    "    let divisor = 2;\n",
    "    // Loop until n is greater than 1\n",
    "    while (n > 1) {\n",
    "        // Init the exponent of the current divisor to 0\n",
    "        let exponent = 0;\n",
    "        // While n is divisible by the current divisor\n",
    "        while (n % divisor === 0) {\n",
    "            // Increment the exponent\n",
    "            exponent++;\n",
    "            // Divide n by the divisor\n",
    "            n /= divisor;\n",
    "        }\n",
    "        // If the exponent is greater than 0\n",
    "        if (exponent > 0) {\n",
    "            // Format the output correctly with divisor and exponent\n",
    "            result += `(${divisor}`;\n",
    "            if (exponent > 1) {\n",
    "                result += `**${exponent}`;\n",
    "            }\n",
    "            result += \")\";\n",
    "        }\n",
    "        // Increment the divisor for the next iteration\n",
    "        divisor++;\n",
    "    }\n",
    "    // Return the result\n",
    "    return result;\n",
    "}\n",
    "// Test the function\n",
    "console.log(primeFactors(24));    // Output: \"(2**3)*(3)\"\n",
    "console.log(primeFactors(86240)); // Output: \"(2**5)*(5)*(7**2)*(11\n",
    "                        \n",
    "                        "
   ]
  },
  {
   "cell_type": "code",
   "execution_count": null,
   "id": "82fe6929",
   "metadata": {},
   "outputs": [],
   "source": []
  }
 ],
 "metadata": {
  "kernelspec": {
   "display_name": "Python 3 (ipykernel)",
   "language": "python",
   "name": "python3"
  },
  "language_info": {
   "codemirror_mode": {
    "name": "ipython",
    "version": 3
   },
   "file_extension": ".py",
   "mimetype": "text/x-python",
   "name": "python",
   "nbconvert_exporter": "python",
   "pygments_lexer": "ipython3",
   "version": "3.11.4"
  }
 },
 "nbformat": 4,
 "nbformat_minor": 5
}

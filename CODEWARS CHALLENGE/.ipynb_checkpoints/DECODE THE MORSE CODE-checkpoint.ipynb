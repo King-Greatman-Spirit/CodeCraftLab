{
 "cells": [
  {
   "cell_type": "markdown",
   "id": "f9b5fcd2",
   "metadata": {},
   "source": [
    "DESCRIPTION:\n",
    "Part of Series 1/3\n",
    "This kata is part of a series on the Morse code. After you solve this kata, you may move to the next one.\n",
    "\n",
    "In this kata you have to write a simple Morse code decoder. While the Morse code is now mostly superseded by voice and digital data communication channels, it still has its use in some applications around the world.\n",
    "The Morse code encodes every character as a sequence of \"dots\" and \"dashes\". For example, the letter A is coded as ·−, letter Q is coded as −−·−, and digit 1 is coded as ·−−−−. The Morse code is case-insensitive, traditionally capital letters are used. When the message is written in Morse code, a single space is used to separate the character codes and 3 spaces are used to separate words. For example, the message HEY JUDE in Morse code is ···· · −·−−   ·−−− ··− −·· ·.\n",
    "\n",
    "NOTE: Extra spaces before or after the code have no meaning and should be ignored.\n",
    "\n",
    "In addition to letters, digits and some punctuation, there are some special service codes, the most notorious of those is the international distress signal SOS (that was first issued by Titanic), that is coded as ···−−−···. These special codes are treated as single special characters, and usually are transmitted as separate words.\n",
    "\n",
    "Your task is to implement a function that would take the morse code as input and return a decoded human-readable string.\n",
    "\n",
    "For example:\n",
    "\n",
    "decode_morse('.... . -.--   .--- ..- -.. .')\n",
    "\n",
    "#should return \"HEY JUDE\"\n",
    "\n",
    "NOTE: For coding purposes you have to use ASCII characters . and -, not Unicode characters.\n",
    "\n",
    "The Morse code table is preloaded for you as a dictionary, feel free to use it:\n",
    "\n",
    "Coffeescript/C++/Go/JavaScript/Julia/PHP/Python/Ruby/TypeScript: MORSE_CODE['.--']\n",
    "\n",
    "C#: MorseCode.Get(\".--\") (returns string)\n",
    "\n",
    "F#: MorseCode.get \".--\" (returns string)\n",
    "\n",
    "Elixir: @morse_codes variable (from use MorseCode.Constants). Ignore the unused variable warning for morse_codes because it's no longer used and kept only for old solutions.\n",
    "\n",
    "Elm: MorseCodes.get : Dict String String\n",
    "\n",
    "Haskell: morseCodes ! \".--\" (Codes are in a Map String String)\n",
    "\n",
    "Java: MorseCode.get(\".--\")\n",
    "\n",
    "Kotlin: MorseCode[\".--\"] ?: \"\" or MorseCode.getOrDefault(\".--\", \"\")\n",
    "\n",
    "Racket: morse-code (a hash table)\n",
    "\n",
    "Rust: MORSE_CODE\n",
    "\n",
    "Scala: morseCodes(\".--\")\n",
    "\n",
    "Swift: MorseCode[\".--\"] ?? \"\" or MorseCode[\".--\", default: \"\"]\n",
    "\n",
    "C: provides parallel arrays, i.e. morse[2] == \"-.-\" for ascii[2] == \"C\"\n",
    "\n",
    "NASM: a table of pointers to the morsecodes, and a corresponding list of ascii symbols\n",
    "All the test strings would contain valid Morse code, so you may skip checking for errors and exceptions. In C#, tests will fail if the solution code throws an exception, please keep that in mind. This is mostly because otherwise the engine would simply ignore the tests, resulting in a \"valid\" solution.\n",
    "\n",
    "Good luck!\n",
    "\n",
    "After you complete this kata, you may try yourself at Decode the Morse code, advanced."
   ]
  },
  {
   "cell_type": "code",
   "execution_count": 3,
   "id": "d4dbef5a",
   "metadata": {},
   "outputs": [
    {
     "ename": "NameError",
     "evalue": "name 'MORSE_CODE' is not defined",
     "output_type": "error",
     "traceback": [
      "\u001b[1;31m---------------------------------------------------------------------------\u001b[0m",
      "\u001b[1;31mNameError\u001b[0m                                 Traceback (most recent call last)",
      "Cell \u001b[1;32mIn[3], line 29\u001b[0m\n\u001b[0;32m     26\u001b[0m     \u001b[38;5;28;01mreturn\u001b[39;00m decoded_message\u001b[38;5;241m.\u001b[39mstrip()\n\u001b[0;32m     28\u001b[0m \u001b[38;5;66;03m# Example usage and testing:\u001b[39;00m\n\u001b[1;32m---> 29\u001b[0m \u001b[38;5;28mprint\u001b[39m(decode_morse(\u001b[38;5;124m'\u001b[39m\u001b[38;5;124m.... . -.--   .--- ..- -.. .\u001b[39m\u001b[38;5;124m'\u001b[39m))\n",
      "Cell \u001b[1;32mIn[3], line 22\u001b[0m, in \u001b[0;36mdecode_morse\u001b[1;34m(morse_code)\u001b[0m\n\u001b[0;32m     19\u001b[0m \u001b[38;5;66;03m# Iterate through each morse code chars in the word\u001b[39;00m\n\u001b[0;32m     20\u001b[0m \u001b[38;5;28;01mfor\u001b[39;00m char \u001b[38;5;129;01min\u001b[39;00m chars:\n\u001b[0;32m     21\u001b[0m     \u001b[38;5;66;03m# Decode the morse code char using the MORSE_CODE dict and append it to the decoded_word\u001b[39;00m\n\u001b[1;32m---> 22\u001b[0m     decoded_word \u001b[38;5;241m+\u001b[39m\u001b[38;5;241m=\u001b[39m MORSE_CODE[char]\n\u001b[0;32m     23\u001b[0m \u001b[38;5;66;03m# Add the decoded word to the decoded_message with a space\u001b[39;00m\n\u001b[0;32m     24\u001b[0m decoded_message \u001b[38;5;241m+\u001b[39m\u001b[38;5;241m=\u001b[39m decoded_word \u001b[38;5;241m+\u001b[39m \u001b[38;5;124m'\u001b[39m\u001b[38;5;124m \u001b[39m\u001b[38;5;124m'\u001b[39m\n",
      "\u001b[1;31mNameError\u001b[0m: name 'MORSE_CODE' is not defined"
     ]
    }
   ],
   "source": [
    "from preloaded import MORSE_CODE\n",
    "\n",
    "def decode_morse(morse_code):\n",
    "    # Remember - you can use the preloaded MORSE_CODE dictionary:\n",
    "    # For example: \n",
    "    # MORSE_CODE['.-'] = 'A'\n",
    "    # MORSE_CODE['--...'] = '7'\n",
    "    # MORSE_CODE['...-..-'] = '$'\n",
    "    # Split the morse code into individual words by splitting into 3 spaces\n",
    "    words = morse_code.strip().split('   ')\n",
    "    # Init an empty str to store the decoded message\n",
    "    decoded_message = ''\n",
    "    #Iterate through each word in the morse code\n",
    "    for word in words:\n",
    "        # Split the word into individual morse code chars by splitting on spaces\n",
    "        chars = word.split(' ')\n",
    "        # Init an empty str to store the decoded chars of the word\n",
    "        decoded_word = ''\n",
    "        # Iterate through each morse code chars in the word\n",
    "        for char in chars:\n",
    "            # Decode the morse code char using the MORSE_CODE dict and append it to the decoded_word\n",
    "            decoded_word += MORSE_CODE[char]\n",
    "        # Add the decoded word to the decoded_message with a space\n",
    "        decoded_message += decoded_word + ' '\n",
    "    # Return the decodede message with trailing and leading spaces removed\n",
    "    return decoded_message.strip()\n",
    "\n",
    "# Example usage and testing:\n",
    "print(decode_morse('.... . -.--   .--- ..- -.. .'))  # Output should be \"HEY JUDE\""
   ]
  },
  {
   "cell_type": "code",
   "execution_count": null,
   "id": "21b831f2",
   "metadata": {},
   "outputs": [],
   "source": []
  }
 ],
 "metadata": {
  "kernelspec": {
   "display_name": "Python 3 (ipykernel)",
   "language": "python",
   "name": "python3"
  },
  "language_info": {
   "codemirror_mode": {
    "name": "ipython",
    "version": 3
   },
   "file_extension": ".py",
   "mimetype": "text/x-python",
   "name": "python",
   "nbconvert_exporter": "python",
   "pygments_lexer": "ipython3",
   "version": "3.11.4"
  }
 },
 "nbformat": 4,
 "nbformat_minor": 5
}

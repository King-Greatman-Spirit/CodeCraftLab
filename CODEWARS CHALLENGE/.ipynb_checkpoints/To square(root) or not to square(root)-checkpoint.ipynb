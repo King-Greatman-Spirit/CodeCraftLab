{
 "cells": [
  {
   "cell_type": "code",
   "execution_count": null,
   "id": "963b003a",
   "metadata": {},
   "outputs": [],
   "source": [
    "DESCRIPTION:\n",
    "Write a method, that will get an integer array as parameter and will process every number from this array.\n",
    "\n",
    "Return a new array with processing every number of the input-array like this:\n",
    "\n",
    "If the number has an integer square root, take this, otherwise square the number.\n",
    "\n",
    "Example\n",
    "[4,3,9,7,2,1] -> [2,9,3,49,4,1]\n",
    "Notes\n",
    "The input array will always contain only positive numbers, and will never be empty or null."
   ]
  },
  {
   "cell_type": "code",
   "execution_count": 3,
   "id": "a7384eac",
   "metadata": {},
   "outputs": [
    {
     "name": "stdout",
     "output_type": "stream",
     "text": [
      "[2, 9, 3, 49, 4, 1]\n"
     ]
    }
   ],
   "source": [
    "import math\n",
    "\n",
    "def square_or_square_root(arr):\n",
    "    # Using list comprehension\n",
    "    return [math.isqrt(num) if math.isqrt(num) ** 2 == num else num ** 2 for num in arr]\n",
    "\n",
    "# Example\n",
    "arr = [4, 3, 9, 7, 2, 1]  \n",
    "print(square_or_square_root(arr))  # Output: [2, 9, 3, 49, 4, 1]\n"
   ]
  },
  {
   "cell_type": "code",
   "execution_count": 1,
   "id": "2c8bf69c",
   "metadata": {},
   "outputs": [
    {
     "name": "stdout",
     "output_type": "stream",
     "text": [
      "[2, 9, 3, 49, 4, 1]\n"
     ]
    }
   ],
   "source": [
    "import math\n",
    "\n",
    "def square_or_square_root(arr):\n",
    "    result = []  # Initialize an empty list to store the results\n",
    "    \n",
    "    for num in arr:\n",
    "        if math.isqrt(num) ** 2 == num:\n",
    "            result.append(math.isqrt(num))  # If it's a perfect square, append its square root\n",
    "        else:\n",
    "            result.append(num ** 2)  # If not a perfect square, append its square\n",
    "    \n",
    "    return result\n",
    "\n",
    "# Example\n",
    "arr = [4, 3, 9, 7, 2, 1]  \n",
    "print(square_or_square_root(arr))  # Output: [2, 9, 3, 49, 4, 1]\n"
   ]
  },
  {
   "cell_type": "code",
   "execution_count": null,
   "id": "0252b575",
   "metadata": {},
   "outputs": [],
   "source": [
    "function squareOrSquareRoot(arr) {\n",
    "    let result = [];  // Initialize an empty array to store the results\n",
    "\n",
    "    for (let num of arr) {\n",
    "        if (Number.isInteger(Math.sqrt(num))) {\n",
    "            result.push(Math.sqrt(num));  // If it's a perfect square, append its square root\n",
    "        } else {\n",
    "            result.push(num ** 2);  // If not a perfect square, append its square\n",
    "        }\n",
    "    }\n",
    "\n",
    "    return result;\n",
    "}\n",
    "\n",
    "// Example\n",
    "const arr = [4, 3, 9, 7, 2, 1];\n",
    "console.log(squareOrSquareRoot(arr));  // Output: [2, 9, 3, 49, 4, 1]\n"
   ]
  },
  {
   "cell_type": "code",
   "execution_count": null,
   "id": "d7e263db",
   "metadata": {},
   "outputs": [],
   "source": [
    "function squareOrSquareRoot(arr) {\n",
    "    let result = [];  // Initialize an empty array to store the results\n",
    "\n",
    "    for (let i = 0; i < arr.length; i++) {\n",
    "        let num = arr[i];\n",
    "        if (Number.isInteger(Math.sqrt(num))) {\n",
    "            result.push(Math.sqrt(num));  // If it's a perfect square, append its square root\n",
    "        } else {\n",
    "            result.push(num ** 2);  // If not a perfect square, append its square\n",
    "        }\n",
    "    }\n",
    "\n",
    "    return result;\n",
    "}\n",
    "\n",
    "// Example\n",
    "const arr = [4, 3, 9, 7, 2, 1];\n",
    "console.log(squareOrSquareRoot(arr));  // Output: [2, 9, 3, 49, 4, 1]\n"
   ]
  }
 ],
 "metadata": {
  "kernelspec": {
   "display_name": "Python 3 (ipykernel)",
   "language": "python",
   "name": "python3"
  },
  "language_info": {
   "codemirror_mode": {
    "name": "ipython",
    "version": 3
   },
   "file_extension": ".py",
   "mimetype": "text/x-python",
   "name": "python",
   "nbconvert_exporter": "python",
   "pygments_lexer": "ipython3",
   "version": "3.11.4"
  }
 },
 "nbformat": 4,
 "nbformat_minor": 5
}

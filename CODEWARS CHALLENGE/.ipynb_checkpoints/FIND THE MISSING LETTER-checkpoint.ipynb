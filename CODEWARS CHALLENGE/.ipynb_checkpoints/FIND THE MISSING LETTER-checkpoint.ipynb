{
 "cells": [
  {
   "cell_type": "markdown",
   "id": "a3954f3e",
   "metadata": {},
   "source": [
    "Find the missing letter\n",
    "Write a method that takes an array of consecutive (increasing) letters as input and that returns the missing letter in the array.\n",
    "\n",
    "You will always get an valid array. And it will be always exactly one letter be missing. The length of the array will always be at least 2.\n",
    "The array will always contain letters in only one case.\n",
    "\n",
    "Example:\n",
    "\n",
    "['a','b','c','d','f'] -> 'e'\n",
    "\n",
    "['O','Q','R','S'] -> 'P'\n",
    "\n",
    "(Use the English alphabet with 26 letters!)\n",
    "\n",
    "Have fun coding it and please don't forget to vote and rank this kata! :-)\n",
    "\n",
    "I have also created other katas. Take a look if you enjoyed this kata!\n",
    "\n"
   ]
  },
  {
   "cell_type": "code",
   "execution_count": 1,
   "id": "a78c0982",
   "metadata": {},
   "outputs": [
    {
     "name": "stdout",
     "output_type": "stream",
     "text": [
      "e\n"
     ]
    }
   ],
   "source": [
    "def find_missing_letter(chars):\n",
    "    # Get the ASCII value of the first chars in the array\n",
    "    first_char = ord(chars[0])\n",
    "    # Iterate through the chars in the array starting from the second chars\n",
    "    for i in range(1, len(chars)):\n",
    "        current_char = ord(chars[i])\n",
    "        # If the diff btw the ASCII values is > 1, a char is missing\n",
    "        if current_char - first_char > 1:\n",
    "            # Return the missing char by converting the ASCII value to char\n",
    "            return chr(current_char - 1)\n",
    "        # Update the first chars for the next iteration\n",
    "        first_char= current_char\n",
    "\n",
    "# Example usage and testing:\n",
    "print(find_missing_letter(['a', 'b', 'c', 'd', 'f']))  # Output should be 'e'"
   ]
  },
  {
   "cell_type": "code",
   "execution_count": null,
   "id": "9b7458f4",
   "metadata": {},
   "outputs": [],
   "source": []
  },
  {
   "cell_type": "markdown",
   "id": "44c56dbb",
   "metadata": {},
   "source": [
    "## JAVASCRIPT SOLUTION"
   ]
  },
  {
   "cell_type": "code",
   "execution_count": null,
   "id": "a34fddd4",
   "metadata": {},
   "outputs": [],
   "source": [
    "function findMissingLetter(chars) {\n",
    "  // Get the ASCII value of the first char in the array\n",
    "  let firstChar = chars[0].charCodeAt(0);\n",
    "  // Iterate through the chars in the array starting from the second char\n",
    "  for (let i = 1; i < chars.length; i++) {\n",
    "    // Get the ASCII value of the current char\n",
    "    let currentChar = chars[i].charCodeAt(0);\n",
    "    // If the diff btw the ASCII values is > 1, a char is missing\n",
    "    if (currentChar - firstChar > 1) {\n",
    "      // Return the missing char by converting the ASCII value to char\n",
    "      return String.fromCharCode(currentChar - 1);\n",
    "    }\n",
    "    // Update the first char for the next iteration\n",
    "    firstChar = currentChar;\n",
    "  }\n",
    "}\n",
    "\n",
    "// Example usage and testing:\n",
    "console.log(findMissingLetter(['a', 'b', 'c', 'd', 'f']));  // Output should be 'e'\n",
    "console.log(findMissingLetter(['O', 'Q', 'R', 'S']));      // Output should be 'P'"
   ]
  },
  {
   "cell_type": "code",
   "execution_count": null,
   "id": "ad520801",
   "metadata": {},
   "outputs": [],
   "source": []
  }
 ],
 "metadata": {
  "kernelspec": {
   "display_name": "Python 3 (ipykernel)",
   "language": "python",
   "name": "python3"
  },
  "language_info": {
   "codemirror_mode": {
    "name": "ipython",
    "version": 3
   },
   "file_extension": ".py",
   "mimetype": "text/x-python",
   "name": "python",
   "nbconvert_exporter": "python",
   "pygments_lexer": "ipython3",
   "version": "3.11.4"
  }
 },
 "nbformat": 4,
 "nbformat_minor": 5
}

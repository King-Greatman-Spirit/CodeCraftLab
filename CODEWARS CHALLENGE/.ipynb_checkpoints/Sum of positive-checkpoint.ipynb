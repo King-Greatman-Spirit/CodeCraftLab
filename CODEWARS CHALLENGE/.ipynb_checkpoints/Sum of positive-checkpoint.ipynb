{
 "cells": [
  {
   "cell_type": "code",
   "execution_count": 5,
   "id": "6553a084",
   "metadata": {},
   "outputs": [
    {
     "data": {
      "text/plain": [
       "0"
      ]
     },
     "execution_count": 5,
     "metadata": {},
     "output_type": "execute_result"
    }
   ],
   "source": [
    "# You get an array of numbers, return the sum of all of the positives ones.\n",
    "# Example [1,-4,7,12] => 1 + 7 + 12 = 20\n",
    "# Note: if there is nothing to sum, the sum is default to 0.\n",
    "\n",
    "def positive_sum(arr):\n",
    "    # Your code here\n",
    "    for i in arr:\n",
    "        if i < 0:\n",
    "            return sum(int(i))\n",
    "        else:\n",
    "            return 0\n",
    "\n",
    "arr = [1,-4,7,12]\n",
    "positive_sum(arr)"
   ]
  },
  {
   "cell_type": "code",
   "execution_count": 3,
   "id": "d190624c",
   "metadata": {},
   "outputs": [
    {
     "name": "stdout",
     "output_type": "stream",
     "text": [
      "20\n"
     ]
    }
   ],
   "source": [
    "def positive_sum(arr):\n",
    "    # Initialize a variable to store the sum\n",
    "    total_sum = 0\n",
    "    \n",
    "    # Iterate through the array\n",
    "    for num in arr:\n",
    "        # Check if the number is positive\n",
    "        if num > 0:\n",
    "            # Add the positive number to the sum\n",
    "            total_sum += num\n",
    "    \n",
    "    # Return the final sum\n",
    "    return total_sum\n",
    "\n",
    "# Example usage\n",
    "arr = [1, -4, 7, 12]\n",
    "result = positive_sum(arr)\n",
    "print(result)  # Output: 20\n"
   ]
  },
  {
   "cell_type": "code",
   "execution_count": 7,
   "id": "ce9fb36f",
   "metadata": {},
   "outputs": [],
   "source": [
    "def positive_sum(arr):\n",
    "    total = sum(x for x in arr if x > 0)\n",
    "    return total\n",
    "\n",
    "arr = [1, -4, 7, 12]\n",
    "result = positive_sum(arr)"
   ]
  },
  {
   "cell_type": "code",
   "execution_count": 9,
   "id": "93feace5",
   "metadata": {},
   "outputs": [],
   "source": []
  },
  {
   "cell_type": "code",
   "execution_count": null,
   "id": "4621d959",
   "metadata": {},
   "outputs": [],
   "source": []
  }
 ],
 "metadata": {
  "kernelspec": {
   "display_name": "Python 3 (ipykernel)",
   "language": "python",
   "name": "python3"
  },
  "language_info": {
   "codemirror_mode": {
    "name": "ipython",
    "version": 3
   },
   "file_extension": ".py",
   "mimetype": "text/x-python",
   "name": "python",
   "nbconvert_exporter": "python",
   "pygments_lexer": "ipython3",
   "version": "3.11.4"
  }
 },
 "nbformat": 4,
 "nbformat_minor": 5
}

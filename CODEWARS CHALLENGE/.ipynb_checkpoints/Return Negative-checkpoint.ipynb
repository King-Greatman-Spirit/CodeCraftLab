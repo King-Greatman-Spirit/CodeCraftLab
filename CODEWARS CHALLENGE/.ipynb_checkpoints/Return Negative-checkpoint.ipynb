{
 "cells": [
  {
   "cell_type": "code",
   "execution_count": null,
   "id": "43c0a3f9",
   "metadata": {},
   "outputs": [],
   "source": [
    "# In this simple assignment you are given a number and have to make it negative. But maybe the number is already negative?\n",
    "\n",
    "# Examples\n",
    "# makeNegative(1);    // return -1\n",
    "# makeNegative(-5);   // return -5\n",
    "# makeNegative(0);    // return 0\n",
    "# makeNegative(0.12); // return -0.12"
   ]
  },
  {
   "cell_type": "code",
   "execution_count": 1,
   "id": "8ffd15e5",
   "metadata": {},
   "outputs": [
    {
     "name": "stdout",
     "output_type": "stream",
     "text": [
      "-1\n",
      "-5\n",
      "0\n",
      "-0.12\n"
     ]
    }
   ],
   "source": [
    "def make_negative(number):\n",
    "    # Return the negation of the number\n",
    "    return -abs(number)\n",
    "\n",
    "# Example usage\n",
    "print(make_negative(-1))   # Output: -1\n",
    "print(make_negative(-5))   # Output: -5\n",
    "print(make_negative(0))    # Output: 0\n",
    "print(make_negative(-0.12)) # Output: -0.12"
   ]
  },
  {
   "cell_type": "code",
   "execution_count": 2,
   "id": "34dc3f32",
   "metadata": {},
   "outputs": [
    {
     "name": "stdout",
     "output_type": "stream",
     "text": [
      "-1\n",
      "-5\n",
      "0\n",
      "-0.12\n"
     ]
    }
   ],
   "source": [
    "def make_negative(number):\n",
    "    # Make the number negative if it's not already\n",
    "    return number if number < 0 else -number\n",
    "\n",
    "# Example usage\n",
    "print(make_negative(-1))   # Output: -1\n",
    "print(make_negative(-5))   # Output: -5\n",
    "print(make_negative(0))    # Output: 0\n",
    "print(make_negative(-0.12)) # Output: -0.12\n"
   ]
  },
  {
   "cell_type": "code",
   "execution_count": null,
   "id": "a7708e58",
   "metadata": {},
   "outputs": [],
   "source": [
    "function makeNegative(number) {\n",
    "    // Return the negation of the number\n",
    "    return -Math.abs(number);\n",
    "}\n",
    "\n",
    "// Example usage\n",
    "console.log(makeNegative(-1));    // Output: -1\n",
    "console.log(makeNegative(-5));    // Output: -5\n",
    "console.log(makeNegative(0));     // Output: 0\n",
    "console.log(makeNegative(-0.12)); // Output: -0.12\n"
   ]
  }
 ],
 "metadata": {
  "kernelspec": {
   "display_name": "Python 3 (ipykernel)",
   "language": "python",
   "name": "python3"
  },
  "language_info": {
   "codemirror_mode": {
    "name": "ipython",
    "version": 3
   },
   "file_extension": ".py",
   "mimetype": "text/x-python",
   "name": "python",
   "nbconvert_exporter": "python",
   "pygments_lexer": "ipython3",
   "version": "3.11.4"
  }
 },
 "nbformat": 4,
 "nbformat_minor": 5
}

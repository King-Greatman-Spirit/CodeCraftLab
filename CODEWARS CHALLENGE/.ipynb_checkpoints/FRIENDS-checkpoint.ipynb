{
 "cells": [
  {
   "cell_type": "markdown",
   "id": "4a438589",
   "metadata": {},
   "source": [
    "Friends\n",
    "Andrzej was given a task:\n",
    "\n",
    "There are n jars with pills. In every jar there is a different type of pill and the amount of pills in each jar is infinite. One type of pill makes a person glow about 30 minutes after taking and none of the other types has any effect.\n",
    "\n",
    "His job is to determine, in which jar are the pills that make a person glow. But there is one catch, he only has 35 minutes to do so.(so he can't take a pill, wait for the results and then take another one, because he wouldn't be able to see the results) Fortunetely, he can take any number of friends he needs with him. On completing the task Andrzej receives one million dollars. You know that Andrzej is very honest, so he will split the money equally with his friends.\n",
    "\n",
    "Your job is to determine how many friends does Andrzej need to complete the task.(He also wants to make the highest amount of money.)\n",
    "\n",
    "For example for n = 2\n",
    "\n",
    "The answer is 0 because he doesn't need any friends, he just needs to take a pill from the first jar and wait for the effects.\n",
    "\n",
    "For another example for n = 4\n",
    "\n",
    "The answer is 1 because having pills A B C D Andrzej can take pills A B and the friend can take pills B C\n",
    "\n",
    "Note: Andrzej is not able to accurately measure time during the task."
   ]
  },
  {
   "cell_type": "code",
   "execution_count": 3,
   "id": "087ae64d",
   "metadata": {},
   "outputs": [
    {
     "name": "stdout",
     "output_type": "stream",
     "text": [
      "1\n",
      "3\n"
     ]
    }
   ],
   "source": [
    "def friends(n):\n",
    "    # Andrzej needs one friend for each pill except the first one\n",
    "    # The friend takes the pill from the previous jar to cover all combinations\n",
    "    return max(0, n - 1)\n",
    "\n",
    "# Example\n",
    "result_1 = friends(2)\n",
    "print(result_1)  # Output: 0\n",
    "\n",
    "result_2 = friends(4)\n",
    "print(result_2)  # Output: 1\n"
   ]
  },
  {
   "cell_type": "code",
   "execution_count": 4,
   "id": "05b62e4c",
   "metadata": {},
   "outputs": [
    {
     "name": "stdout",
     "output_type": "stream",
     "text": [
      "0\n",
      "1\n"
     ]
    }
   ],
   "source": [
    "def friends(n):\n",
    "    return (n-1 or 1).bit_length()-1\n",
    "\n",
    "# Example\n",
    "result_1 = friends(2)\n",
    "print(result_1)  # Output: 0\n",
    "\n",
    "result_2 = friends(4)\n",
    "print(result_2)  # Output: 1"
   ]
  },
  {
   "cell_type": "code",
   "execution_count": 5,
   "id": "1469e645",
   "metadata": {},
   "outputs": [
    {
     "name": "stdout",
     "output_type": "stream",
     "text": [
      "0\n",
      "1\n"
     ]
    }
   ],
   "source": [
    "def friends(n):\n",
    "    # Check if there is only one jar, no friend is needed\n",
    "    if n == 1:\n",
    "        return 0\n",
    "    else:\n",
    "        # Calculate the number of friends needed based on the number of jars\n",
    "        # by finding the position of the leftmost set bit in the binary representation of (n - 1)\n",
    "        return (n - 1).bit_length() - 1\n",
    "\n",
    "# Example\n",
    "result_1 = friends(2)\n",
    "# Output: 0, as there is no need for a friend when there are only two jars\n",
    "print(result_1)\n",
    "\n",
    "result_2 = friends(4)\n",
    "# Output: 1, as one friend is needed for each jar except the first one\n",
    "print(result_2)\n"
   ]
  },
  {
   "cell_type": "code",
   "execution_count": null,
   "id": "e711d213",
   "metadata": {},
   "outputs": [],
   "source": [
    "function friends(n) {\n",
    "    if (n === 1) {\n",
    "        return 0;\n",
    "    } else {\n",
    "        return Math.floor(Math.log2(n - 1));\n",
    "    }\n",
    "}\n",
    "\n",
    "// Example\n",
    "const result_1 = friends(2);\n",
    "console.log(result_1);  // Output: 0\n",
    "\n",
    "const result_2 = friends(4);\n",
    "console.log(result_2);  // Output: 1\n"
   ]
  }
 ],
 "metadata": {
  "kernelspec": {
   "display_name": "Python 3 (ipykernel)",
   "language": "python",
   "name": "python3"
  },
  "language_info": {
   "codemirror_mode": {
    "name": "ipython",
    "version": 3
   },
   "file_extension": ".py",
   "mimetype": "text/x-python",
   "name": "python",
   "nbconvert_exporter": "python",
   "pygments_lexer": "ipython3",
   "version": "3.11.4"
  }
 },
 "nbformat": 4,
 "nbformat_minor": 5
}

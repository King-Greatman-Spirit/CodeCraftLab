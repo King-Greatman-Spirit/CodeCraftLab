{
 "cells": [
  {
   "cell_type": "markdown",
   "id": "686c951c",
   "metadata": {},
   "source": [
    "Your task is to sort a given string. Each word in the string will contain a single number. This number is the position the word should have in the result.\n",
    "\n",
    "Note: Numbers can be from 1 to 9. So 1 will be the first word (not 0).\n",
    "\n",
    "If the input string is empty, return an empty string. The words in the input String will only contain valid consecutive numbers.\n",
    "\n",
    "Examples\n",
    "\n",
    "\"is2 Thi1s T4est 3a\"  -->  \"Thi1s is2 3a T4est\"\n",
    "\n",
    "\"4of Fo1r pe6ople g3ood th5e the2\"  -->  \"Fo1r the2 \n",
    "g3ood 4of th5e pe6ople\"\n",
    "\n",
    "\"\"  -->  \"\""
   ]
  },
  {
   "cell_type": "code",
   "execution_count": 1,
   "id": "f113221d",
   "metadata": {},
   "outputs": [
    {
     "name": "stdout",
     "output_type": "stream",
     "text": [
      "Thi1s is2 3a T4est\n",
      "Fo1r the2 g3ood 4of th5e pe6ople\n",
      "\n"
     ]
    }
   ],
   "source": [
    "def order(sentence):\n",
    "    # Split the sentence into words\n",
    "    words = sentence.split()\n",
    "    \n",
    "    # Create a dict to store each with its corresponding number\n",
    "    word_dict = {}\n",
    "    \n",
    "    # Iterate through each word in the sentence\n",
    "    for word in words:\n",
    "        # Find the number in the word\n",
    "        for char in word:\n",
    "            if char.isdigit():\n",
    "                num = int(char)\n",
    "                break\n",
    "                \n",
    "        # Assign the word to the dict with its number as the key\n",
    "        word_dict[num] = word\n",
    "        \n",
    "    # Sort the dictionary with its number as the key\n",
    "    sorted_words = [word_dict[i] for i in range(1, len(words)+1)]\n",
    "    \n",
    "    # Join the sorted words into a string and return\n",
    "    return ' '.join(sorted_words)\n",
    "\n",
    "#Example usage and testing:\n",
    "print(order(\"is2 Thi1s T4est 3a\"))  # Output should be \"Thi1s is2 3a T4est\"\n",
    "print(order(\"4of Fo1r pe6ople g3ood th5e the2\"))  # Output should be \"Fo1r the2 g3ood 4of th5e pe6ople\"\n",
    "print(order(\"\"))  # Output should be \"\"\n",
    "        "
   ]
  },
  {
   "cell_type": "code",
   "execution_count": 4,
   "id": "d41fc805",
   "metadata": {},
   "outputs": [
    {
     "data": {
      "text/plain": [
       "['Iterate', 'through', 'each', 'word', 'in', 'the', 'sentence']"
      ]
     },
     "execution_count": 4,
     "metadata": {},
     "output_type": "execute_result"
    }
   ],
   "source": [
    "sentence = \"Iterate through each word in the sentence\"\n",
    "words = sentence.split()\n",
    "words"
   ]
  },
  {
   "cell_type": "code",
   "execution_count": 6,
   "id": "c8eff4ee",
   "metadata": {},
   "outputs": [
    {
     "name": "stdout",
     "output_type": "stream",
     "text": [
      "Thi1s is2 3a T4est\n",
      "Fo1r the2 g3ood 4of th5e pe6ople\n",
      "\n"
     ]
    }
   ],
   "source": [
    "def order(sentence):\n",
    "    # Split the sentence into words\n",
    "    words = sentence.split()\n",
    "    \n",
    "    # Create a dictionary to store each word with its corresponding number\n",
    "    word_dict = {}\n",
    "    \n",
    "    # Iterate through each word in the sentence\n",
    "    for word in words:\n",
    "        # Find the number in the word\n",
    "        for char in word:\n",
    "            if char.isdigit():\n",
    "                num = int(char)\n",
    "                break\n",
    "        \n",
    "        # Assign the word to the dictionary with its number as the key\n",
    "        word_dict[num] = word\n",
    "    \n",
    "    # Initialize an empty list to store sorted words\n",
    "    sorted_words = []\n",
    "    \n",
    "    # Iterate through numbers from 1 to the length of words\n",
    "    for i in range(1, len(words)+1):\n",
    "        # Append the word corresponding to the number to the sorted_words list\n",
    "        sorted_words.append(word_dict[i])\n",
    "    \n",
    "    # Join the sorted words into a string and return\n",
    "    return ' '.join(sorted_words)\n",
    "\n",
    "# Example usage and testing:\n",
    "print(order(\"is2 Thi1s T4est 3a\"))  # Output should be \"Thi1s is2 3a T4est\"\n",
    "print(order(\"4of Fo1r pe6ople g3ood th5e the2\"))  # Output should be \"Fo1r the2 g3ood 4of th5e pe6ople\"\n",
    "print(order(\"\"))  # Output should be \"\"\n"
   ]
  },
  {
   "cell_type": "markdown",
   "id": "ce646aca",
   "metadata": {},
   "source": [
    "JAVASCRIPT"
   ]
  },
  {
   "cell_type": "code",
   "execution_count": null,
   "id": "9e46e962",
   "metadata": {},
   "outputs": [],
   "source": [
    "function order(sentence){\n",
    "  // Split the sentence into words\n",
    "  const words = sentence.split(' ');\n",
    "  \n",
    "  // Create an array to store each word with its corresponding number\n",
    "  const wordArray = [];\n",
    "  \n",
    "  // Iterate through each word in the sentence\n",
    "  for (let word of words) {\n",
    "    // Find the number in the word\n",
    "    // const num = parseInt(word.match(/\\d+/)[0]);\n",
    "    // Extracts the number from each word in the sentence and assigns it to the variable 'num'.\n",
    "    // If no number is found in the word, 'num' will be assigned null.\n",
    "    const matchResult = word.match(/\\d+/);\n",
    "    const num = matchResult ? parseInt(matchResult[0]) : null;\n",
    "\n",
    "    \n",
    "    // Assign the word to the array with its number as the index\n",
    "    wordArray[num - 1] = word;\n",
    "  }\n",
    "  \n",
    "  // Join the sorted words into a string and return\n",
    "  return wordArray.join(' ');\n",
    "}\n",
    "\n",
    "// Example usage and testing:\n",
    "console.log(order(\"is2 Thi1s T4est 3a\"));  // Output should be \"Thi1s is2 3a T4est\"\n",
    "console.log(order(\"4of Fo1r pe6ople g3ood th5e the2\"));  // Output should be \"Fo1r the2 g3ood 4of th5e pe6ople\"\n",
    "console.log(order(\" \"))// Output should be \" \""
   ]
  }
 ],
 "metadata": {
  "kernelspec": {
   "display_name": "Python 3 (ipykernel)",
   "language": "python",
   "name": "python3"
  },
  "language_info": {
   "codemirror_mode": {
    "name": "ipython",
    "version": 3
   },
   "file_extension": ".py",
   "mimetype": "text/x-python",
   "name": "python",
   "nbconvert_exporter": "python",
   "pygments_lexer": "ipython3",
   "version": "3.11.4"
  }
 },
 "nbformat": 4,
 "nbformat_minor": 5
}

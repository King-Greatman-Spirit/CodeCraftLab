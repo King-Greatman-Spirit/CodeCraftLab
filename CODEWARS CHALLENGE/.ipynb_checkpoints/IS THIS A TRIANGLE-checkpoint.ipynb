{
 "cells": [
  {
   "cell_type": "markdown",
   "id": "f55ea185",
   "metadata": {},
   "source": [
    "DESCRIPTION:\n",
    "Implement a function that accepts 3 integer values a, b, c. \n",
    "The function should return true if a triangle can be built \n",
    "with the sides of given length and false in any other case.\n",
    "\n",
    "(In this case, all triangles must have surface greater than 0 \n",
    "to be accepted).\n",
    "\n",
    "Examples:\n",
    "\n",
    "Input -> Output\n",
    "1,2,2 -> true\n",
    "4,2,3 -> true\n",
    "2,2,2 -> true\n",
    "1,2,3 -> false\n",
    "-5,1,3 -> false\n",
    "0,2,3 -> false\n",
    "1,2,9 -> false "
   ]
  },
  {
   "cell_type": "code",
   "execution_count": 2,
   "id": "f486db64",
   "metadata": {},
   "outputs": [
    {
     "name": "stdout",
     "output_type": "stream",
     "text": [
      "True\n",
      "True\n",
      "True\n",
      "False\n",
      "False\n",
      "False\n",
      "False\n"
     ]
    }
   ],
   "source": [
    "def is_triangle(a, b, c):\n",
    "# Check if all sides are positive and satisfy the triangle inequality\n",
    "     check = a > 0 and b > 0 and c > 0 and a + b > c and b + c > a and a + c > b\n",
    "    return check\n",
    "\n",
    "# Examples\n",
    "print(is_triangle(1, 2, 2))   # Output: True\n",
    "print(is_triangle(4, 2, 3))   # Output: True\n",
    "print(is_triangle(2, 2, 2))   # Output: True\n",
    "print(is_triangle(1, 2, 3))   # Output: False\n",
    "print(is_triangle(-5, 1, 3))  # Output: False\n",
    "print(is_triangle(0, 2, 3))   # Output: False\n",
    "print(is_triangle(1, 2, 9))   # Output: False"
   ]
  },
  {
   "cell_type": "code",
   "execution_count": null,
   "id": "9278e4b5",
   "metadata": {},
   "outputs": [],
   "source": [
    "function isTriangle(a, b, c) {\n",
    "    // Check if all sides are positive and satisfy the triangle inequality\n",
    "    return a > 0 && b > 0 && c > 0 && a + b > c && a + c > b && b + c > a;\n",
    "}\n",
    "\n",
    "// Examples\n",
    "console.log(isTriangle(1, 2, 2));   // Output: true\n",
    "console.log(isTriangle(4, 2, 3));   // Output: true\n",
    "console.log(isTriangle(2, 2, 2));   // Output: true\n",
    "console.log(isTriangle(1, 2, 3));   // Output: false\n",
    "console.log(isTriangle(-5, 1, 3));  // Output: false\n",
    "console.log(isTriangle(0, 2, 3));   // Output: false\n",
    "console.log(isTriangle(1, 2, 9));   // Output: false\n"
   ]
  }
 ],
 "metadata": {
  "kernelspec": {
   "display_name": "Python 3 (ipykernel)",
   "language": "python",
   "name": "python3"
  },
  "language_info": {
   "codemirror_mode": {
    "name": "ipython",
    "version": 3
   },
   "file_extension": ".py",
   "mimetype": "text/x-python",
   "name": "python",
   "nbconvert_exporter": "python",
   "pygments_lexer": "ipython3",
   "version": "3.11.4"
  }
 },
 "nbformat": 4,
 "nbformat_minor": 5
}

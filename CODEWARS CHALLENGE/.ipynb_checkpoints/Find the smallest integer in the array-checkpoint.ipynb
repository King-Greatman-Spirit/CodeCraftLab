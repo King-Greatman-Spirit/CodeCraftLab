{
 "cells": [
  {
   "cell_type": "code",
   "execution_count": null,
   "id": "b06ef342",
   "metadata": {},
   "outputs": [],
   "source": [
    "# Given an array of integers your solution should find the smallest integer.\n",
    "\n",
    "# For example:\n",
    "\n",
    "# Given [34, 15, 88, 2] your solution will return 2\n",
    "# Given [34, -345, -1, 100] your solution will return -345\n",
    "# You can assume, for the purpose of this kata, that the supplied array will not be empty."
   ]
  },
  {
   "cell_type": "code",
   "execution_count": 3,
   "id": "4bb502ae",
   "metadata": {},
   "outputs": [
    {
     "name": "stdout",
     "output_type": "stream",
     "text": [
      "2\n",
      "-345\n"
     ]
    }
   ],
   "source": [
    "def find_smallest_int(arr):\n",
    "    # Return the smallest integer in the array\n",
    "    return min(arr)\n",
    "\n",
    "# Example usage\n",
    "arr1 = [34, 15, 88, 2]\n",
    "arr2 = [34, -345, -1, 100]\n",
    "\n",
    "print(find_smallest_int(arr1))  # Output: 2\n",
    "print(find_smallest_int(arr2))  # Output: -345"
   ]
  },
  {
   "cell_type": "code",
   "execution_count": null,
   "id": "0ca94f33",
   "metadata": {},
   "outputs": [],
   "source": [
    "class SmallestIntegerFinder {\n",
    "  findSmallestInt(args) {\n",
    "    // Return the smallest integer in the array\n",
    "    return Math.min(...args);\n",
    "  }\n",
    "}\n",
    "\n",
    "// Example usage\n",
    "const finder = new SmallestIntegerFinder();\n",
    "const arr1 = [34, 15, 88, 2];\n",
    "const arr2 = [34, -345, -1, 100];\n",
    "\n",
    "console.log(finder.findSmallestInt(arr1));  // Output: 2\n",
    "console.log(finder.findSmallestInt(arr2));  // Output: -345"
   ]
  }
 ],
 "metadata": {
  "kernelspec": {
   "display_name": "Python 3 (ipykernel)",
   "language": "python",
   "name": "python3"
  },
  "language_info": {
   "codemirror_mode": {
    "name": "ipython",
    "version": 3
   },
   "file_extension": ".py",
   "mimetype": "text/x-python",
   "name": "python",
   "nbconvert_exporter": "python",
   "pygments_lexer": "ipython3",
   "version": "3.11.4"
  }
 },
 "nbformat": 4,
 "nbformat_minor": 5
}

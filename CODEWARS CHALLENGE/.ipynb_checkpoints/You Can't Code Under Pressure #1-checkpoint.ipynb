{
 "cells": [
  {
   "cell_type": "code",
   "execution_count": 1,
   "id": "7c5ced31",
   "metadata": {},
   "outputs": [
    {
     "name": "stdout",
     "output_type": "stream",
     "text": [
      "10\n"
     ]
    }
   ],
   "source": [
    "# Code as fast as you can! You need to double the integer and return it.\n",
    "\n",
    "def double_integer(i):\n",
    "    return i * 2\n",
    "\n",
    "# Example usage\n",
    "result = double_integer(5)\n",
    "print(result)\n"
   ]
  },
  {
   "cell_type": "code",
   "execution_count": null,
   "id": "8e96ef24",
   "metadata": {},
   "outputs": [],
   "source": [
    "function doubleInteger(i) {\n",
    "  // i will be an integer. Double it and return it.\n",
    "  \n",
    "  return i*2;\n",
    "}\n",
    "\n",
    "# Example usage\n",
    "let result = double_integer(5);\n",
    "console.log(result);\n"
   ]
  }
 ],
 "metadata": {
  "kernelspec": {
   "display_name": "Python 3 (ipykernel)",
   "language": "python",
   "name": "python3"
  },
  "language_info": {
   "codemirror_mode": {
    "name": "ipython",
    "version": 3
   },
   "file_extension": ".py",
   "mimetype": "text/x-python",
   "name": "python",
   "nbconvert_exporter": "python",
   "pygments_lexer": "ipython3",
   "version": "3.11.4"
  }
 },
 "nbformat": 4,
 "nbformat_minor": 5
}

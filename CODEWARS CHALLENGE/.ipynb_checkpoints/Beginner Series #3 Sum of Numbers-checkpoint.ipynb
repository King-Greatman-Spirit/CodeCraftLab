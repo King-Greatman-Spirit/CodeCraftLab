{
 "cells": [
  {
   "cell_type": "code",
   "execution_count": null,
   "id": "c7da0a8e",
   "metadata": {},
   "outputs": [],
   "source": [
    "DESCRIPTION:\n",
    "Given two integers a and b, which can be positive or negative, find the sum of all the integers between and including them and return it. \n",
    "If the two numbers are equal return a or b.\n",
    "\n",
    "Note: a and b are not ordered!\n",
    "\n",
    "Examples (a, b) --> output (explanation)\n",
    "(1, 0) --> 1 (1 + 0 = 1)\n",
    "(1, 2) --> 3 (1 + 2 = 3)\n",
    "(0, 1) --> 1 (0 + 1 = 1)\n",
    "(1, 1) --> 1 (1 since both are same)\n",
    "(-1, 0) --> -1 (-1 + 0 = -1)\n",
    "(-1, 2) --> 2 (-1 + 0 + 1 + 2 = 2)"
   ]
  },
  {
   "cell_type": "code",
   "execution_count": 1,
   "id": "4433a76c",
   "metadata": {},
   "outputs": [
    {
     "name": "stdout",
     "output_type": "stream",
     "text": [
      "1\n",
      "3\n",
      "1\n",
      "1\n",
      "-1\n",
      "2\n"
     ]
    }
   ],
   "source": [
    "def get_sum(a,b):\n",
    "    # Ensure a is smaller or equal to b\n",
    "    if a > b:\n",
    "        a, b = b, a\n",
    "        \n",
    "    # Return the sum of all int btw and incluidng a & b\n",
    "    return sum(range(a, b + 1))\n",
    "    # Calculate the sum using arithmetic progression formula\n",
    "#     return (b - a + 1)*(a+b) //2\n",
    "\n",
    "# Examples\n",
    "result_1 = get_sum(1, 0)\n",
    "result_2 = get_sum(1, 2)\n",
    "result_3 = get_sum(0, 1)\n",
    "result_4 = get_sum(1, 1)\n",
    "result_5 = get_sum(-1, 0)\n",
    "result_6 = get_sum(-1, 2)\n",
    "\n",
    "print(result_1)  # Output: 1\n",
    "print(result_2)  # Output: 3\n",
    "print(result_3)  # Output: 1\n",
    "print(result_4)  # Output: 1\n",
    "print(result_5)  # Output: -1\n",
    "print(result_6)  # Output: 2"
   ]
  },
  {
   "cell_type": "code",
   "execution_count": null,
   "id": "9358931e",
   "metadata": {},
   "outputs": [],
   "source": [
    "// Function to get the sum of integers between and including a and b\n",
    "function getSum(a, b) {\n",
    "    // Ensure a is smaller or equal to b\n",
    "    if (a > b) {\n",
    "        [a, b] = [b, a];  // Swap values if a is greater than b\n",
    "    }\n",
    "\n",
    "    // Return the sum of all integers between and including a and b\n",
    "    return Array.from({ length: b - a + 1 }, (_, index) => a + index)\n",
    "        .reduce((sum, num) => sum + num, 0);  // Use array generation and reduction to get the sum\n",
    "}\n",
    "\n",
    "// Examples\n",
    "const result_1 = getSum(1, 0);\n",
    "const result_2 = getSum(1, 2);\n",
    "const result_3 = getSum(0, 1);\n",
    "const result_4 = getSum(1, 1);\n",
    "const result_5 = getSum(-1, 0);\n",
    "const result_6 = getSum(-1, 2);\n",
    "\n",
    "console.log(result_1);  // Output: 1\n",
    "console.log(result_2);  // Output: 3\n",
    "console.log(result_3);  // Output: 1\n",
    "console.log(result_4);  // Output: 1\n",
    "console.log(result_5);  // Output: -1\n",
    "console.log(result_6);  // Output: 2\n"
   ]
  },
  {
   "cell_type": "code",
   "execution_count": null,
   "id": "018cb14d",
   "metadata": {},
   "outputs": [],
   "source": [
    "function getSum(a, b) {\n",
    "    // Ensure a is smaller or equal to b, swap if necessary\n",
    "    if (a > b) [a, b] = [b, a];\n",
    "\n",
    "    // Calculate the sum using arithmetic progression formula\n",
    "    return (b - a + 1) * (a + b) / 2;\n",
    "}\n",
    "\n",
    "// Examples\n",
    "const result_1 = getSum(1, 0);\n",
    "const result_2 = getSum(1, 2);\n",
    "const result_3 = getSum(0, 1);\n",
    "const result_4 = getSum(1, 1);\n",
    "const result_5 = getSum(-1, 0);\n",
    "const result_6 = getSum(-1, 2);\n",
    "\n",
    "console.log(result_1);  // Output: 1\n",
    "console.log(result_2);  // Output: 3\n",
    "console.log(result_3);  // Output: 1\n",
    "console.log(result_4);  // Output: 1\n",
    "console.log(result_5);  // Output: -1\n",
    "console.log(result_6);  // Output: 2\n"
   ]
  }
 ],
 "metadata": {
  "kernelspec": {
   "display_name": "Python 3 (ipykernel)",
   "language": "python",
   "name": "python3"
  },
  "language_info": {
   "codemirror_mode": {
    "name": "ipython",
    "version": 3
   },
   "file_extension": ".py",
   "mimetype": "text/x-python",
   "name": "python",
   "nbconvert_exporter": "python",
   "pygments_lexer": "ipython3",
   "version": "3.11.4"
  }
 },
 "nbformat": 4,
 "nbformat_minor": 5
}

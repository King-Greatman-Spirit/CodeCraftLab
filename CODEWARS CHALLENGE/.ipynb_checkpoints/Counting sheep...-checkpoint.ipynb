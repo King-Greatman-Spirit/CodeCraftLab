{
 "cells": [
  {
   "cell_type": "code",
   "execution_count": null,
   "id": "d08223ff",
   "metadata": {},
   "outputs": [],
   "source": [
    "Consider an array/list of sheep where some sheep may be missing from their place. \n",
    "We need a function that counts the number of sheep present in the array (true means present).\n",
    "\n",
    "For example,\n",
    "\n",
    "[True,  True,  True,  False,\n",
    "  True,  True,  True,  True ,\n",
    "  True,  False, True,  False,\n",
    "  True,  False, False, True ,\n",
    "  True,  True,  True,  True ,\n",
    "  False, False, True,  True]\n",
    "The correct answer would be 17.\n",
    "\n",
    "Hint: Don't forget to check for bad values like null/undefined"
   ]
  },
  {
   "cell_type": "code",
   "execution_count": 8,
   "id": "97deb733",
   "metadata": {},
   "outputs": [
    {
     "name": "stdout",
     "output_type": "stream",
     "text": [
      "7\n"
     ]
    }
   ],
   "source": [
    "def count_sheeps(sheep):\n",
    "  # TODO May the force be with you\n",
    "    count = 0\n",
    "    for num in sheep:\n",
    "        if num == False:\n",
    "            count += 1\n",
    "    return count\n",
    "\n",
    "sheep = [True,  True,  True,  False,\n",
    "  True,  True,  True,  True ,\n",
    "  True,  False, True,  False,\n",
    "  True,  False, False, True ,\n",
    "  True,  True,  True,  True ,\n",
    "  False, False, True,  True]\n",
    "print(count_sheeps(sheep))"
   ]
  },
  {
   "cell_type": "code",
   "execution_count": 9,
   "id": "88283ff3",
   "metadata": {},
   "outputs": [
    {
     "name": "stdout",
     "output_type": "stream",
     "text": [
      "Number of sheep present: 17\n",
      "Number of missing sheep: 7\n"
     ]
    }
   ],
   "source": [
    "def count_sheeps(sheep):\n",
    "    count_true = 0  # Initialize count for True to zero\n",
    "    count_false = 0  # Initialize count for False to zero\n",
    "    \n",
    "    for status in sheep:\n",
    "        if status is True:\n",
    "            count_true += 1\n",
    "        elif status is False:\n",
    "            count_false += 1\n",
    "\n",
    "    print(f\"Number of sheep present: {count_true}\")\n",
    "    print(f\"Number of missing sheep: {count_false}\")\n",
    "\n",
    "sheep = [True,  True,  True,  False,\n",
    "         True,  True,  True,  True ,\n",
    "         True,  False, True,  False,\n",
    "         True,  False, False, True ,\n",
    "         True,  True,  True,  True ,\n",
    "         False, False, True,  True]\n",
    "\n",
    "count_sheeps(sheep)\n"
   ]
  },
  {
   "cell_type": "code",
   "execution_count": 7,
   "id": "0e6af924",
   "metadata": {},
   "outputs": [
    {
     "name": "stdout",
     "output_type": "stream",
     "text": [
      "17\n"
     ]
    }
   ],
   "source": [
    "def count_sheeps(sheep):\n",
    "    count = 0  # Initialize count to zero\n",
    "    for num in sheep:\n",
    "        if num == True:\n",
    "            count += 1\n",
    "    return count  # Return the count, not num\n",
    "\n",
    "sheep = [True,  True,  True,  False,\n",
    "         True,  True,  True,  True ,\n",
    "         True,  False, True,  False,\n",
    "         True,  False, False, True ,\n",
    "         True,  True,  True,  True ,\n",
    "         False, False, True,  True]\n",
    "\n",
    "print(count_sheeps(sheep))\n"
   ]
  },
  {
   "cell_type": "code",
   "execution_count": null,
   "id": "c4006442",
   "metadata": {},
   "outputs": [],
   "source": [
    "function countSheeps(sheep) {\n",
    "    let count = 0 // initialize count to zero\n",
    "    for(num=0; num++; num<length){\n",
    "        if (num === True){\n",
    "            count = count + 1;\n",
    "        }\n",
    "    }\n",
    "    return count;\n",
    "}"
   ]
  },
  {
   "cell_type": "code",
   "execution_count": null,
   "id": "92d1758a",
   "metadata": {},
   "outputs": [],
   "source": [
    "function countSheeps(sheep) {\n",
    "    let count = 0; // initialize count to zero\n",
    "    \n",
    "    for (let i = 0; i < sheep.length; i++) {\n",
    "        if (sheep[i] === true) {\n",
    "            count = count + 1;\n",
    "        }\n",
    "    }\n",
    "\n",
    "    return count;\n",
    "}\n",
    "\n",
    "const sheepArray = [true, true, true, false, true, true, true, true, true, false, true, false, true, false, false, true, true, true, true, false, false, true, true];\n",
    "const result = countSheeps(sheepArray);\n",
    "console.log(result);\n"
   ]
  },
  {
   "cell_type": "code",
   "execution_count": null,
   "id": "7b1d748e",
   "metadata": {},
   "outputs": [],
   "source": [
    "function countSheeps(sheep) {\n",
    "    let count = 0 // initialize count to zero\n",
    "    for(let num=0; num<sheep.length; num++){\n",
    "        if (sheep[num] === true){\n",
    "            count = count + 1;\n",
    "        }\n",
    "    }\n",
    "    return count;\n",
    "}"
   ]
  }
 ],
 "metadata": {
  "kernelspec": {
   "display_name": "Python 3 (ipykernel)",
   "language": "python",
   "name": "python3"
  },
  "language_info": {
   "codemirror_mode": {
    "name": "ipython",
    "version": 3
   },
   "file_extension": ".py",
   "mimetype": "text/x-python",
   "name": "python",
   "nbconvert_exporter": "python",
   "pygments_lexer": "ipython3",
   "version": "3.11.4"
  }
 },
 "nbformat": 4,
 "nbformat_minor": 5
}

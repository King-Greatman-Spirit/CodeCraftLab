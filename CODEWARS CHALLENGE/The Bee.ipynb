{
 "cells": [
  {
   "cell_type": "markdown",
   "id": "c13279b0",
   "metadata": {},
   "source": [
    "## Python Solution"
   ]
  },
  {
   "cell_type": "markdown",
   "id": "45404d69",
   "metadata": {},
   "source": [
    "![](pics/theBeeK5.png)"
   ]
  },
  {
   "cell_type": "markdown",
   "id": "1d6e103e",
   "metadata": {},
   "source": [
    "Imagine a honeycomb - a field of hexagonal cells with side N. There is a bee in the top left cell A. In one move it can crawl one cell down, one cell down-right or one cell up-right (the bee does not crawl up or left).\n",
    "Write a function that outputs the number of ways the bee can crawl from cell A to the opposite cell B.\n",
    "\n",
    "Input data:\n",
    "\n",
    "The function receives a single number N - the size of the hexagonal field 2 ≤ N ≤ 200.\n",
    "\n",
    "Output data:\n",
    "\n",
    "The function should output a single integer - the number of ways.\n",
    "\n",
    "Example:\n",
    "\n",
    "the_bee(2) --> 11\n",
    "\n",
    "the_bee(3) --> 291\n",
    "\n",
    "the_bee(5) --> 259123\n",
    "\n",
    "Code length limit:\n",
    "\n",
    "To prevent hardcoding, your code cannot exceed 1 000 characters."
   ]
  },
  {
   "cell_type": "markdown",
   "id": "7e8682cb",
   "metadata": {},
   "source": [
    "## Explanation of the above problem:\n",
    "\n",
    "The problem presents a honeycomb-shaped field with hexagonal cells. The bee starts at the top-left cell and can move either down, down-right, or up-right. The goal is to determine the number of possible paths for the bee to reach the opposite cell, which is at the bottom-right corner.\n",
    "\n",
    "\n",
    "To solve this problem, we can utilize dynamic programming. We'll create a 2D array to represent the hexagonal field, where each cell represents the number of ways the bee can reach that cell. We'll start populating this array from the top-left cell to the bottom-right cell, considering the possible moves of the bee at each step.\n",
    "\n",
    "\n",
    "Here's a step-by-step explanation of the approach:\n",
    "\n",
    "\n",
    "1.  a 2D array dp of size (n + 1) x (n + 1), initialized with zeros\n",
    "\n",
    "2. Start populating dp from the top-left corner:\n",
    "\n",
    "Initialize dp[0][0] = 1 since there's only one way for the bee to be in the starting cell.\n",
    "\n",
    "For each cell (i, j) in the hexagonal field:\n",
    "Update dp[i][j] by adding the number of ways to reach it from the cells above and to the left of it.\n",
    "\n",
    "dp[i][j] = dp[i-1][j] + dp[i-1][j-1] + dp[i][j-1]\n",
    "\n",
    "3. The result will be dp[n][n], which represents the number of ways the bee can reach the opposite corner.\n",
    "\n",
    "Now, let's implement this approach in Python:"
   ]
  },
  {
   "cell_type": "code",
   "execution_count": null,
   "id": "994cef4d",
   "metadata": {},
   "outputs": [],
   "source": [
    "def the_bee(n):\n",
    "    return \"Good luck\""
   ]
  },
  {
   "cell_type": "code",
   "execution_count": 3,
   "id": "9181f0fc",
   "metadata": {},
   "outputs": [
    {
     "name": "stdout",
     "output_type": "stream",
     "text": [
      "11\n",
      "291\n",
      "259123\n"
     ]
    }
   ],
   "source": [
    "def the_bee(n):\n",
    "    cells = [0]*(2*n+1)\n",
    "    cells[n] = 1\n",
    "    \n",
    "    for i in range(1, 4*n-2):\n",
    "        for j in range(i%2+1, 2*n, 2):\n",
    "            cells[j-1] += cells[j]\n",
    "            cells[j+1] += cells[j]\n",
    "    \n",
    "    return cells[n]\n",
    "\n",
    "# Test the function\n",
    "print(the_bee(2))  # Output: 11\n",
    "print(the_bee(3))  # Output: 291\n",
    "print(the_bee(5))  # Output: 259123"
   ]
  },
  {
   "cell_type": "code",
   "execution_count": null,
   "id": "eb544a9d",
   "metadata": {},
   "outputs": [],
   "source": [
    "def the_bee(n):\n",
    "    # Initialize an array to represent the cells of the \n",
    "    # hexagonal grid\n",
    "    bee_cells = [0]*(2*n+1)\n",
    "    # Set the starting cell A to 1\n",
    "    bee_cells[n] = 1\n",
    "    \n",
    "    # Iterate over each step the bee can take\n",
    "    for a in range(1, 4*n-2):\n",
    "        # Iterate over each cell in the current row of the \n",
    "        # hexagonal grid\n",
    "        for b in range(a%2+1, 2*n, 2):\n",
    "            # Update the number of ways to reach the \n",
    "            # adjacent cells\n",
    "            # by summing the number of ways to reach the \n",
    "            # three adjacent cells\n",
    "            # (down, down-right, up-right)\n",
    "            bee_cells[b-1] += bee_cells[b]\n",
    "            bee_cells[b+1] += bee_cells[b]\n",
    "    \n",
    "    # Return the number of ways to reach the opposite \n",
    "    # cell B\n",
    "    return bee_cells[n]\n",
    "\n",
    "# Test the function\n",
    "print(the_bee(2))  # Output: 11\n",
    "print(the_bee(3))  # Output: 291\n",
    "print(the_bee(5))  # Output: 259123\n"
   ]
  },
  {
   "cell_type": "markdown",
   "id": "cddb5718",
   "metadata": {},
   "source": [
    "## JavaScript Solution"
   ]
  },
  {
   "cell_type": "code",
   "execution_count": null,
   "id": "8f3e15d9",
   "metadata": {},
   "outputs": [],
   "source": [
    "// Input: Number\n",
    "// Output: BigInt\n",
    "function theBee(n) {\n",
    "  return 0n;\n",
    "}"
   ]
  },
  {
   "cell_type": "code",
   "execution_count": null,
   "id": "718b7fb6",
   "metadata": {},
   "outputs": [],
   "source": [
    "function theBee(n) {\n",
    "  // Convert n to a number\n",
    "  n = Number(n);\n",
    "  // Initialize an array to represent the cells of the \n",
    "    // hexagonal grid\n",
    "  const theBee = Array(2 * n + 1).fill(0n);\n",
    "  // Set the starting cell A to 1\n",
    "  theBee[n] = 1n;\n",
    "  \n",
    "  // Iterate over each step the bee can take\n",
    "  for (let a = 1; a < n * 4 - 2; a++) {\n",
    "    // Iterate over each cell in the current row of the \n",
    "      // hexagonal grid\n",
    "    for (let b = a % 2 + 1; b < 2 * n; b += 2) {\n",
    "      // Update the number of ways to reach the adjacent \n",
    "        //cells\n",
    "      // by summing the number of ways to reach the three \n",
    "        // adjacent cells\n",
    "      // (down, down-right, up-right)\n",
    "      theBee[b - 1] += theBee[b];\n",
    "      theBee[b + 1] += theBee[b];\n",
    "    }\n",
    "  }\n",
    "  \n",
    "  // Return the number of ways to reach the opposite \n",
    "    // cell B\n",
    "  return theBee[n];\n",
    "}\n",
    "\n",
    "// Test the function\n",
    "console.log(theBee(2)); // Output: 11\n",
    "console.log(theBee(3)); // Output: 291\n",
    "console.log(theBee(5)); // Output: 259123\n"
   ]
  },
  {
   "cell_type": "code",
   "execution_count": null,
   "id": "a4b42df5",
   "metadata": {},
   "outputs": [],
   "source": []
  }
 ],
 "metadata": {
  "kernelspec": {
   "display_name": "Python 3 (ipykernel)",
   "language": "python",
   "name": "python3"
  },
  "language_info": {
   "codemirror_mode": {
    "name": "ipython",
    "version": 3
   },
   "file_extension": ".py",
   "mimetype": "text/x-python",
   "name": "python",
   "nbconvert_exporter": "python",
   "pygments_lexer": "ipython3",
   "version": "3.11.4"
  }
 },
 "nbformat": 4,
 "nbformat_minor": 5
}

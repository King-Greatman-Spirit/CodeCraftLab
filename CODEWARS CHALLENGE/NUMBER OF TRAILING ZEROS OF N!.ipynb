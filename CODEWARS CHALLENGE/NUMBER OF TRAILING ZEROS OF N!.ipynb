{
 "cells": [
  {
   "cell_type": "markdown",
   "id": "114ac843",
   "metadata": {},
   "source": [
    "Write a program that will calculate the number of trailing zeros in a factorial of a given number.\n",
    "\n",
    "N! = 1 * 2 * 3 *  ... * N\n",
    "\n",
    "Be careful 1000! has 2568 digits...\n",
    "\n",
    "For more info, see: http://mathworld.wolfram.com/Factorial.html\n",
    "\n",
    "Examples\n",
    "zeros(6) = 1\n",
    "\n",
    "#6! = 1 * 2 * 3 * 4 * 5 * 6 = 720 --> 1 trailing zero\n",
    "\n",
    "zeros(12) = 2\n",
    "\n",
    "#12! = 479001600 --> 2 trailing zeros\n",
    "\n",
    "Hint: You're not meant to calculate the factorial. Find another way \n",
    "\n",
    "to find the number of zeros."
   ]
  },
  {
   "cell_type": "code",
   "execution_count": 1,
   "id": "d7eaa512",
   "metadata": {},
   "outputs": [
    {
     "name": "stdout",
     "output_type": "stream",
     "text": [
      "1\n",
      "2\n"
     ]
    }
   ],
   "source": [
    "def zeros(n):\n",
    "    # init the count of trailing Zeros to 0\n",
    "    count = 0\n",
    "    # Keep dividing n by powers of 5 and add the quotient to the count\n",
    "    while n >= 5:\n",
    "        n //= 5\n",
    "        count += n\n",
    "    return count\n",
    "\n",
    "# Example usage and testing:\n",
    "print(zeros(6))   # Output should be 1 (6! = 720 has 1 trailing zero)\n",
    "print(zeros(12))  # Output should be 2 (12! = 479001600 has 2 trailing zeros)"
   ]
  },
  {
   "cell_type": "markdown",
   "id": "f3e42c7e",
   "metadata": {},
   "source": [
    "## Breakdown of the above solution\n",
    "\n",
    "Of course! Let me break down the solution for you:\n",
    "\n",
    "In mathematics, trailing zeros in the factorial of a number depend on the number of factors of 10 in the factorial. Since 10 can be expressed as 2 * 5, and there are always more factors of 2 than 5 in the factorial of any integer greater than 4, counting the factors of 5 in the factorial gives us the number of trailing zeros.\n",
    "\n",
    "Here's a step-by-step breakdown of the solution:\n",
    "\n",
    "1. **Initialize Count**: We start by initializing a variable `count` to 0. This variable will keep track of the number of trailing zeros in the factorial.\n",
    "\n",
    "2. **Count Factors of 5**: We use a `while` loop to continuously divide the given number `n` by powers of 5. At each iteration, we divide `n` by 5 and add the quotient to the `count`. This is because every multiple of 5 contributes at least one factor of 5 to the factorial, and every multiple of 25 contributes an additional factor of 5, and so on.\n",
    "\n",
    "3. **Return Count**: Once we have divided `n` by all the powers of 5 until it becomes less than 5, we return the final count, which represents the number of trailing zeros in the factorial of the given number `n`.\n",
    "\n",
    "Let's illustrate this with an example:\n",
    "\n",
    "For `n = 12`:\n",
    "\n",
    "- In the first iteration: `12 // 5 = 2`, so `count = 2`.\n",
    "- In the second iteration: `2 // 5 = 0`, so no further counts are added.\n",
    "- Finally, `count` becomes `2`, indicating that `12!` has 2 trailing zeros.\n",
    "\n",
    "This approach is efficient because it only requires a few iterations to count the factors of 5 in the factorial, rather than actually computing the factorial itself, which can lead to overflow for large values of `n`."
   ]
  },
  {
   "cell_type": "code",
   "execution_count": 2,
   "id": "64c28bc1",
   "metadata": {},
   "outputs": [
    {
     "name": "stdout",
     "output_type": "stream",
     "text": [
      "1\n",
      "2\n"
     ]
    }
   ],
   "source": [
    "def zeros(n):\n",
    "    count = 0\n",
    "    while n:\n",
    "        n = n // 5\n",
    "        count += n\n",
    "    return count\n",
    "\n",
    "# Example usage and testing:\n",
    "print(zeros(6))   # Output should be 1 (6! = 720 has 1 trailing zero)\n",
    "print(zeros(12))  # Output should be 2 (12! = 479001600 has 2 trailing zeros)"
   ]
  },
  {
   "cell_type": "code",
   "execution_count": null,
   "id": "050e354e",
   "metadata": {},
   "outputs": [],
   "source": [
    "def zeros(n):\n",
    "    \"\"\"\n",
    "    No factorial is going to have fewer zeros than the factorial of a smaller\n",
    "    number.\n",
    "\n",
    "    Each multiple of 5 adds a 0, so first we count how many multiples of 5 are\n",
    "    smaller than `n` (`n // 5`).\n",
    "\n",
    "    Each multiple of 25 adds two 0's, so next we add another 0 for each multiple\n",
    "    of 25 smaller than n.\n",
    "\n",
    "    We continue on for all powers of 5 smaller than (or equal to) n.\n",
    "    \"\"\"\n",
    "    pow_of_5 = 5\n",
    "    zeros = 0\n",
    "    \n",
    "    while n >= pow_of_5:\n",
    "        zeros += n // pow_of_5\n",
    "        pow_of_5 *= 5\n",
    "        \n",
    "    return zeros"
   ]
  },
  {
   "cell_type": "markdown",
   "id": "6fc6b56a",
   "metadata": {},
   "source": [
    "## JAVASCRIPT SOLUTION"
   ]
  },
  {
   "cell_type": "code",
   "execution_count": null,
   "id": "139d1c24",
   "metadata": {},
   "outputs": [],
   "source": [
    "function zeros (n) {\n",
    "    // Init the count of trailing Zeros to 0\n",
    "    let count = 0;\n",
    "    // Keep dividing n by powers of 5 and add the\n",
    "    // quotient to the count\n",
    "    while (n >= 5) {\n",
    "        n = Math.floor(n / 5);\n",
    "        count += n;\n",
    "    }\n",
    "    return count;\n",
    "}\n",
    "\n",
    "// Example usage and testing:\n",
    "console.log(zeros(6));   // Output should be 1 (6! = 720 has 1 trailing zero)\n",
    "console.log(zeros(12));  // Output should be 2 (12! = 479001600 has 2 trailing zeros)"
   ]
  },
  {
   "cell_type": "code",
   "execution_count": null,
   "id": "e5e63124",
   "metadata": {},
   "outputs": [],
   "source": [
    "function zeros (n) {\n",
    "    var count = 0;\n",
    "    while (n>0) {\n",
    "        n = Math.floor(n / 5);\n",
    "        count += n;\n",
    "    }\n",
    "    return count;\n",
    "}"
   ]
  }
 ],
 "metadata": {
  "kernelspec": {
   "display_name": "Python 3 (ipykernel)",
   "language": "python",
   "name": "python3"
  },
  "language_info": {
   "codemirror_mode": {
    "name": "ipython",
    "version": 3
   },
   "file_extension": ".py",
   "mimetype": "text/x-python",
   "name": "python",
   "nbconvert_exporter": "python",
   "pygments_lexer": "ipython3",
   "version": "3.11.4"
  }
 },
 "nbformat": 4,
 "nbformat_minor": 5
}

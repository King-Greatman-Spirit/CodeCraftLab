{
 "cells": [
  {
   "cell_type": "markdown",
   "id": "247091cb",
   "metadata": {},
   "source": [
    "In this little assignment you are given a string of space separated numbers, and have to return the highest and lowest number.\n",
    "\n",
    "Examples\n",
    "high_and_low(\"1 2 3 4 5\")  # return \"5 1\"\n",
    "high_and_low(\"1 2 -3 4 5\") # return \"5 -3\"\n",
    "high_and_low(\"1 9 3 4 -5\") # return \"9 -5\"\n",
    "Notes\n",
    "All numbers are valid Int32, no need to validate them.\n",
    "There will always be at least one number in the input string.\n",
    "Output string must be two numbers separated by a single space, and highest number is first.\n"
   ]
  },
  {
   "cell_type": "code",
   "execution_count": null,
   "id": "2e73a23d",
   "metadata": {},
   "outputs": [],
   "source": [
    "def high_and_low(numbers):\n",
    "    num_list = list(map(int, numbers.split()))\n",
    "    return max(num_list), min(num_list)"
   ]
  },
  {
   "cell_type": "code",
   "execution_count": 1,
   "id": "a00245b4",
   "metadata": {},
   "outputs": [
    {
     "name": "stdout",
     "output_type": "stream",
     "text": [
      "5 1\n",
      "5 -3\n",
      "9 -5\n"
     ]
    }
   ],
   "source": [
    "def high_and_low(numbers_str):\n",
    "    # Split the string into a list of numbers\n",
    "    numbers = [int(num) for num in numbers_str.split()]\n",
    "    \n",
    "    # Find the highest and lowest numbers\n",
    "    highest = max(numbers)\n",
    "    lowest = min(numbers)\n",
    "    \n",
    "    # Return the result as a formatted string\n",
    "    return f\"{highest} {lowest}\"\n",
    "\n",
    "# Examples\n",
    "print(high_and_low(\"1 2 3 4 5\"))     # Output: \"5 1\"\n",
    "print(high_and_low(\"1 2 -3 4 5\"))    # Output: \"5 -3\"\n",
    "print(high_and_low(\"1 9 3 4 -5\"))    # Output: \"9 -5\""
   ]
  },
  {
   "cell_type": "code",
   "execution_count": null,
   "id": "d10522f2",
   "metadata": {},
   "outputs": [],
   "source": [
    "function highAnd Low(numberStr) {\n",
    "    // Split the string into an array of numbers\n",
    "    const numbers = numberStr.split(' ').map(Number);\n",
    "    \n",
    "    // find the highest and lowest numbers\n",
    "    const highest = Math.max(...numbers);\n",
    "    const lowest = Math.min(...numbers);\n",
    "    \n",
    "    // Return the result as a formatted string\n",
    "    return `${highest} ${lowest}`;\n",
    "    \n",
    "}\n",
    "\n",
    "// Examples\n",
    "console.log(highAndLow(\"1 2 3 4 5\"));    // Output: \"5 1\"\n",
    "console.log(highAndLow(\"1 2 -3 4 5\"));   // Output: \"5 -3\"\n",
    "console.log(highAndLow(\"1 9 3 4 -5\"));   // Output: \"9 -5\"\n"
   ]
  },
  {
   "cell_type": "code",
   "execution_count": 3,
   "id": "d2d47da2",
   "metadata": {},
   "outputs": [
    {
     "name": "stdout",
     "output_type": "stream",
     "text": [
      "5 1\n",
      "5 -3\n",
      "9 -5\n"
     ]
    }
   ],
   "source": [
    "def high_and_low(numbers_str):\n",
    "    # Split the string into a list of numbers\n",
    "    numbers = []\n",
    "    for num in numbers_str.split():\n",
    "        numbers.append(int(num))\n",
    "    \n",
    "    # Initialize variables for highest and lowest numbers\n",
    "    highest = float('-inf')  # Initialize to negative infinity\n",
    "    lowest = float('inf')    # Initialize to positive infinity\n",
    "    \n",
    "    # Find the highest and lowest numbers using for loop\n",
    "    for num in numbers:\n",
    "        if num > highest:\n",
    "            highest = num\n",
    "        if num < lowest:\n",
    "            lowest = num\n",
    "    \n",
    "    # Return the result as a formatted string\n",
    "    return f\"{highest} {lowest}\"\n",
    "\n",
    "# Examples\n",
    "print(high_and_low(\"1 2 3 4 5\"))     # Output: \"5 1\"\n",
    "print(high_and_low(\"1 2 -3 4 5\"))    # Output: \"5 -3\"\n",
    "print(high_and_low(\"1 9 3 4 -5\"))    # Output: \"9 -5\"\n"
   ]
  },
  {
   "cell_type": "code",
   "execution_count": 6,
   "id": "1f38161d",
   "metadata": {},
   "outputs": [
    {
     "name": "stdout",
     "output_type": "stream",
     "text": [
      "5 1\n",
      "5 -3\n",
      "9 -5\n"
     ]
    }
   ],
   "source": [
    "def high_and_low(numbers_str):\n",
    "#     split the string into a list of numbers\n",
    "    numbers = []\n",
    "    for num in numbers_str.split():\n",
    "        numbers.append(int(num))\n",
    "    \n",
    "    # find the highest and lowest numbers\n",
    "    highest = max(numbers)\n",
    "    lowest = min(numbers)\n",
    "    \n",
    "    # return the result as a formatted string\n",
    "    return f\"{highest} {lowest}\" \n",
    "\n",
    "#Examples\n",
    "print(high_and_low(\"1 2 3 4 5\"))     # Output: \"5 1\"\n",
    "print(high_and_low(\"1 2 -3 4 5\"))    # Output: \"5 -3\"\n",
    "print(high_and_low(\"1 9 3 4 -5\"))    # Output: \"9 -5\""
   ]
  },
  {
   "cell_type": "code",
   "execution_count": null,
   "id": "53de8cbc",
   "metadata": {},
   "outputs": [],
   "source": [
    "function highAndLow(numberStr) {\n",
    "    // Split the string into an array of numbers\n",
    "    const numbers = [];\n",
    "    for (const num of numberStr.split(' ')) {\n",
    "        numbers.push(parseInt(num, 10));\n",
    "    }\n",
    "    \n",
    "    // Find the highest and lowest numbers\n",
    "    let highest = Math.max(...numbers);\n",
    "    let lowest = Math.min(...numbers);\n",
    "    \n",
    "    // Return the result as a formattted string\n",
    "    return `${highest }${lowest}`;\n",
    "}\n",
    "\n",
    "// Examples\n",
    "console.log(highAndLow(\"1 2 3 4 5\"));     // Output: \"5 1\"\n",
    "console.log(highAndLow(\"1 2 -3 4 5\"));    // Output: \"5 -3\"\n",
    "console.log(highAndLow(\"1 9 3 4 -5\"));    // Output: \"9 -5\")"
   ]
  }
 ],
 "metadata": {
  "kernelspec": {
   "display_name": "Python 3 (ipykernel)",
   "language": "python",
   "name": "python3"
  },
  "language_info": {
   "codemirror_mode": {
    "name": "ipython",
    "version": 3
   },
   "file_extension": ".py",
   "mimetype": "text/x-python",
   "name": "python",
   "nbconvert_exporter": "python",
   "pygments_lexer": "ipython3",
   "version": "3.11.4"
  }
 },
 "nbformat": 4,
 "nbformat_minor": 5
}

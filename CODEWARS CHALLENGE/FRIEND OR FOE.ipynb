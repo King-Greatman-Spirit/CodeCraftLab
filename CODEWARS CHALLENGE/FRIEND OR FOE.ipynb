{
 "cells": [
  {
   "cell_type": "markdown",
   "id": "1a2c0385",
   "metadata": {},
   "source": [
    "#### Make a program that filters a list of strings and returns a list with only your friends name in it.\n",
    "\n",
    "#### If a name has exactly 4 letters in it, you can be sure that it has to be a friend of yours! Otherwise, you can be sure he's not...\n",
    "\n",
    "#### Ex: Input = [\"Ryan\", \"Kieran\", \"Jason\", \"Yous\"], Output = [\"Ryan\", \"Yous\"]\n",
    "\n",
    "i.e.\n",
    "\n",
    "#### friend [\"Ryan\", \"Kieran\", \"Mark\"] `shouldBe` [\"Ryan\", \"Mark\"]\n",
    "#### Note: keep the original order of the names in the output."
   ]
  },
  {
   "cell_type": "code",
   "execution_count": 7,
   "id": "0373e71a",
   "metadata": {},
   "outputs": [
    {
     "name": "stdout",
     "output_type": "stream",
     "text": [
      "['Ryan', 'Yous']\n"
     ]
    }
   ],
   "source": [
    "def friend(names):\n",
    "    # Use list comprehension to filter names with exactly 4 letters\n",
    "    return [name for name in names if len(name) == 4]\n",
    "\n",
    "# Example\n",
    "input_names = [\"Ryan\", \"Kieran\", \"Jason\", \"Yous\"]\n",
    "output_names = friend(input_names)\n",
    "print(output_names)\n"
   ]
  },
  {
   "cell_type": "code",
   "execution_count": 11,
   "id": "602a721c",
   "metadata": {},
   "outputs": [
    {
     "name": "stdout",
     "output_type": "stream",
     "text": [
      "['Ryan', 'Yous']\n"
     ]
    }
   ],
   "source": [
    "def friend(x):\n",
    "    #Code\n",
    "    output = []\n",
    "    for i in x:\n",
    "        if len(i) == 4:\n",
    "            output.append(i)\n",
    "    return output\n",
    "#Example:\n",
    "input = [\"Ryan\", \"Kieran\", \"Jason\", \"Yous\"]\n",
    "print(friend(input))"
   ]
  },
  {
   "cell_type": "code",
   "execution_count": null,
   "id": "f0ffdccb",
   "metadata": {},
   "outputs": [],
   "source": [
    "def friend(names):\n",
    "    result = []\n",
    "    for name in names:\n",
    "        if len(name) == 4:\n",
    "            result.append(name)\n",
    "    return result\n",
    "\n",
    "# Example\n",
    "input_names = [\"Ryan\", \"Kieran\", \"Jason\", \"Yous\"]\n",
    "output_names = friend(input_names)\n",
    "print(output_names)\n"
   ]
  },
  {
   "cell_type": "code",
   "execution_count": null,
   "id": "01e0ef7f",
   "metadata": {},
   "outputs": [],
   "source": [
    "// using list comprehension\n",
    "function friend(names) {\n",
    "    // Use filter to get names with exactly 4 letters\n",
    "    return names.filter(name => name.length === 4);\n",
    "}\n",
    "\n",
    "// Example\n",
    "const inputNames = [\"Ryan\", \"Kieran\", \"Jason\", \"Yous\"];\n",
    "const outputNames = friend(inputNames);\n",
    "console.log(outputNames);\n"
   ]
  },
  {
   "cell_type": "code",
   "execution_count": null,
   "id": "09be6c5f",
   "metadata": {},
   "outputs": [],
   "source": [
    "function friend(names){\n",
    "  //your code here\n",
    "    let output = [];\n",
    "    for(i = 0; i < names.length; i++) {\n",
    "        if(names[i].length === 4) {\n",
    "            output.push(names[i]);\n",
    "        }\n",
    "    }\n",
    "    return output;\n",
    "}\n",
    "\n",
    "// Example:\n",
    "let input = [\"Ryan\", \"Kieran\", \"Jason\", \"Yous\"];\n",
    "let inputNames = friend(input);\n",
    "console.log(inputNames);"
   ]
  }
 ],
 "metadata": {
  "kernelspec": {
   "display_name": "Python 3 (ipykernel)",
   "language": "python",
   "name": "python3"
  },
  "language_info": {
   "codemirror_mode": {
    "name": "ipython",
    "version": 3
   },
   "file_extension": ".py",
   "mimetype": "text/x-python",
   "name": "python",
   "nbconvert_exporter": "python",
   "pygments_lexer": "ipython3",
   "version": "3.11.4"
  }
 },
 "nbformat": 4,
 "nbformat_minor": 5
}

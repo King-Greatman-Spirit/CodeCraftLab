{
 "cells": [
  {
   "cell_type": "markdown",
   "id": "44c87b70",
   "metadata": {},
   "source": [
    "DESCRIPTION:\n",
    "Well met with Fibonacci bigger brother, AKA Tribonacci.\n",
    "\n",
    "As the name may already reveal, it works basically like a Fibonacci, but summing the last 3 (instead of 2) numbers of the sequence to generate the next. And, worse part of it, regrettably I won't get to hear non-native Italian speakers trying to pronounce it :(\n",
    "\n",
    "So, if we are to start our Tribonacci sequence with [1, 1, 1] as a starting input (AKA signature), we have this sequence:\n",
    "\n",
    "[1, 1 ,1, 3, 5, 9, 17, 31, ...]\n",
    "But what if we started with [0, 0, 1] as a signature? As starting with [0, 1] instead of [1, 1] basically shifts the common Fibonacci sequence by once place, you may be tempted to think that we would get the same sequence shifted by 2 places, but that is not the case and we would get:\n",
    "\n",
    "[0, 0, 1, 1, 2, 4, 7, 13, 24, ...]\n",
    "Well, you may have guessed it by now, but to be clear: you need to create a fibonacci function that given a signature array/list, returns the first n elements - signature included of the so seeded sequence.\n",
    "\n",
    "Signature will always contain 3 numbers; n will always be a non-negative number; if n == 0, then return an empty array (except in C return NULL) and be ready for anything else which is not clearly specified ;)\n",
    "\n",
    "If you enjoyed this kata more advanced and generalized version of it can be found in the Xbonacci kata\n",
    "\n",
    "[Personal thanks to Professor Jim Fowler on Coursera for his awesome classes that I really recommend to any math enthusiast and for showing me this mathematical curiosity too with his usual contagious passion :)]"
   ]
  },
  {
   "cell_type": "code",
   "execution_count": 1,
   "id": "968470fa",
   "metadata": {},
   "outputs": [
    {
     "name": "stdout",
     "output_type": "stream",
     "text": [
      "[1, 1, 1, 3, 5, 9, 17, 31, 57, 105]\n",
      "[0, 0, 1, 1, 2, 4, 7, 13, 24, 44]\n",
      "[]\n"
     ]
    }
   ],
   "source": [
    "# Defines a function named tribonacci that takes two parameters:\n",
    "# 1. signature: a list containing the first three numbers of the Tribonacci sequence.\n",
    "# 2. n: the number of elements to generate in the Tribonacci sequence.\n",
    "def tribonacci(signature, n):\n",
    "    # Continues looping until the length of the signature list is less than n.\n",
    "    while len(signature) < n:\n",
    "        # Calculates the next Tribonacci number by summing the last three numbers in the signature list,\n",
    "        # and appends it to the signature list.\n",
    "        signature.append(sum(signature[-3:]))\n",
    "    # Returns the first n elements of the signature list.\n",
    "    return signature[:n]\n",
    "\n",
    "    \n",
    "    \n",
    "    \n",
    "# Example usage and testing:\n",
    "print(tribonacci([1, 1, 1], 10))  # Output should be [1, 1, 1, 3, 5, 9, 17, 31, 57, 105]\n",
    "print(tribonacci([0, 0, 1], 10))  # Output should be [0, 0, 1, 1, 2, 4, 7, 13, 24, 44]\n",
    "print(tribonacci([1, 2, 3], 0))   # Output should be []\n"
   ]
  },
  {
   "cell_type": "code",
   "execution_count": 2,
   "id": "a8fc1e52",
   "metadata": {},
   "outputs": [
    {
     "name": "stdout",
     "output_type": "stream",
     "text": [
      "[1, 1, 1, 3, 5, 9, 17, 31, 57, 105]\n",
      "[0, 0, 1, 1, 2, 4, 7, 13, 24, 44]\n",
      "[]\n"
     ]
    }
   ],
   "source": [
    "def tribonacci(signature, n):\n",
    "    # If n is 0, return an empty list\n",
    "    if n ==0:\n",
    "        return []\n",
    "    # If n is <= 3, return the 1st n elements of the signature\n",
    "    elif n <=3:\n",
    "        return signature[:n]                 \n",
    "    else:\n",
    "        #Init a list to store the Tribonacci sequence, starting with the signature.\n",
    "        sequence = signature[:]\n",
    "        # Iterate n - 3 times to generate the remianing elements of the sequence.\n",
    "        for i in range(n - 3):\n",
    "            # Calculate the next Tribonacci number by summing the last 3 numbers in the sequence\n",
    "            next_number = sum(sequence[-3:])\n",
    "            # Append the next Tribonacci to the sequence\n",
    "            sequence.append(next_number)\n",
    "        return sequence\n",
    "    \n",
    "# Example usage and testing:\n",
    "print(tribonacci([1, 1, 1], 10))  # Output should be [1, 1, 1, 3, 5, 9, 17, 31, 57, 105]\n",
    "print(tribonacci([0, 0, 1], 10))  # Output should be [0, 0, 1, 1, 2, 4, 7, 13, 24, 44]\n",
    "print(tribonacci([1, 2, 3], 0))   # Output should be []"
   ]
  },
  {
   "cell_type": "markdown",
   "id": "ffb606e1",
   "metadata": {},
   "source": [
    "JAVASCRIPT"
   ]
  },
  {
   "cell_type": "code",
   "execution_count": null,
   "id": "c6ee51ad",
   "metadata": {},
   "outputs": [],
   "source": [
    "function tribonacci(signature,n){\n",
    "  //If n is 0, return an empty array\n",
    "  if (n == 0) {\n",
    "    return [];\n",
    "  }\n",
    "  // If n is <= 3, return the 1st n elements of the signature\n",
    "  else if (n <= 3) {\n",
    "    return signature.slice(0, n);\n",
    "  } else {\n",
    "    // Init an array to sotre the Tribonacci sequence, starting with the signature.\n",
    "    let sequence = signature.slice();\n",
    "    // Iterate n - 3 times to generate the remaining elements of the sequence.\n",
    "    for (let i = 3; i<n; i++) {\n",
    "      // Calculate the next Tribonacci number by summing the last 3 numbers in the sequence.\n",
    "      let nextNumber = sequence[i - 1] + sequence[i - 2] + sequence[i - 3];\n",
    "      // Append the next Tribonacci number to the sequence.\n",
    "      sequence.push(nextNumber);\n",
    "      \n",
    "    }\n",
    "    return sequence;\n",
    "  }\n",
    "}\n",
    "\n",
    "// Example usage and testing:\n",
    "console.log(tribonacci([1, 1, 1], 10));  // Output should be [1, 1, 1, 3, 5, 9, 17, 31, 57, 105]\n",
    "console.log(tribonacci([0, 0, 1], 10));  // Output should be [0, 0, 1, 1, 2, 4, 7, 13, 24, 44]\n",
    "console.log(tribonacci([1, 2, 3], 0));   // Output should be []"
   ]
  },
  {
   "cell_type": "code",
   "execution_count": null,
   "id": "4e350727",
   "metadata": {},
   "outputs": [],
   "source": [
    "function tribonacci(signature,n){  \n",
    "  for (var i = 0; i < n-3; i++) { // iterate n times\n",
    "    signature.push(signature[i] + signature[i+1] + signature[i+2]); // add last 3 array items and push to trib\n",
    "  }\n",
    "  return signature.slice(0, n); //return trib - length of n\n",
    "}"
   ]
  },
  {
   "cell_type": "code",
   "execution_count": null,
   "id": "1812dfb1",
   "metadata": {},
   "outputs": [],
   "source": []
  },
  {
   "cell_type": "code",
   "execution_count": null,
   "id": "69b2af9e",
   "metadata": {},
   "outputs": [],
   "source": []
  }
 ],
 "metadata": {
  "kernelspec": {
   "display_name": "Python 3 (ipykernel)",
   "language": "python",
   "name": "python3"
  },
  "language_info": {
   "codemirror_mode": {
    "name": "ipython",
    "version": 3
   },
   "file_extension": ".py",
   "mimetype": "text/x-python",
   "name": "python",
   "nbconvert_exporter": "python",
   "pygments_lexer": "ipython3",
   "version": "3.11.4"
  }
 },
 "nbformat": 4,
 "nbformat_minor": 5
}

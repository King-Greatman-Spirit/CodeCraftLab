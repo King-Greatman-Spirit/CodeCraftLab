{
 "cells": [
  {
   "cell_type": "code",
   "execution_count": null,
   "id": "a6ba503d",
   "metadata": {},
   "outputs": [],
   "source": [
    "Consider an array/list of sheep where some sheep may be missing from their place. \n",
    "We need a function that counts the number of sheep present in the array (true means present).\n",
    "\n",
    "For example,\n",
    "\n",
    "[True,  True,  True,  False,\n",
    "  True,  True,  True,  True ,\n",
    "  True,  False, True,  False,\n",
    "  True,  False, False, True ,\n",
    "  True,  True,  True,  True ,\n",
    "  False, False, True,  True]\n",
    "The correct answer would be 17.\n",
    "\n",
    "Hint: Don't forget to check for bad values like null/undefined"
   ]
  },
  {
   "cell_type": "code",
   "execution_count": 8,
   "id": "0e3390e6",
   "metadata": {},
   "outputs": [
    {
     "name": "stdout",
     "output_type": "stream",
     "text": [
      "7\n"
     ]
    }
   ],
   "source": [
    "def count_sheeps(sheep):\n",
    "  # TODO May the force be with you\n",
    "    count = 0\n",
    "    for num in sheep:\n",
    "        if num == False:\n",
    "            count += 1\n",
    "    return count\n",
    "\n",
    "sheep = [True,  True,  True,  False,\n",
    "  True,  True,  True,  True ,\n",
    "  True,  False, True,  False,\n",
    "  True,  False, False, True ,\n",
    "  True,  True,  True,  True ,\n",
    "  False, False, True,  True]\n",
    "print(count_sheeps(sheep))"
   ]
  },
  {
   "cell_type": "code",
   "execution_count": 9,
   "id": "36a110a4",
   "metadata": {},
   "outputs": [
    {
     "name": "stdout",
     "output_type": "stream",
     "text": [
      "Number of sheep present: 17\n",
      "Number of missing sheep: 7\n"
     ]
    }
   ],
   "source": [
    "def count_sheeps(sheep):\n",
    "    count_true = 0  # Initialize count for True to zero\n",
    "    count_false = 0  # Initialize count for False to zero\n",
    "    \n",
    "    for status in sheep:\n",
    "        if status is True:\n",
    "            count_true += 1\n",
    "        elif status is False:\n",
    "            count_false += 1\n",
    "\n",
    "    print(f\"Number of sheep present: {count_true}\")\n",
    "    print(f\"Number of missing sheep: {count_false}\")\n",
    "\n",
    "sheep = [True,  True,  True,  False,\n",
    "         True,  True,  True,  True ,\n",
    "         True,  False, True,  False,\n",
    "         True,  False, False, True ,\n",
    "         True,  True,  True,  True ,\n",
    "         False, False, True,  True]\n",
    "\n",
    "count_sheeps(sheep)\n"
   ]
  },
  {
   "cell_type": "code",
   "execution_count": 7,
   "id": "1e3079bc",
   "metadata": {},
   "outputs": [
    {
     "name": "stdout",
     "output_type": "stream",
     "text": [
      "17\n"
     ]
    }
   ],
   "source": [
    "def count_sheeps(sheep):\n",
    "    count = 0  # Initialize count to zero\n",
    "    for num in sheep:\n",
    "        if num == True:\n",
    "            count += 1\n",
    "    return count  # Return the count, not num\n",
    "\n",
    "sheep = [True,  True,  True,  False,\n",
    "         True,  True,  True,  True ,\n",
    "         True,  False, True,  False,\n",
    "         True,  False, False, True ,\n",
    "         True,  True,  True,  True ,\n",
    "         False, False, True,  True]\n",
    "\n",
    "print(count_sheeps(sheep))\n"
   ]
  },
  {
   "cell_type": "code",
   "execution_count": null,
   "id": "6e3a4c2f",
   "metadata": {},
   "outputs": [],
   "source": [
    "function countSheeps(sheep) {\n",
    "    let count = 0 // initialize count to zero\n",
    "    for(num=0; num++; num<length){\n",
    "        if (num === True){\n",
    "            count = count + 1;\n",
    "        }\n",
    "    }\n",
    "    return count;\n",
    "}"
   ]
  },
  {
   "cell_type": "code",
   "execution_count": null,
   "id": "ca037537",
   "metadata": {},
   "outputs": [],
   "source": [
    "function countSheeps(sheep) {\n",
    "    let count = 0; // initialize count to zero\n",
    "    \n",
    "    for (let i = 0; i < sheep.length; i++) {\n",
    "        if (sheep[i] === true) {\n",
    "            count = count + 1;\n",
    "        }\n",
    "    }\n",
    "\n",
    "    return count;\n",
    "}\n",
    "\n",
    "const sheepArray = [true, true, true, false, true, true, true, true, true, false, true, false, true, false, false, true, true, true, true, false, false, true, true];\n",
    "const result = countSheeps(sheepArray);\n",
    "console.log(result);\n"
   ]
  },
  {
   "cell_type": "code",
   "execution_count": null,
   "id": "5b68c6ab",
   "metadata": {},
   "outputs": [],
   "source": [
    "function countSheeps(sheep) {\n",
    "    let count = 0 // initialize count to zero\n",
    "    for(let num=0; num<sheep.length; num++){\n",
    "        if (sheep[num] === true){\n",
    "            count = count + 1;\n",
    "        }\n",
    "    }\n",
    "    return count;\n",
    "}"
   ]
  },
  {
   "cell_type": "code",
   "execution_count": 1,
   "id": "60b14ea1",
   "metadata": {},
   "outputs": [],
   "source": [
    "%load_ext sql"
   ]
  },
  {
   "cell_type": "code",
   "execution_count": 2,
   "id": "69fbcd1e",
   "metadata": {},
   "outputs": [
    {
     "ename": "SyntaxError",
     "evalue": "invalid syntax (1292341901.py, line 1)",
     "output_type": "error",
     "traceback": [
      "\u001b[1;36m  Cell \u001b[1;32mIn[2], line 1\u001b[1;36m\u001b[0m\n\u001b[1;33m    -- Create the function to count vowels\u001b[0m\n\u001b[1;37m              ^\u001b[0m\n\u001b[1;31mSyntaxError\u001b[0m\u001b[1;31m:\u001b[0m invalid syntax\n"
     ]
    }
   ],
   "source": [
    "-- Create the function to count vowels\n",
    "DELIMITER //\n",
    "CREATE FUNCTION getCountVowels(inputString VARCHAR(255))\n",
    "RETURNS INT\n",
    "BEGIN\n",
    "  -- Declare a variable to store the count of vowels\n",
    "  DECLARE vowelCount INT DEFAULT 0;\n",
    "  -- Define a string containing all lowercase and uppercase vowels\n",
    "  DECLARE vowels VARCHAR(10) DEFAULT 'aeiouAEIOU';\n",
    "\n",
    "  -- Loop through each character in the input string\n",
    "  my_loop: LOOP\n",
    "    -- Check if the character is a vowel\n",
    "    IF LOCATE(SUBSTRING(inputString, 1, 1), vowels) > 0 THEN\n",
    "      -- Increment the vowel count if the character is a vowel\n",
    "      SET vowelCount = vowelCount + 1;\n",
    "    END IF;\n",
    "\n",
    "    -- Move to the next character in the string\n",
    "    SET inputString = SUBSTRING(inputString, 2);\n",
    "    \n",
    "    -- Exit the loop when the string is empty\n",
    "    IF LENGTH(inputString) = 0 THEN\n",
    "      LEAVE my_loop;\n",
    "    END IF;\n",
    "  END LOOP my_loop;\n",
    "\n",
    "  -- Return the final count of vowels in the string\n",
    "  RETURN vowelCount;\n",
    "END //\n",
    "DELIMITER ;\n",
    "\n",
    "-- Use the function to update the 'getcount' table\n",
    "UPDATE getcount\n",
    "SET res = getCountVowels(str);\n",
    "\n",
    "-- Alternatively, create a new table with the result\n",
    "CREATE TABLE result AS\n",
    "SELECT str, getCountVowels(str) AS res\n",
    "FROM getcount;\n"
   ]
  },
  {
   "cell_type": "code",
   "execution_count": null,
   "id": "c497d110",
   "metadata": {},
   "outputs": [],
   "source": []
  }
 ],
 "metadata": {
  "kernelspec": {
   "display_name": "Python 3 (ipykernel)",
   "language": "python",
   "name": "python3"
  },
  "language_info": {
   "codemirror_mode": {
    "name": "ipython",
    "version": 3
   },
   "file_extension": ".py",
   "mimetype": "text/x-python",
   "name": "python",
   "nbconvert_exporter": "python",
   "pygments_lexer": "ipython3",
   "version": "3.11.4"
  }
 },
 "nbformat": 4,
 "nbformat_minor": 5
}

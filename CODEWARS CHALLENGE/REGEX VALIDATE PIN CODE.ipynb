{
 "cells": [
  {
   "cell_type": "markdown",
   "id": "f80bfde2",
   "metadata": {},
   "source": [
    "ATM machines allow 4 or 6 digit PIN codes and PIN codes cannot contain anything but exactly 4 digits or exactly 6 digits.\n",
    "\n",
    "If the function is passed a valid PIN string, return true, else return false.\n",
    "\n",
    "Examples (Input --> Output)\n",
    "\"1234\"   -->  true\n",
    "\"12345\"  -->  false\n",
    "\"a234\"   -->  false"
   ]
  },
  {
   "cell_type": "code",
   "execution_count": 1,
   "id": "a7e625e0",
   "metadata": {},
   "outputs": [
    {
     "name": "stdout",
     "output_type": "stream",
     "text": [
      "True\n",
      "False\n",
      "False\n"
     ]
    }
   ],
   "source": [
    "def validate_pin(pin):\n",
    "    # Check if the PIN has exactly 4 or 6 digits and consists only of digits\n",
    "    return (len(pin) == 4 or len(pin) == 6) and pin.isdigit()\n",
    "\n",
    "# Examples\n",
    "print(validate_pin(\"1234\"))   # Output: True\n",
    "print(validate_pin(\"12345\"))  # Output: False\n",
    "print(validate_pin(\"a234\"))   # Output: False\n"
   ]
  },
  {
   "cell_type": "code",
   "execution_count": null,
   "id": "a43b763b",
   "metadata": {},
   "outputs": [],
   "source": [
    "function validatePIN(pin) {\n",
    "    // Check if the PIN has exactly 4 or 6 digits and consists only of digits\n",
    "    return (pin.length === 4 || pin.length === 6) && /^\\d+$/.test(pin);\n",
    "}\n",
    "\n",
    "// Examples\n",
    "console.log(validatePIN(\"1234\"));   // Output: true\n",
    "console.log(validatePIN(\"12345\"));  // Output: false\n",
    "console.log(validatePIN(\"a234\"));   // Output: false\n"
   ]
  }
 ],
 "metadata": {
  "kernelspec": {
   "display_name": "Python 3 (ipykernel)",
   "language": "python",
   "name": "python3"
  },
  "language_info": {
   "codemirror_mode": {
    "name": "ipython",
    "version": 3
   },
   "file_extension": ".py",
   "mimetype": "text/x-python",
   "name": "python",
   "nbconvert_exporter": "python",
   "pygments_lexer": "ipython3",
   "version": "3.11.4"
  }
 },
 "nbformat": 4,
 "nbformat_minor": 5
}

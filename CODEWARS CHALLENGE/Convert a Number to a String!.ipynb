{
 "cells": [
  {
   "cell_type": "code",
   "execution_count": 6,
   "id": "751622af",
   "metadata": {},
   "outputs": [
    {
     "name": "stdout",
     "output_type": "stream",
     "text": [
      "123\n"
     ]
    }
   ],
   "source": [
    "# We need a function that can transform a number (integer) into a string.\n",
    "\n",
    "# What ways of achieving this do you know?\n",
    "\n",
    "# Examples (input --> output):\n",
    "# 123  --> \"123\"\n",
    "# 999  --> \"999\"\n",
    "# -100 --> \"-100\"\n",
    "\n",
    "\n",
    "def number_to_string(num):\n",
    "    # Convert the number to a string using str() function\n",
    "    return str(num)\n",
    "    \n",
    "# Example usage\n",
    "num = 123\n",
    "result = number_to_string(num)\n",
    "print(result)  # Output: \"123\""
   ]
  },
  {
   "cell_type": "code",
   "execution_count": 7,
   "id": "c35539d0",
   "metadata": {},
   "outputs": [
    {
     "name": "stdout",
     "output_type": "stream",
     "text": [
      "Type of variable before conversion :  <class 'int'>\n",
      "Type After conversion :  <class 'str'>\n"
     ]
    }
   ],
   "source": [
    "num = 123\n",
    "# check  and print type of num variable\n",
    "print(\"Type of variable before conversion : \", type(num)) \n",
    "\n",
    "# convert the num into string\n",
    "converted_num = str(num)\n",
    " \n",
    "# check  and print type converted_num variable\n",
    "print(\"Type After conversion : \",type(converted_num))"
   ]
  },
  {
   "cell_type": "code",
   "execution_count": null,
   "id": "d64fccaf",
   "metadata": {},
   "outputs": [],
   "source": [
    "function numberToString(num) {\n",
    "  // Return a string of the number here!\n",
    "  return num.toString(); // or String(num);\n",
    "}\n",
    "\n",
    "// Example usage\n",
    "let num = 123;\n",
    "let result = numberToString(num);\n",
    "console.log(result); // Output: \"123\"\n"
   ]
  }
 ],
 "metadata": {
  "kernelspec": {
   "display_name": "Python 3 (ipykernel)",
   "language": "python",
   "name": "python3"
  },
  "language_info": {
   "codemirror_mode": {
    "name": "ipython",
    "version": 3
   },
   "file_extension": ".py",
   "mimetype": "text/x-python",
   "name": "python",
   "nbconvert_exporter": "python",
   "pygments_lexer": "ipython3",
   "version": "3.11.4"
  }
 },
 "nbformat": 4,
 "nbformat_minor": 5
}

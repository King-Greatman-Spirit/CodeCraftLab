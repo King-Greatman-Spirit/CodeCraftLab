{
 "cells": [
  {
   "cell_type": "markdown",
   "id": "27b56d9f",
   "metadata": {},
   "source": [
    "In this example you have to validate if a user input string is alphanumeric. The given string is not \n",
    "\n",
    "nil/null/NULL/None, \n",
    "\n",
    "so you don't have to check that.\n",
    "\n",
    "The string has the following conditions to be alphanumeric:\n",
    "\n",
    "At least one character (\"\" is not valid)\n",
    "\n",
    "Allowed characters are uppercase / lowercase latin \n",
    "letters and digits from 0 to 9\n",
    "\n",
    "No whitespaces / underscore"
   ]
  },
  {
   "cell_type": "code",
   "execution_count": 1,
   "id": "a3a4274d",
   "metadata": {},
   "outputs": [
    {
     "name": "stdout",
     "output_type": "stream",
     "text": [
      "True\n",
      "False\n",
      "False\n"
     ]
    }
   ],
   "source": [
    "def alphanumeric(password):\n",
    "    # Check if the password contians at least one character\n",
    "    if len(password) == 0:\n",
    "        return False\n",
    "    \n",
    "    # Iterate through each char in the password\n",
    "    for char in password:\n",
    "        # Check if the char is not alpha numeric:\n",
    "        if not char.isalnum():\n",
    "            return False\n",
    "        \n",
    "    # If all characters are alphanumeric, return True\n",
    "    return True\n",
    "\n",
    "# Example usage and testing:\n",
    "print(alphanumeric(\"abc123\"))  # Output should be True\n",
    "print(alphanumeric(\"hello world\"))  # Output should be False (contains whitespace)\n",
    "print(alphanumeric(\"123_456\"))  # Output should be False (contains underscore)"
   ]
  },
  {
   "cell_type": "markdown",
   "id": "0cdb8db5",
   "metadata": {},
   "source": [
    "## JAVASCRIPT SOLUTION"
   ]
  },
  {
   "cell_type": "code",
   "execution_count": null,
   "id": "e0bfbe44",
   "metadata": {},
   "outputs": [],
   "source": [
    "function alphanumeric(password {\n",
    "    // Check if the password contians at least one char\n",
    "    if (password.length === 0) {\n",
    "        return false;\n",
    "    } \n",
    "    \n",
    "    / Iterate through each char in the password\n",
    "    for (let char of password) {\n",
    "        // Check if the char is not alphanumeric\n",
    "        if (!/[a-zA-Z0-9]/).test(char) {\n",
    "            return false;\n",
    "        }\n",
    "    }\n",
    "    \n",
    "    // If al chars are alphanumeric, return true\n",
    "    return true;\n",
    "})\n",
    "\n",
    "// Example usage and testing:\n",
    "console.log(alphanumeric(\"abc123\"));     // Output should be true\n",
    "console.log(alphanumeric(\"hello world\"));// Output should be false (contains whitespace)\n",
    "console.log(alphanumeric(\"123_456\"));    // Output should be false (contains underscore)"
   ]
  }
 ],
 "metadata": {
  "kernelspec": {
   "display_name": "Python 3 (ipykernel)",
   "language": "python",
   "name": "python3"
  },
  "language_info": {
   "codemirror_mode": {
    "name": "ipython",
    "version": 3
   },
   "file_extension": ".py",
   "mimetype": "text/x-python",
   "name": "python",
   "nbconvert_exporter": "python",
   "pygments_lexer": "ipython3",
   "version": "3.11.4"
  }
 },
 "nbformat": 4,
 "nbformat_minor": 5
}

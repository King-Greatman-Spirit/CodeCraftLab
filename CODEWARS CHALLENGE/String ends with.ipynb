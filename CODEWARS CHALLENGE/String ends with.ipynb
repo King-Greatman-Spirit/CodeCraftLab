{
 "cells": [
  {
   "cell_type": "markdown",
   "id": "11691c22",
   "metadata": {},
   "source": [
    "DESCRIPTION:\n",
    "Complete the solution so that it returns true if the first argument(string) passed in ends with the 2nd argument (also a string).\n",
    "\n",
    "Examples:\n",
    "\n",
    "solution('abc', 'bc') # returns true\n",
    "#### solution('abc', 'd') # return false"
   ]
  },
  {
   "cell_type": "code",
   "execution_count": 3,
   "id": "0786c6eb",
   "metadata": {},
   "outputs": [
    {
     "name": "stdout",
     "output_type": "stream",
     "text": [
      "True\n",
      "False\n",
      "False\n"
     ]
    }
   ],
   "source": [
    "# python\n",
    "def solution(text, ending):\n",
    "    # check if the guven text ends with the specified ending\n",
    "    return text.endswith(ending)\n",
    "\n",
    "# Examples\n",
    "solution_1 = solution('abc', 'bc')\n",
    "solution_2 = solution('abc', 'd')\n",
    "solution_3 = solution('abc', 'ab')\n",
    "\n",
    "print(solution_1)\n",
    "print(solution_2)\n",
    "print(solution_3)"
   ]
  },
  {
   "cell_type": "code",
   "execution_count": null,
   "id": "eee333be",
   "metadata": {},
   "outputs": [],
   "source": [
    "// javascript\n",
    "function solution(text, ending) {\n",
    "    // check if the text ends with the specified ending\n",
    "    return text.endsWith(endings);\n",
    "}\n",
    "\n",
    "//Examples\n",
    "const solution_1 = solution('abc', 'bc');\n",
    "const solution_2 = solution('abc', 'd');\n",
    "const solution_3 = solution('abc', 'ab');\n",
    "\n",
    "console.log(solution_1);\n",
    "console.log(solution_2);\n",
    "console.log(solution_3);"
   ]
  }
 ],
 "metadata": {
  "kernelspec": {
   "display_name": "Python 3 (ipykernel)",
   "language": "python",
   "name": "python3"
  },
  "language_info": {
   "codemirror_mode": {
    "name": "ipython",
    "version": 3
   },
   "file_extension": ".py",
   "mimetype": "text/x-python",
   "name": "python",
   "nbconvert_exporter": "python",
   "pygments_lexer": "ipython3",
   "version": "3.11.4"
  }
 },
 "nbformat": 4,
 "nbformat_minor": 5
}

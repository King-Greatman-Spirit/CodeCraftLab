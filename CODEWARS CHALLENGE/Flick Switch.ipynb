{
 "cells": [
  {
   "cell_type": "code",
   "execution_count": null,
   "id": "735cdfc0",
   "metadata": {},
   "outputs": [],
   "source": [
    "DESCRIPTION:\n",
    "Task\n",
    "Create a function that always returns true for every item in a given list. However, \n",
    "if an element is the word \"flick\", switch to always returning the opposite boolean value.\n",
    "\n",
    "Examples\n",
    "['codewars', 'flick', 'code', 'wars'] ➞ [True, False, False, False]\n",
    "\n",
    "['flick', 'chocolate', 'adventure', 'sunshine'] ➞ [False, False, False, False]\n",
    "\n",
    "['bicycle', 'jarmony', 'flick', 'sheep', 'flick'] ➞ [True, True, False, False, True]\n",
    "\n",
    "Notes\n",
    "\"flick\" will always be given in lowercase.\n",
    "A list may contain multiple flicks.\n",
    "Switch the boolean value on the same element as the flick itself."
   ]
  },
  {
   "cell_type": "code",
   "execution_count": 2,
   "id": "b5b06553",
   "metadata": {},
   "outputs": [
    {
     "name": "stdout",
     "output_type": "stream",
     "text": [
      "[False, True, True, True]\n",
      "[True, True, True, True]\n",
      "[False, False, True, True, False]\n"
     ]
    }
   ],
   "source": [
    "def flick_switch(lst):\n",
    "    switch = False\n",
    "    result = []\n",
    "\n",
    "    for item in lst:\n",
    "        if item == 'flick':\n",
    "            switch = not switch\n",
    "        result.append(switch)\n",
    "\n",
    "    return result\n",
    "\n",
    "# Examples\n",
    "print(flick_switch(['codewars', 'flick', 'code', 'wars']))  # Output: [True, False, False, False]\n",
    "print(flick_switch(['flick', 'chocolate', 'adventure', 'sunshine']))  # Output: [False, False, False, False]\n",
    "print(flick_switch(['bicycle', 'jarmony', 'flick', 'sheep', 'flick']))  # Output: [True, True, False, False, True]"
   ]
  },
  {
   "cell_type": "code",
   "execution_count": 1,
   "id": "1bd3cc98",
   "metadata": {},
   "outputs": [
    {
     "name": "stdout",
     "output_type": "stream",
     "text": [
      "[True, False, False, False]\n",
      "[False, False, False, False]\n",
      "[True, True, False, False, True]\n"
     ]
    }
   ],
   "source": [
    "def flick_switch(arr):\n",
    "    switch = True\n",
    "    result = []\n",
    "\n",
    "    for item in arr:\n",
    "        if item == 'flick':\n",
    "            switch = not switch\n",
    "        result.append(switch)\n",
    "\n",
    "    return result\n",
    "\n",
    "# Examples\n",
    "print(flick_switch(['codewars', 'flick', 'code', 'wars']))  # Output: [True, False, False, False]\n",
    "print(flick_switch(['flick', 'chocolate', 'adventure', 'sunshine']))  # Output: [False, False, False, False]\n",
    "print(flick_switch(['bicycle', 'jarmony', 'flick', 'sheep', 'flick']))  # Output: [True, True, False, False, True]\n"
   ]
  },
  {
   "cell_type": "code",
   "execution_count": 3,
   "id": "750df3a9",
   "metadata": {},
   "outputs": [
    {
     "name": "stdout",
     "output_type": "stream",
     "text": [
      "[True, False, False, False]\n",
      "[False, False, False, False]\n",
      "[True, True, False, False, True]\n"
     ]
    }
   ],
   "source": [
    "def flick_switch(arr):\n",
    "    # Initialize a boolean switch variable to True\n",
    "    switch = True\n",
    "    # Initialize an empty list to store the results\n",
    "    result = []\n",
    "\n",
    "    # Iterate through each item in the input list\n",
    "    for item in arr:\n",
    "        # Check if the item is 'flick'\n",
    "        if item == 'flick':\n",
    "            # If 'flick' is encountered, toggle the boolean switch\n",
    "            switch = not switch\n",
    "        # Append the current value of the switch to the result list\n",
    "        result.append(switch)\n",
    "\n",
    "    # Return the final result list\n",
    "    return result\n",
    "\n",
    "# Examples\n",
    "print(flick_switch(['codewars', 'flick', 'code', 'wars']))  # Output: [True, False, False, False]\n",
    "print(flick_switch(['flick', 'chocolate', 'adventure', 'sunshine']))  # Output: [False, False, False, False]\n",
    "print(flick_switch(['bicycle', 'jarmony', 'flick', 'sheep', 'flick']))  # Output: [True, True, False, False, True]\n"
   ]
  },
  {
   "cell_type": "code",
   "execution_count": null,
   "id": "5708eb6d",
   "metadata": {},
   "outputs": [],
   "source": [
    "function flickSwitch(arr) {\n",
    "    // Initialize a boolean switch variable to true\n",
    "    let switchValue = true;\n",
    "    // Use map to iterate through each item in the input array\n",
    "    return arr.map(item => {\n",
    "        // Check if the item is 'flick'\n",
    "        if (item === 'flick') {\n",
    "            // If 'flick' is encountered, toggle the boolean switch\n",
    "            switchValue = !switchValue;\n",
    "        }\n",
    "        // Return the current value of the switch\n",
    "        return switchValue;\n",
    "    });\n",
    "}\n",
    "\n",
    "// Examples\n",
    "console.log(flickSwitch(['codewars', 'flick', 'code', 'wars']));  // Output: [true, false, false, false]\n",
    "console.log(flickSwitch(['flick', 'chocolate', 'adventure', 'sunshine']));  // Output: [false, false, false, false]\n",
    "console.log(flickSwitch(['bicycle', 'jarmony', 'flick', 'sheep', 'flick']));  // Output: [true, true, false, false, true]\n"
   ]
  }
 ],
 "metadata": {
  "kernelspec": {
   "display_name": "Python 3 (ipykernel)",
   "language": "python",
   "name": "python3"
  },
  "language_info": {
   "codemirror_mode": {
    "name": "ipython",
    "version": 3
   },
   "file_extension": ".py",
   "mimetype": "text/x-python",
   "name": "python",
   "nbconvert_exporter": "python",
   "pygments_lexer": "ipython3",
   "version": "3.11.4"
  }
 },
 "nbformat": 4,
 "nbformat_minor": 5
}

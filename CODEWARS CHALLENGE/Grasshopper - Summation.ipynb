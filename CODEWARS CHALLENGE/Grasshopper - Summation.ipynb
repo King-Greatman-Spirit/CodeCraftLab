{
 "cells": [
  {
   "cell_type": "code",
   "execution_count": null,
   "id": "04c45f24",
   "metadata": {},
   "outputs": [],
   "source": [
    "Write a program that finds the summation of every number from 1 to num. \n",
    "The number will always be a positive integer greater than 0.\n",
    "\n",
    "For example (Input -> Output):\n",
    "\n",
    "2 -> 3 (1 + 2)\n",
    "8 -> 36 (1 + 2 + 3 + 4 + 5 + 6 + 7 + 8)\n",
    "\n",
    "def summation(num):\n",
    "    pass # Code here\n",
    "\n"
   ]
  },
  {
   "cell_type": "code",
   "execution_count": 1,
   "id": "0924e9c6",
   "metadata": {},
   "outputs": [
    {
     "name": "stdout",
     "output_type": "stream",
     "text": [
      "3\n",
      "36\n"
     ]
    }
   ],
   "source": [
    "def summation(num):\n",
    "    # Using the formula for the sum of the first n natural numbers: n * (n + 1) / 2\n",
    "    return num * (num + 1) // 2\n",
    "\n",
    "# Example usage\n",
    "result_2 = summation(2)\n",
    "print(result_2)  # Output: 3\n",
    "\n",
    "result_8 = summation(8)\n",
    "print(result_8)  # Output: 36\n"
   ]
  },
  {
   "cell_type": "code",
   "execution_count": null,
   "id": "e7bd15f0",
   "metadata": {},
   "outputs": [],
   "source": [
    "var summation = function (num) {\n",
    "  // Using the formula for the sum of the first n natural numbers: n * (n + 1) / 2\n",
    "    return num *(num + 1) / 2\n",
    "}\n",
    "\n",
    "// Example usage\n",
    "let result_2 = summation(2);\n",
    "console.log(result_2);  // Output: 3\n",
    "\n",
    "let result_8 = summation(8);\n",
    "console.log(result_8);  // Output: 36"
   ]
  }
 ],
 "metadata": {
  "kernelspec": {
   "display_name": "Python 3 (ipykernel)",
   "language": "python",
   "name": "python3"
  },
  "language_info": {
   "codemirror_mode": {
    "name": "ipython",
    "version": 3
   },
   "file_extension": ".py",
   "mimetype": "text/x-python",
   "name": "python",
   "nbconvert_exporter": "python",
   "pygments_lexer": "ipython3",
   "version": "3.11.4"
  }
 },
 "nbformat": 4,
 "nbformat_minor": 5
}
